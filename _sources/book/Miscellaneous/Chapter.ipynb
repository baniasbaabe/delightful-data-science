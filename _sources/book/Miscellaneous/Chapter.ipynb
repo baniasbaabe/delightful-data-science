{
 "cells": [
  {
   "attachments": {},
   "cell_type": "markdown",
   "metadata": {},
   "source": [
    "# Miscellaneous"
   ]
  },
  {
   "attachments": {},
   "cell_type": "markdown",
   "metadata": {},
   "source": [
    "## Must-Have VSCode Extensions for Python"
   ]
  },
  {
   "attachments": {},
   "cell_type": "markdown",
   "metadata": {},
   "source": [
    "Add these 8 must-have VSCode extensions when you work with Python to boost your productivity.\n",
    "\n",
    "1. 𝐏𝐲𝐭𝐡𝐨𝐧 𝐈𝐧𝐝𝐞𝐧𝐭: Makes sure your indentation is correct with every Enter you make\n",
    "\n",
    "2. 𝐏𝐲𝐥𝐚𝐧𝐜𝐞: A no-brainer. Includes many benefits like Parameter suggestions, Code navigation, Signature help, and many more. Microsoft declared it as the default language server for Python.\n",
    "\n",
    "3. 𝐆𝐢𝐭𝐋𝐞𝐧𝐬: Provides powerful features for your Git experience like seeing when a specific line was committed by whom in which pull request with which commit message. And much more. A must-have!\n",
    "\n",
    "4. 𝐉𝐮𝐩𝐲𝐭𝐞𝐫: Notebook supports and allows any Python environment to be used as a Jupyter kernel.\n",
    "\n",
    "5. 𝐀𝐑𝐄𝐏𝐋 𝐟𝐨𝐫 𝐏𝐲𝐭𝐡𝐨𝐧: Automatically evaluates Python code in real time as you type. Displays variables and errors in a readable way. Only works for Python >= 3.7.\n",
    "\n",
    "6. 𝐏𝐲𝐭𝐡𝐨𝐧 𝐏𝐚𝐭𝐡: Helps you generate internal import statements in a Python project.\n",
    "\n",
    "7. 𝐏𝐲𝐭𝐡𝐨𝐧 𝐓𝐞𝐬𝐭 𝐄𝐱𝐩𝐥𝐨𝐫𝐞𝐫: Shows a test explorer without effort instead of going through the output from the terminal.\n",
    "\n",
    "8. 𝐚𝐮𝐭𝐨𝐃𝐨𝐜𝐬𝐭𝐫𝐢𝐧𝐠: Quickly generate docstrings for your functions"
   ]
  },
  {
   "attachments": {},
   "cell_type": "markdown",
   "metadata": {},
   "source": [
    "## Project Setup from Templates with `cookiecutter`"
   ]
  },
  {
   "attachments": {},
   "cell_type": "markdown",
   "metadata": {},
   "source": [
    "Are you starting a new Data Science Project?\n",
    "\n",
    "And go through the hassle of setting up the project structure?\n",
    "\n",
    "Try `cookiecutter`.\n",
    "\n",
    "`cookiecutter` is a command-line tool to create projects from templates. \n",
    "\n",
    "This allows you to save time and have a standardized project structure.\n",
    "\n",
    "There are tons of `cookiecutter` projects on GitHub you can use.\n",
    "\n",
    "Say goodbye to tedious project setup.\n",
    "\n",
    "Link to `cookiecutter` repository: https://github.com/cookiecutter/cookiecutter\n",
    "\n",
    "Data Science `cookiecutter`: https://github.com/drivendata/cookiecutter-data-science"
   ]
  },
  {
   "attachments": {},
   "cell_type": "markdown",
   "metadata": {},
   "source": [
    "## Project Scaffolding with `smol-developer`"
   ]
  },
  {
   "attachments": {},
   "cell_type": "markdown",
   "metadata": {},
   "source": [
    "Do you want something like create-react-app, but for anything?\n",
    "\n",
    "Try `smol-developer` from smol-ai.\n",
    "\n",
    "`smol-developer` scaffolds an entire codebase, based on a Markdown file with your specifications.\n",
    "\n",
    "You describe, what kind of application you want to develop and it will create the necessary boilerplate code.\n",
    "\n",
    "Link to Repository: https://github.com/smol-ai/developer"
   ]
  }
 ],
 "metadata": {
  "language_info": {
   "name": "python"
  },
  "orig_nbformat": 4
 },
 "nbformat": 4,
 "nbformat_minor": 2
}
