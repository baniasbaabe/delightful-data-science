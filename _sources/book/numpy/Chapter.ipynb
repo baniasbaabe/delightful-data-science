{
 "cells": [
  {
   "cell_type": "markdown",
   "metadata": {},
   "source": [
    "# NumPy Tips and Tricks"
   ]
  },
  {
   "attachments": {},
   "cell_type": "markdown",
   "metadata": {},
   "source": [
    "## Achieve Reproducibility with `np.random.RandomState()`"
   ]
  },
  {
   "attachments": {},
   "cell_type": "markdown",
   "metadata": {},
   "source": [
    "Reproducibility in Data Science projects is key.\n",
    "\n",
    "For larger projects, use `numpy.random.RandomState()` to construct a random number generator.\n",
    "\n",
    "Using `numpy.random.seed()` sets the global random seed, which affects all uses to the `numpy.random.*` module.\n",
    "\n",
    "Imported packages or other modules can reset the global random seed to another one.\n",
    "\n",
    "This can result in undesirable and unreproducible results across your project.\n",
    "\n",
    "With `numpy.random.RandomState()`, you are not relying on the global random state anymore (which could be resetted).\n",
    "\n",
    "It's a subtle, but important step to achieve reproducibility."
   ]
  },
  {
   "cell_type": "code",
   "execution_count": null,
   "metadata": {},
   "outputs": [],
   "source": [
    "import numpy as np\n",
    "\n",
    "rng = np.random.RandomState(1234)\n",
    "\n",
    "print(rng.rand(3))"
   ]
  }
 ],
 "metadata": {
  "language_info": {
   "name": "python"
  },
  "orig_nbformat": 4
 },
 "nbformat": 4,
 "nbformat_minor": 2
}
