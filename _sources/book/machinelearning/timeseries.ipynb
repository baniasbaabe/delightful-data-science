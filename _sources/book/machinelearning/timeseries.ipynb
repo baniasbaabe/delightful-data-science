{
 "cells": [
  {
   "cell_type": "markdown",
   "metadata": {},
   "source": [
    "# Time Series"
   ]
  },
  {
   "cell_type": "markdown",
   "metadata": {},
   "source": [
    "## Check Seasonality automatically with `darts`"
   ]
  },
  {
   "attachments": {},
   "cell_type": "markdown",
   "metadata": {},
   "source": [
    "Seasonality describes a pattern that repeats regularly over time.\n",
    "\n",
    "Identifying and understanding the seasonality in time series can boost the performance of your model.\n",
    "\n",
    "But you don't have to find the seasonality effect and period by yourself.\n",
    "\n",
    "Instead, you can use `check_seasonality()` from `darts` in Python.\n",
    "\n",
    "It will check if the time series is seasonal and returns also the period, which is inferred from the Auto-correlation Function.\n",
    "\n",
    "In the example below, it will return a seasonal period of 12 (Air Passenger Dataset has a monthly frequency)."
   ]
  },
  {
   "cell_type": "code",
   "execution_count": null,
   "metadata": {},
   "outputs": [],
   "source": [
    "!pip install darts"
   ]
  },
  {
   "cell_type": "code",
   "execution_count": null,
   "metadata": {},
   "outputs": [],
   "source": [
    "from darts.utils.statistics import check_seasonality\n",
    "from darts.datasets import AirPassengersDataset\n",
    "\n",
    "ts = AirPassangersDataset().load()\n",
    "\n",
    "is_seasonal, period = check_seasonality(ts)"
   ]
  },
  {
   "attachments": {},
   "cell_type": "markdown",
   "metadata": {},
   "source": [
    "## Cross-validation for Time Series Data with `TimeSeriesSplit`"
   ]
  },
  {
   "attachments": {},
   "cell_type": "markdown",
   "metadata": {},
   "source": [
    "How to do Cross-Validation with Time Series?\n",
    "\n",
    "Using standard K-Fold Cross-Validation will not work.\n",
    "\n",
    "In this case, you would simply partition the data into k folds, and then train and evaluate the model k times, each time using a different fold as the test set and the rest of the data as the training set.\n",
    "\n",
    "But, this can lead to issues because the model will be trained on data that is both before and after the test data.\n",
    "\n",
    "This can result in overfitting or biased estimates of model performance\n",
    "\n",
    "Instead, use `TimeSeriesSplit` from scikit-learn.\n",
    "\n",
    "`TimeSeriesSplit` ensures that the model is only trained on the past values and tested on future data.\n",
    "\n",
    "This gives you a more accurate and less biased assessment of the model's performance."
   ]
  },
  {
   "cell_type": "code",
   "execution_count": null,
   "metadata": {},
   "outputs": [],
   "source": [
    "from sklearn.model_selection import TimeSeriesSplit, cross_validate\n",
    "from sklearn.ensemble import GradientBoostingRegressor\n",
    "\n",
    "X, y = ...\n",
    "model = GradientBoostingRegressor()\n",
    "\n",
    "ts_cv = TimeSeriesSplit(n_splits=3)\n",
    "\n",
    "scores = cross_validate(model, X, y, cv=ts_cv, scoring='neg_mean_squared_error')"
   ]
  },
  {
   "cell_type": "markdown",
   "metadata": {},
   "source": [
    "## More Cross-Validation with `tscv`"
   ]
  },
  {
   "cell_type": "markdown",
   "metadata": {},
   "source": [
    "How to do Cross-Validation with Time Series?\n",
    "\n",
    "Using standard K-Fold Cross-Validation will not work.\n",
    "\n",
    "In this case, you would simply partition the data into k folds, and then train and evaluate the model k times, each time using a different fold as the test set and the rest of the data as the training set.\n",
    "\n",
    "But, this can lead to issues because the model will be trained on data that is both before and after the test data.\n",
    "\n",
    "This can result in overfitting or biased estimates of model performance.\n",
    "\n",
    "Instead, use `tscv` package for Python.\n",
    "\n",
    "`tscv` offers methods for correct splitting of your data with 3 classes implemented:\n",
    "\n",
    "- `GapLeavePOut`\n",
    "- `GapKFold`\n",
    "- `GapRollForward`\n",
    "\n",
    "This gives you a more accurate and less biased assessment of the model’s performance."
   ]
  },
  {
   "cell_type": "code",
   "execution_count": null,
   "metadata": {},
   "outputs": [],
   "source": [
    "!pip install tscv"
   ]
  },
  {
   "cell_type": "code",
   "execution_count": null,
   "metadata": {},
   "outputs": [],
   "source": [
    "from tscv import GapRollForward\n",
    "cv = GapRollForward(min_train_size=3, gap_size=1, max_test_size=2)\n",
    "for train, test in cv.split(range(10)):\n",
    "    print(\"train:\", train, \"test:\", test)"
   ]
  },
  {
   "cell_type": "markdown",
   "metadata": {},
   "source": [
    "## Time Series Forecasting with Machine Learning with `mlforecast`"
   ]
  },
  {
   "cell_type": "markdown",
   "metadata": {},
   "source": [
    "Do you want to perform powerful time series forecasting?\n",
    "\n",
    "Try `mlforecast` by Nixtla.\n",
    "\n",
    "`mlforecast` lets you run Machine Learning models for time series forecasting, even on remote clusters like Ray or Spark.\n",
    "\n",
    "Feature Engineering, support for exogenous variables, and probabilistic forecasting are also included."
   ]
  },
  {
   "cell_type": "code",
   "execution_count": null,
   "metadata": {},
   "outputs": [],
   "source": [
    "!pip install mlforecast"
   ]
  },
  {
   "cell_type": "code",
   "execution_count": null,
   "metadata": {},
   "outputs": [],
   "source": [
    "import lightgbm as lgb\n",
    "\n",
    "from mlforecast import MLForecast\n",
    "from sklearn.linear_model import LinearRegression\n",
    "\n",
    "mlf = MLForecast(\n",
    "    models = [LinearRegression(), lgb.LGBMRegressor()],\n",
    "    lags=[1, 12],\n",
    "    freq = 'M'\n",
    ")\n",
    "mlf.fit(df)\n",
    "mlf.predict(12)"
   ]
  },
  {
   "cell_type": "markdown",
   "metadata": {},
   "source": [
    "## Lightning Fast Time Series Forecasting with `statsforecast`"
   ]
  },
  {
   "cell_type": "markdown",
   "metadata": {},
   "source": [
    "Do you want to perform lightning fast time series forecasting?\n",
    "\n",
    "Try `statsforecast` by Nixtla.\n",
    "\n",
    "`statsforecast` lets you run statistical models on your time series data.\n",
    "\n",
    "It’s up to 20x faster than existing libraries like pmdarima and statsmodels."
   ]
  },
  {
   "cell_type": "code",
   "execution_count": null,
   "metadata": {},
   "outputs": [],
   "source": [
    "!pip install statsforecast"
   ]
  },
  {
   "cell_type": "code",
   "execution_count": null,
   "metadata": {},
   "outputs": [],
   "source": [
    "from statsforecast import StatsForecast\n",
    "from statsforecast.models import AutoARIMA\n",
    "from statsforecast.utils import AirPassengersDF\n",
    "\n",
    "df = AirPassengersDF\n",
    "sf = StatsForecast(\n",
    "    models = [AutoARIMA(season_length = 12)],\n",
    "    freq = 'M'\n",
    ")\n",
    "\n",
    "sf.fit(df)\n",
    "sf.predict(h=12, level=[95])"
   ]
  }
 ],
 "metadata": {
  "language_info": {
   "name": "python"
  },
  "orig_nbformat": 4
 },
 "nbformat": 4,
 "nbformat_minor": 2
}
