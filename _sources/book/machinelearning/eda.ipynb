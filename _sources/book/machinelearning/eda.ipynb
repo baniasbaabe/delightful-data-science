{
 "cells": [
  {
   "attachments": {},
   "cell_type": "markdown",
   "metadata": {},
   "source": [
    "# EDA"
   ]
  },
  {
   "attachments": {},
   "cell_type": "markdown",
   "metadata": {},
   "source": [
    "## Analyze and visualize data interactively with D-Tale"
   ]
  },
  {
   "attachments": {},
   "cell_type": "markdown",
   "metadata": {},
   "source": [
    "Do you still perform your EDA manually?\n",
    "\n",
    "And do the same repetitive steps?\n",
    "\n",
    "Let `D-Tale` help you.\n",
    "\n",
    "`D-Tale` is a powerful Python library that allows you to easily inspect and analyze your data interactively.\n",
    "\n",
    "You can view your data in a web-based interface with various visualizations.\n",
    "\n",
    "`D-Tale` supports a wide variety of data types and formats, including CSV, Excel, JSON, SQL, and more.\n",
    "\n",
    "Bonus: You can export the corresponding source code for your steps."
   ]
  },
  {
   "cell_type": "code",
   "execution_count": null,
   "metadata": {},
   "outputs": [],
   "source": [
    "!pip install dtale"
   ]
  },
  {
   "cell_type": "code",
   "execution_count": null,
   "metadata": {},
   "outputs": [],
   "source": [
    "import dtale\n",
    "import pandas as pd\n",
    "\n",
    "df = pd.DataFrame([dict(a=1,b=2,c=3)])\n",
    "\n",
    "d = dtale.show(df)"
   ]
  },
  {
   "attachments": {},
   "cell_type": "markdown",
   "metadata": {},
   "source": [
    "## Use Dark Mode in Matplotlib"
   ]
  },
  {
   "attachments": {},
   "cell_type": "markdown",
   "metadata": {},
   "source": [
    "For all Dark Mode fans:\n",
    "\n",
    "You can use Matplotlib in Dark Mode too.\n",
    "\n",
    "Just set the background appropriately."
   ]
  },
  {
   "cell_type": "code",
   "execution_count": null,
   "metadata": {},
   "outputs": [],
   "source": [
    "import matplotlib.pyplot as plt\n",
    "\n",
    "plt.style.use('dark_background')\n",
    "\n",
    "fig, ax = plt.subplots()\n",
    "\n",
    "plt.plot(range(1,5), range(1,5))"
   ]
  },
  {
   "attachments": {},
   "cell_type": "markdown",
   "metadata": {},
   "source": [
    "## No-Code EDA with `PandasGUI`"
   ]
  },
  {
   "attachments": {},
   "cell_type": "markdown",
   "metadata": {},
   "source": [
    "`PandasGUI` provides a PyQT application to analyze and interactively plot your Pandas DataFrames.\n",
    "\n",
    "Without writing a lot of code.\n",
    "\n",
    "It offers various functionalities like:\n",
    "\n",
    "- Filtering\n",
    "- Summary Statistics\n",
    "- Different Visualizations like Word Clouds, Bar Charts, etc."
   ]
  },
  {
   "cell_type": "code",
   "execution_count": null,
   "metadata": {},
   "outputs": [],
   "source": [
    "from pandasgui import show\n",
    "from pandasgui.datasets import pokemon\n",
    "show(pokemon)"
   ]
  },
  {
   "attachments": {},
   "cell_type": "markdown",
   "metadata": {},
   "source": [
    "## Generate Publication-ready plots "
   ]
  },
  {
   "attachments": {},
   "cell_type": "markdown",
   "metadata": {},
   "source": [
    "Make Scientific Plots with Python and Matplotlib\n",
    "\n",
    "For making publication-level plots, just use `LovelyPlots`.\n",
    "\n",
    "This package provides a new theme to use for maptlotlib.\n",
    "\n",
    "You just have to add one line to upgrade your plots."
   ]
  },
  {
   "cell_type": "code",
   "execution_count": null,
   "metadata": {},
   "outputs": [],
   "source": [
    "!pip install LovelyPlots"
   ]
  },
  {
   "cell_type": "code",
   "execution_count": null,
   "metadata": {},
   "outputs": [],
   "source": [
    "# Example from LovelyPlot's repository\n",
    "import matplotlib.pyplot as plt\n",
    "import numpy as np\n",
    "\n",
    "#%%\n",
    "def plot_dist(\n",
    "    temperatures,\n",
    "    v,\n",
    "    mass=85 * 1.66e-27,\n",
    "    pparam={\"xlabel\": \"Speed\", \"ylabel\": \"Speed distribution\"},,\n",
    "):\n",
    "\n",
    "    fig, ax = plt.subplots()\n",
    "    for T in temperatures:\n",
    "        fv = MB_speed(v, mass, T)\n",
    "        ax.plot(v, fv, label=f\"T={T}K\")\n",
    "        ax.legend()\n",
    "        ax.set(**pparam)\n",
    "\n",
    "\n",
    "v = np.arange(0, 800, 10)\n",
    "temperatures = [i for i in range(100, 500, 75)]\n",
    "\n",
    "\n",
    "def MB_speed(v, m, T):\n",
    "    \"\"\"Maxwell-Boltzmann speed distribution for speeds\"\"\"\n",
    "    kB = 1.38e-23\n",
    "    return (\n",
    "        (m / (2 * np.pi * kB * T)) ** 1.5 * 4 * np.pi * v**2 * np.exp(-m * v**2 / (2 * kB * T))\n",
    "    )\n",
    "\n",
    "plt.style.use('ipynb')\n",
    "\n",
    "\n",
    "plot_dist(temperatures, v)"
   ]
  }
 ],
 "metadata": {
  "language_info": {
   "name": "python"
  },
  "orig_nbformat": 4
 },
 "nbformat": 4,
 "nbformat_minor": 2
}
