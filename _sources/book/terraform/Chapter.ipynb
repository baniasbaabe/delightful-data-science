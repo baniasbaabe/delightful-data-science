{
 "cells": [
  {
   "cell_type": "markdown",
   "metadata": {},
   "source": [
    "# Terraform"
   ]
  },
  {
   "cell_type": "markdown",
   "metadata": {
    "vscode": {
     "languageId": "powershell"
    }
   },
   "source": [
    "## Static Code Analyzer with `TFLint`"
   ]
  },
  {
   "cell_type": "markdown",
   "metadata": {
    "vscode": {
     "languageId": "plaintext"
    }
   },
   "source": [
    "As your Terraform codebase grows, it's more prone to errors.\n",
    "\n",
    "And they can become nasty.\n",
    "\n",
    "To analyze your files, use `TFLint`.\n",
    "\n",
    "`TFLint` is a linting tool to check for common smells and issues before you even run your code.\n",
    "\n",
    "You can even define custom rules to tailor it to your team's standards."
   ]
  },
  {
   "cell_type": "code",
   "execution_count": null,
   "metadata": {
    "vscode": {
     "languageId": "powershell"
    }
   },
   "outputs": [],
   "source": [
    "tflint\n",
    "\n",
    "Error: \"type_abc\" is an invalid value as instance_type (aws_instance_invalid_type)\n",
    "\n",
    "  on main.tf line 15:\n",
    "   15: instance_type = \"invalid_type\"\n",
    "When you run TFLint again, you’ll receive an error message indicating that the\n",
    "instance_type value is invalid. TFLint identifies this issue without applying the Terraform configuration,\n",
    "helping you catch errors early in your development workflow."
   ]
  },
  {
   "cell_type": "markdown",
   "metadata": {
    "vscode": {
     "languageId": "powershell"
    }
   },
   "source": [
    "## Check for Security Risks with `Tfsec`"
   ]
  },
  {
   "cell_type": "markdown",
   "metadata": {
    "vscode": {
     "languageId": "powershell"
    }
   },
   "source": [
    "To check your Terraform files for common security issues, use `Tfsec`.\n",
    "\n",
    "`TFsec` is a static code analyzer to detect security risks, with hundreds of built-in rules.\n",
    "\n",
    "It's easy to set-up and run. Perfect for CI pipelines too."
   ]
  },
  {
   "cell_type": "code",
   "execution_count": null,
   "metadata": {
    "vscode": {
     "languageId": "powershell"
    }
   },
   "outputs": [],
   "source": [
    "brew install tfsec\n",
    "tfsec .\n",
    "\n",
    "Result #1 CRITICAL Storage account uses an insecure TLS version.\n",
    "────────────────────────────────────────────────────────────────────────────────────────────────────────────────────────\n",
    "  deployment/modules/storage_account/main.tf:1-8\n",
    "   via deployment/main.tf:23-28 (module.storage_account)\n",
    "────────────────────────────────────────────────────────────────────────────────────────────────────────────────────────\n",
    "    1    resource \"azurerm_storage_account\" \"storage_account\" {\n",
    "    2      name                     = var.account_name\n",
    "    3      resource_group_name      = var.resource_group_name\n",
    "    4      location                 = var.location\n",
    "    5      account_kind             = \"Storage\"\n",
    "    6      account_tier             = \"Standard\"\n",
    "    7      account_replication_type = \"LRS\"\n",
    "    8    }"
   ]
  }
 ],
 "metadata": {
  "language_info": {
   "name": "python"
  }
 },
 "nbformat": 4,
 "nbformat_minor": 2
}
