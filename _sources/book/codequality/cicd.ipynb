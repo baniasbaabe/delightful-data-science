{
 "cells": [
  {
   "cell_type": "markdown",
   "metadata": {},
   "source": [
    "# CI/CD"
   ]
  },
  {
   "cell_type": "markdown",
   "metadata": {},
   "source": [
    "## Test GitHub Actions Workflows Locally with `act`"
   ]
  },
  {
   "cell_type": "markdown",
   "metadata": {},
   "source": [
    "Don’t waste time when testing Github Actions.\n",
    "\n",
    "Instead, use `act`.\n",
    "\n",
    "`act` allows you to run your Github Actions workflows locally.\n",
    "\n",
    "Instead of committing/pushing every time you make changes to your Workflow files.\n",
    "\n",
    "It uses Docker to pull or build the necessary images, as defined in your workflow files. So you need Docker installed on your machine."
   ]
  },
  {
   "cell_type": "code",
   "execution_count": null,
   "metadata": {
    "vscode": {
     "languageId": "plaintext"
    }
   },
   "outputs": [],
   "source": [
    "!curl -s https://raw.githubusercontent.com/nektos/act/master/install.sh | sudo bash"
   ]
  },
  {
   "cell_type": "code",
   "execution_count": null,
   "metadata": {
    "vscode": {
     "languageId": "plaintext"
    }
   },
   "outputs": [],
   "source": [
    "act"
   ]
  },
  {
   "cell_type": "markdown",
   "metadata": {},
   "source": [
    "## Cache Python Dependencies in GitHub Actions"
   ]
  },
  {
   "cell_type": "markdown",
   "metadata": {},
   "source": [
    "Don’t waste time for your GitHub Actions workflows.\n",
    "\n",
    "Whenever a new run is triggered, your dependencies are probably installed again and again and again…\n",
    "\n",
    "Even if you didn’t change anything in your dependency file.\n",
    "\n",
    "With the small snippet below, the action caches your dependencies so you can skip the install step the next time your workflow runs."
   ]
  },
  {
   "cell_type": "code",
   "execution_count": null,
   "metadata": {
    "vscode": {
     "languageId": "plaintext"
    }
   },
   "outputs": [],
   "source": [
    "name: ci\n",
    "\n",
    "on:\n",
    "  push:\n",
    "    branches: [ main ]\n",
    "    \n",
    "jobs:\n",
    "\n",
    "  build:\n",
    "\n",
    "    runs-on: ubuntu-latest\n",
    "    \n",
    "    steps:\n",
    "    - uses: actions/checkout@v4\n",
    "    - uses: actions/setup-python@v4\n",
    "      with:\n",
    "        python-version: '3.9'\n",
    "        cache: 'pip' # caching pip dependencies (supports poetry and pipenv too)\n",
    "    - run: pip install -r requirements.txt\n",
    "\n",
    "    - name: Run Python unit tests\n",
    "      run: python3 -u -m unittest tests/tests.py"
   ]
  }
 ],
 "metadata": {
  "language_info": {
   "name": "python"
  }
 },
 "nbformat": 4,
 "nbformat_minor": 2
}
