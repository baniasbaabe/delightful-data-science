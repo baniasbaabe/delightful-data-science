{
 "cells": [
  {
   "cell_type": "markdown",
   "metadata": {},
   "source": [
    "# Automation"
   ]
  },
  {
   "cell_type": "markdown",
   "metadata": {},
   "source": [
    "## Automate Bash Commands with `Makefile`"
   ]
  },
  {
   "cell_type": "markdown",
   "metadata": {},
   "source": [
    "Do you struggle to remember the exact series of commands needed to build and package a Python project?\n",
    "\n",
    "Or manually running tests and installing dependencies?\n",
    "\n",
    "`Makefile` to the rescue!\n",
    "\n",
    "A `Makefile` can be used to automate bash commands and have a standardized way to execute those.\n",
    "\n",
    "See below for how we define commands for testing, install our dependencies, and format our code with black."
   ]
  },
  {
   "cell_type": "code",
   "execution_count": null,
   "metadata": {
    "vscode": {
     "languageId": "powershell"
    }
   },
   "outputs": [],
   "source": [
    "# Create a file named Makefile\n",
    "# Makefile\n",
    "\n",
    "install:\n",
    "    @echo \"Installing requirements ...\"\n",
    "    pip install -r requirements.txt --quiet\n",
    "\n",
    "test:\n",
    "    @echo \"Testing ...\"\n",
    "    pytest\n",
    "\n",
    "format:\n",
    "    @echo \"Formatting ...\"\n",
    "    black ."
   ]
  },
  {
   "cell_type": "markdown",
   "metadata": {},
   "source": [
    "## Automate Testing with Nox"
   ]
  },
  {
   "cell_type": "markdown",
   "metadata": {},
   "source": [
    "Testing your code against multiple Python Versions is hard.\n",
    "\n",
    "With `Nox`, you can automate this step!\n",
    "\n",
    "`Nox` is a command-line tool to automate testing in multiple Python Environments locally.\n",
    "\n",
    "You can customize the sessions with a Python script.\n",
    "\n",
    "See the example below, where we define a session (𝐭𝐞𝐬𝐭𝐬) in our 𝐧𝐨𝐱𝐟𝐢𝐥𝐞.𝐩𝐲 and define the Python versions we want to test against. Moreover we set up another session (𝐥𝐢𝐧𝐭) to run flake8 against our code.\n",
    "\n",
    "`Nox` is highly customizable, so check out their documentation."
   ]
  },
  {
   "cell_type": "code",
   "execution_count": null,
   "metadata": {},
   "outputs": [],
   "source": [
    "# noxfile.py\n",
    "\n",
    "import nox\n",
    "\n",
    "@nox.session(python=[\"3.6\", \"3.7\", \"3.8\", \"3.9\"])\n",
    "def tests(session):\n",
    "    # Install testing dependency\n",
    "    session.install('pytest')\n",
    "    # Run tests\n",
    "    session.run('pytest')\n",
    "    \n",
    "@nox.session\n",
    "def lint(session):\n",
    "    session.install(\"flake8\")\n",
    "    session.run(\"flake8\", \"example.py\")"
   ]
  },
  {
   "cell_type": "code",
   "execution_count": null,
   "metadata": {
    "vscode": {
     "languageId": "powershell"
    }
   },
   "outputs": [],
   "source": [
    "!pip install nox"
   ]
  },
  {
   "cell_type": "code",
   "execution_count": null,
   "metadata": {
    "vscode": {
     "languageId": "powershell"
    }
   },
   "outputs": [],
   "source": [
    "!nox"
   ]
  }
 ],
 "metadata": {
  "language_info": {
   "name": "python"
  },
  "orig_nbformat": 4
 },
 "nbformat": 4,
 "nbformat_minor": 2
}
