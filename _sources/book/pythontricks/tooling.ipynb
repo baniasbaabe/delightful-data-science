{
 "cells": [
  {
   "cell_type": "markdown",
   "metadata": {},
   "source": [
    "# Tooling for Python Projects"
   ]
  },
  {
   "cell_type": "markdown",
   "metadata": {},
   "source": [
    "## `uv`: Super-fast pip Alternative "
   ]
  },
  {
   "cell_type": "markdown",
   "metadata": {},
   "source": [
    "Forget plain pip for installing packages.\n",
    "\n",
    "Use `uv` for Python package installing.\n",
    "\n",
    "`uv` is a blazingly fast package installer and resolver, written in Rust for high performance.\n",
    "\n",
    "It is a drop-in replacement for pip and pip-tools, being up to 115x faster.\n",
    "\n",
    "`uv` is still in an early phase, but it's interesting to see where it goes."
   ]
  },
  {
   "cell_type": "code",
   "execution_count": null,
   "metadata": {
    "vscode": {
     "languageId": "plaintext"
    }
   },
   "outputs": [],
   "source": [
    "!curl -LsSf https://astral.sh/uv/install.sh | sh"
   ]
  },
  {
   "cell_type": "code",
   "execution_count": null,
   "metadata": {
    "vscode": {
     "languageId": "plaintext"
    }
   },
   "outputs": [],
   "source": [
    "!uv pip install requests"
   ]
  }
 ],
 "metadata": {
  "language_info": {
   "name": "python"
  }
 },
 "nbformat": 4,
 "nbformat_minor": 2
}
