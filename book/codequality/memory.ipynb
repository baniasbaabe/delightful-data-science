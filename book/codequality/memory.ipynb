{
 "cells": [
  {
   "cell_type": "code",
   "execution_count": null,
   "metadata": {},
   "outputs": [],
   "source": [
    "# Identify your bottleneck regarding memory with memory_profiler"
   ]
  },
  {
   "cell_type": "code",
   "execution_count": null,
   "metadata": {},
   "outputs": [],
   "source": [
    "from memory_profiler import profile\n",
    "\n",
    "@profile\n",
    "def my_func():\n",
    "    a = [1] * (10 ** 6)\n",
    "    b = [2] * (2 * 10 ** 7)\n",
    "    del b\n",
    "    return a\n",
    "\n",
    "my_func()\n",
    "      \n",
    ">>> python -m memory_profiler memory.py\n",
    "\n",
    "'''\n",
    "Line #    Mem usage    Increment  Occurrences   Line Contents\n",
    "=============================================================\n",
    "     3     41.9 MiB     41.9 MiB           1   @profile\n",
    "     4                                         def my_func():\n",
    "     5     49.5 MiB      7.6 MiB         102       a = [i**2 for i in range(1,100)] * (10**4)\n",
    "     6    194.5 MiB    145.0 MiB          22       b = [i**i for i in range(1,20)] * (10**6)\n",
    "     7    194.5 MiB      0.0 MiB           1       return a, b\n",
    "'''"
   ]
  }
 ],
 "metadata": {
  "language_info": {
   "name": "python"
  },
  "orig_nbformat": 4
 },
 "nbformat": 4,
 "nbformat_minor": 2
}
