{
 "cells": [
  {
   "cell_type": "markdown",
   "metadata": {},
   "source": [
    "# Typing"
   ]
  },
  {
   "attachments": {},
   "cell_type": "markdown",
   "metadata": {},
   "source": [
    "## Enforce types with typeguard"
   ]
  },
  {
   "cell_type": "markdown",
   "metadata": {},
   "source": [
    "How to enforce types in Python easily?\n",
    "\n",
    "You can try type hinting and define the expected types.\n",
    "\n",
    "But you can still pass the wrong types and get away without an error.\n",
    "\n",
    "Instead, use `typeguard`.\n",
    "\n",
    "`typeguard`'s decorator makes sure that an error gets raised when a variable of a wrong type is passed.\n",
    "\n",
    "See below, how you only need to add a decorator to the function to make things work."
   ]
  },
  {
   "cell_type": "code",
   "execution_count": null,
   "metadata": {},
   "outputs": [],
   "source": [
    "from typeguard import typechecked\n",
    "\n",
    "@typechecked\n",
    "def say_hello(name: str):\n",
    "    print(f\"Hello, {name}\")\n",
    "    \n",
    "\n",
    "say_hello(3)"
   ]
  },
  {
   "attachments": {},
   "cell_type": "markdown",
   "metadata": {},
   "source": [
    "## Static type checking with mypy"
   ]
  },
  {
   "attachments": {},
   "cell_type": "markdown",
   "metadata": {},
   "source": [
    "Do you want to catch type errors before they cause problems in production? \n",
    "\n",
    "Try `mypy`! \n",
    "\n",
    "`mypy` is a static type checker for Python that can help you catch type errors before you even run your code.\n",
    "\n",
    "It analyzes your code to ensure that the types of your variables and functions align with the expected types.\n",
    "\n",
    "So `mypy` helps you to write more reliable code."
   ]
  },
  {
   "cell_type": "code",
   "execution_count": null,
   "metadata": {},
   "outputs": [],
   "source": [
    "def deposit(amount: int, balance: int):\n",
    "        return balance + amount\n",
    "    \n",
    "def withdraw(amount: int, balance: int):\n",
    "        return balance - amount\n",
    "    \n",
    "\n",
    "deposit(100, 1000)\n",
    "withdraw(100, \"1000\")    "
   ]
  },
  {
   "cell_type": "code",
   "execution_count": null,
   "metadata": {},
   "outputs": [],
   "source": [
    "!pip install mypy\n",
    "\n",
    "!mypy bank.py"
   ]
  }
 ],
 "metadata": {
  "language_info": {
   "name": "python"
  },
  "orig_nbformat": 4
 },
 "nbformat": 4,
 "nbformat_minor": 2
}
