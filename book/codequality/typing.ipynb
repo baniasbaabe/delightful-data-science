{
 "cells": [
  {
   "cell_type": "markdown",
   "metadata": {},
   "source": [
    "# Enforce types with typeguard"
   ]
  },
  {
   "cell_type": "code",
   "execution_count": null,
   "metadata": {},
   "outputs": [],
   "source": [
    "from typeguard import typechecked\n",
    "\n",
    "# @typechecked\n",
    "def say_hello(name: str):\n",
    "    print(f\"Hello, {name}\")\n",
    "    \n",
    "\n",
    "say_hello(3)"
   ]
  },
  {
   "cell_type": "code",
   "execution_count": null,
   "metadata": {},
   "outputs": [],
   "source": [
    "# Static type checking with mypy"
   ]
  },
  {
   "cell_type": "code",
   "execution_count": null,
   "metadata": {},
   "outputs": [],
   "source": [
    "def deposit(amount: int, balance: int):\n",
    "        return balance + amount\n",
    "    \n",
    "def withdraw(amount: int, balance: int):\n",
    "        return balance - amount\n",
    "    \n",
    "\n",
    "deposit(100, 1000)\n",
    "withdraw(100, \"1000\")    "
   ]
  },
  {
   "cell_type": "code",
   "execution_count": null,
   "metadata": {},
   "outputs": [],
   "source": [
    "!pip install mypy\n",
    "\n",
    "!mypy bank.py"
   ]
  }
 ],
 "metadata": {
  "language_info": {
   "name": "python"
  },
  "orig_nbformat": 4
 },
 "nbformat": 4,
 "nbformat_minor": 2
}
