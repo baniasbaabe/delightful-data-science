{
 "cells": [
  {
   "cell_type": "markdown",
   "id": "70fada72",
   "metadata": {},
   "source": [
    "# Security in Projects"
   ]
  },
  {
   "cell_type": "markdown",
   "id": "2d0dbbfc",
   "metadata": {},
   "source": [
    "##  Common Security Issues in Python Code"
   ]
  },
  {
   "cell_type": "code",
   "execution_count": null,
   "id": "e1089b4c",
   "metadata": {},
   "outputs": [],
   "source": []
  },
  {
   "cell_type": "markdown",
   "id": "8de49774",
   "metadata": {},
   "source": [
    "Find Vulnerabilities in your Environment"
   ]
  },
  {
   "cell_type": "code",
   "execution_count": null,
   "id": "15360c2b",
   "metadata": {},
   "outputs": [],
   "source": [
    "!pip install pip-audit\n",
    "\n",
    "!pip-audit"
   ]
  },
  {
   "attachments": {},
   "cell_type": "markdown",
   "id": "1241d5ed",
   "metadata": {},
   "source": [
    "Found 3 known vulnerabilities in 2 packages\n",
    "Name       Version ID                  Fix Versions\n",
    "---------- ------- ------------------- ------------\n",
    "flask      0.5     PYSEC-2019-179      1.0\n",
    "flask      0.5     PYSEC-2018-66       0.12.3\n",
    "setuptools 56.0.0  GHSA-r9hx-vwmv-q579 65.5.1"
   ]
  }
 ],
 "metadata": {
  "kernelspec": {
   "display_name": "Python 3 (ipykernel)",
   "language": "python",
   "name": "python3"
  },
  "language_info": {
   "codemirror_mode": {
    "name": "ipython",
    "version": 3
   },
   "file_extension": ".py",
   "mimetype": "text/x-python",
   "name": "python",
   "nbconvert_exporter": "python",
   "pygments_lexer": "ipython3",
   "version": "3.8.10"
  }
 },
 "nbformat": 4,
 "nbformat_minor": 5
}
