{
 "cells": [
  {
   "cell_type": "markdown",
   "id": "70fada72",
   "metadata": {},
   "source": [
    "# Security in Projects"
   ]
  },
  {
   "cell_type": "markdown",
   "id": "2d0dbbfc",
   "metadata": {},
   "source": [
    "##  Common Security Issues in Python Code"
   ]
  },
  {
   "cell_type": "code",
   "execution_count": null,
   "id": "e1089b4c",
   "metadata": {},
   "outputs": [],
   "source": [
    "import requests\n",
    "\n",
    "data = requests.get(\"https://www.google.de/\", verify=False)\n",
    "\n",
    ">>> bandit -r bandit_test.py\n",
    "'''\n",
    "[main]  INFO    profile include tests: None\n",
    "[main]  INFO    profile exclude tests: None\n",
    "[main]  INFO    cli include tests: None\n",
    "[main]  INFO    cli exclude tests: None\n",
    "[main]  INFO    running on Python 3.10.8\n",
    "[node_visitor]  WARNING Unable to find qualified name for module: bandit_test.py\n",
    "Run started:2022-12-23 15:32:44.650893\n",
    "Test results:\n",
    ">> Issue: [B501:request_with_no_cert_validation] Requests call with verify=False disabling SSL certificate checks, security issue.\n",
    "   Severity: High   Confidence: High\n",
    "   CWE: CWE-295 (https://cwe.mitre.org/data/definitions/295.html)     \n",
    "   Location: bandit_test.py:3:7\n",
    "   More Info: https://bandit.readthedocs.io/en/1.7.4/plugins/b501_request_with_no_cert_validation.html\n",
    "2\n",
    "3       data = requests.get(\"https://www.google.de/\", verify = False) \n",
    "4       print(data.status_code)\n",
    "--------------------------------------------------\n",
    "Code scanned:\n",
    "        Total lines of code: 3\n",
    "        Total lines skipped (#nosec): 0\n",
    "Run metrics:\n",
    "        Total issues (by severity):\n",
    "                Undefined: 0\n",
    "                Low: 0\n",
    "                Medium: 0\n",
    "                High: 1\n",
    "        Total issues (by confidence):\n",
    "                Undefined: 0\n",
    "                Low: 0\n",
    "                Medium: 0\n",
    "                High: 1\n",
    "Files skipped (0):\n",
    "'''"
   ]
  },
  {
   "cell_type": "markdown",
   "id": "8de49774",
   "metadata": {},
   "source": [
    "Find Vulnerabilities in your Environment"
   ]
  },
  {
   "cell_type": "code",
   "execution_count": null,
   "id": "15360c2b",
   "metadata": {},
   "outputs": [],
   "source": [
    "!pip install pip-audit\n",
    "\n",
    "!pip-audit"
   ]
  },
  {
   "attachments": {},
   "cell_type": "markdown",
   "id": "1241d5ed",
   "metadata": {},
   "source": [
    "Found 3 known vulnerabilities in 2 packages\n",
    "Name       Version ID                  Fix Versions\n",
    "---------- ------- ------------------- ------------\n",
    "flask      0.5     PYSEC-2019-179      1.0\n",
    "flask      0.5     PYSEC-2018-66       0.12.3\n",
    "setuptools 56.0.0  GHSA-r9hx-vwmv-q579 65.5.1"
   ]
  },
  {
   "cell_type": "markdown",
   "id": "16e5793b",
   "metadata": {},
   "source": [
    "# Store Credentials safely with Keyring"
   ]
  },
  {
   "cell_type": "code",
   "execution_count": null,
   "id": "21fd5e9b",
   "metadata": {},
   "outputs": [],
   "source": [
    "!pip install keyring\n",
    "\n",
    "import keyring\n",
    "\n",
    "# set your password\n",
    "keyring.set_password(\"mydb\", \"username\", \"password\")\n",
    "\n",
    "# get your password\n",
    "keyring.get_password(\"mydb\", \"username\")"
   ]
  }
 ],
 "metadata": {
  "kernelspec": {
   "display_name": "Python 3 (ipykernel)",
   "language": "python",
   "name": "python3"
  },
  "language_info": {
   "codemirror_mode": {
    "name": "ipython",
    "version": 3
   },
   "file_extension": ".py",
   "mimetype": "text/x-python",
   "name": "python",
   "nbconvert_exporter": "python",
   "pygments_lexer": "ipython3",
   "version": "3.8.10"
  }
 },
 "nbformat": 4,
 "nbformat_minor": 5
}
