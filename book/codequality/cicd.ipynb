{
 "cells": [
  {
   "cell_type": "markdown",
   "metadata": {},
   "source": [
    "# CI/CD"
   ]
  },
  {
   "cell_type": "markdown",
   "metadata": {},
   "source": [
    "## Test GitHub Actions Workflows Locally with `act`"
   ]
  },
  {
   "cell_type": "markdown",
   "metadata": {},
   "source": [
    "Don’t waste time when testing Github Actions.\n",
    "\n",
    "Instead, use `act`.\n",
    "\n",
    "`act` allows you to run your Github Actions workflows locally.\n",
    "\n",
    "Instead of committing/pushing every time you make changes to your Workflow files.\n",
    "\n",
    "It uses Docker to pull or build the necessary images, as defined in your workflow files. So you need Docker installed on your machine."
   ]
  },
  {
   "cell_type": "code",
   "execution_count": null,
   "metadata": {
    "vscode": {
     "languageId": "plaintext"
    }
   },
   "outputs": [],
   "source": [
    "!curl -s https://raw.githubusercontent.com/nektos/act/master/install.sh | sudo bash"
   ]
  },
  {
   "cell_type": "code",
   "execution_count": null,
   "metadata": {
    "vscode": {
     "languageId": "plaintext"
    }
   },
   "outputs": [],
   "source": [
    "act"
   ]
  }
 ],
 "metadata": {
  "language_info": {
   "name": "python"
  }
 },
 "nbformat": 4,
 "nbformat_minor": 2
}
