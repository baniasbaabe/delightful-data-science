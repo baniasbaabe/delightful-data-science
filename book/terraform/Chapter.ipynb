{
 "cells": [
  {
   "cell_type": "markdown",
   "metadata": {},
   "source": [
    "# Terraform"
   ]
  },
  {
   "cell_type": "markdown",
   "metadata": {
    "vscode": {
     "languageId": "plaintext"
    }
   },
   "source": [
    "As your Terraform codebase grows, it's more prone to errors.\n",
    "\n",
    "And they can become nasty.\n",
    "\n",
    "To analyze your files, use `TFLint`.\n",
    "\n",
    "`TFLint` is a linting tool to check for common smells and issues before you even run your code.\n",
    "\n",
    "You can even define custom rules to tailor it to your team's standards."
   ]
  },
  {
   "cell_type": "code",
   "execution_count": null,
   "metadata": {
    "vscode": {
     "languageId": "powershell"
    }
   },
   "outputs": [],
   "source": [
    "tflint\n",
    "\n",
    "Error: \"type_abc\" is an invalid value as instance_type (aws_instance_invalid_type)\n",
    "\n",
    "  on main.tf line 15:\n",
    "   15: instance_type = \"invalid_type\"\n",
    "When you run TFLint again, you’ll receive an error message indicating that the\n",
    "instance_type value is invalid. TFLint identifies this issue without applying the Terraform configuration,\n",
    "helping you catch errors early in your development workflow."
   ]
  }
 ],
 "metadata": {
  "language_info": {
   "name": "python"
  }
 },
 "nbformat": 4,
 "nbformat_minor": 2
}
