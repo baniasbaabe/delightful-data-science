{
 "cells": [
  {
   "cell_type": "markdown",
   "metadata": {},
   "source": [
    "# NumPy Tips and Tricks"
   ]
  },
  {
   "attachments": {},
   "cell_type": "markdown",
   "metadata": {},
   "source": [
    "## Achieve Reproducibility with `np.random.RandomState()`"
   ]
  },
  {
   "attachments": {},
   "cell_type": "markdown",
   "metadata": {},
   "source": [
    "Reproducibility in Data Science projects is key.\n",
    "\n",
    "For larger projects, use `numpy.random.RandomState()` to construct a random number generator.\n",
    "\n",
    "Using `numpy.random.seed()` sets the global random seed, which affects all uses to the `numpy.random.*` module.\n",
    "\n",
    "Imported packages or other modules can reset the global random seed to another one.\n",
    "\n",
    "This can result in undesirable and unreproducible results across your project.\n",
    "\n",
    "With `numpy.random.RandomState()`, you are not relying on the global random state anymore (which could be resetted).\n",
    "\n",
    "It's a subtle, but important step to achieve reproducibility."
   ]
  },
  {
   "cell_type": "code",
   "execution_count": null,
   "metadata": {},
   "outputs": [],
   "source": [
    "import numpy as np\n",
    "\n",
    "rng = np.random.RandomState(1234)\n",
    "\n",
    "print(rng.rand(3))"
   ]
  },
  {
   "cell_type": "markdown",
   "metadata": {},
   "source": [
    "## Fast Alternative to NumPy"
   ]
  },
  {
   "cell_type": "markdown",
   "metadata": {},
   "source": [
    "I just stumbled upon a fast alternative to NumPy.\n",
    "\n",
    "With **NumExpr** I transformed a sluggish 650 ms loop into a 60 ms calculation and that was on a single thread!\n",
    "\n",
    "Here’s how NumExpr turbocharges your array computations:\n",
    "\n",
    "- **Chunked, in-cache execution**: Avoids building giant temporaries by splitting arrays into cache-sized blocks and streaming them through a lightweight virtual machine.\n",
    "- **SIMD & VML acceleration**: Leverages single-instruction-multiple-data instructions and-when available-Intel’s Math Kernel Library for transcendent functions.\n",
    "- **True multi-core scaling**: Automatically farms out chunks to all your CPU cores, delivering up to 5×–15× speed-ups on complex expressions."
   ]
  },
  {
   "cell_type": "code",
   "execution_count": null,
   "metadata": {},
   "outputs": [],
   "source": [
    "!pip install numexpr"
   ]
  },
  {
   "cell_type": "code",
   "execution_count": null,
   "metadata": {},
   "outputs": [],
   "source": [
    "import numpy as np, numexpr as ne\n",
    "\n",
    "x = np.linspace(-1, 1, int(1e7))\n",
    "expr = \"0.25*x**3 + 0.75*x**2 + 1.5*x - 2\"\n",
    "\n",
    "# NumPy: ~650 ms\n",
    "%timeit -n10 eval(expr)\n",
    "\n",
    "# NumExpr @1 thread: ~60 ms  \n",
    "ne.set_num_threads(1)\n",
    "%timeit -n10 ne.evaluate(expr)"
   ]
  }
 ],
 "metadata": {
  "kernelspec": {
   "display_name": "Python 3 (ipykernel)",
   "language": "python",
   "name": "python3"
  },
  "language_info": {
   "codemirror_mode": {
    "name": "ipython",
    "version": 3
   },
   "file_extension": ".py",
   "mimetype": "text/x-python",
   "name": "python",
   "nbconvert_exporter": "python",
   "pygments_lexer": "ipython3",
   "version": "3.13.0"
  }
 },
 "nbformat": 4,
 "nbformat_minor": 4
}
