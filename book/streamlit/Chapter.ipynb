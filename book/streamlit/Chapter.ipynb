{
 "cells": [
  {
   "cell_type": "markdown",
   "metadata": {},
   "source": [
    "# Embed pandas-profiling into Streamlit"
   ]
  },
  {
   "cell_type": "code",
   "execution_count": null,
   "metadata": {},
   "outputs": [],
   "source": [
    "#!pip install streamlit-pandas-profiling\n",
    "\n",
    "import pandas as pd\n",
    "import pandas_profiling\n",
    "import streamlit as st\n",
    "\n",
    "from streamlit_pandas_profiling import st_profile_report\n",
    "\n",
    "df = pd.read_csv(<path>)\n",
    "report = df.profile_report()\n",
    "\n",
    "st_profile_report(report)"
   ]
  }
 ],
 "metadata": {
  "language_info": {
   "name": "python"
  },
  "orig_nbformat": 4
 },
 "nbformat": 4,
 "nbformat_minor": 2
}
