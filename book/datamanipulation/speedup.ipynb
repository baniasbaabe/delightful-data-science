{
 "cells": [
  {
   "attachments": {},
   "cell_type": "markdown",
   "metadata": {},
   "source": [
    "# Speed up your Code"
   ]
  },
  {
   "attachments": {},
   "cell_type": "markdown",
   "metadata": {},
   "source": [
    "## Reduce Memory Usage of DataFrame with `df_shrink`"
   ]
  },
  {
   "cell_type": "code",
   "execution_count": null,
   "metadata": {},
   "outputs": [],
   "source": [
    "# !pip install --quiet fastai\n",
    "import pandas as pd\n",
    "from fastai.tabular.core import df_shrink\n",
    "\n",
    "df = pd.read_csv(...) # shape (1000000, 100)\n",
    "\n",
    "print(f\"{df.memory_usage().sum()/(1024**2)} MB\")\n",
    "\n",
    "reduced_df = df_shrink(df, int2uint=True)\n",
    "print(f\"{reduced_df.memory_usage().sum()/(1024**2)} MB\")"
   ]
  }
 ],
 "metadata": {
  "language_info": {
   "name": "python"
  },
  "orig_nbformat": 4
 },
 "nbformat": 4,
 "nbformat_minor": 2
}
