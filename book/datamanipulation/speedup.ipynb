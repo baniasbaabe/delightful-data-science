{
 "cells": [
  {
   "attachments": {},
   "cell_type": "markdown",
   "metadata": {},
   "source": [
    "# Speed up your Code"
   ]
  },
  {
   "attachments": {},
   "cell_type": "markdown",
   "metadata": {},
   "source": [
    "## Reduce Memory Usage of DataFrame with `df_shrink`"
   ]
  },
  {
   "attachments": {},
   "cell_type": "markdown",
   "metadata": {},
   "source": [
    "By default, Pandas DataFrames doesn’t use the smallest data types for its columns.\n",
    "\n",
    "This results in unnecessary memory usage.\n",
    "\n",
    "Changing data types can drastically reduce the memory usage of the DataFrame.\n",
    "\n",
    "Using `fastai`’s `df_shrink` method, you can automatically change the data types to the smallest (and most memory-efficient) one.\n",
    "\n",
    "Below you can see how to make your DataFrame more memory-efficient."
   ]
  },
  {
   "cell_type": "code",
   "execution_count": null,
   "metadata": {},
   "outputs": [],
   "source": [
    "# !pip install --quiet fastai\n",
    "import pandas as pd\n",
    "from fastai.tabular.core import df_shrink\n",
    "\n",
    "df = pd.read_csv(...) # shape (1000000, 100)\n",
    "\n",
    "print(f\"{df.memory_usage().sum()/(1024**2)} MB\")\n",
    "\n",
    "reduced_df = df_shrink(df, int2uint=True)\n",
    "print(f\"{reduced_df.memory_usage().sum()/(1024**2)} MB\")"
   ]
  }
 ],
 "metadata": {
  "language_info": {
   "name": "python"
  },
  "orig_nbformat": 4
 },
 "nbformat": 4,
 "nbformat_minor": 2
}
