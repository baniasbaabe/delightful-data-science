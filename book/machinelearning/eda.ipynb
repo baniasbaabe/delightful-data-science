{
 "cells": [
  {
   "cell_type": "markdown",
   "metadata": {},
   "source": [
    "# EDA"
   ]
  },
  {
   "attachments": {},
   "cell_type": "markdown",
   "metadata": {},
   "source": [
    "## Analyze and visualize data interactively with D-Tale"
   ]
  },
  {
   "attachments": {},
   "cell_type": "markdown",
   "metadata": {},
   "source": [
    "Do you still perform your EDA manually?\n",
    "\n",
    "And do the same repetitive steps?\n",
    "\n",
    "Let `D-Tale` help you.\n",
    "\n",
    "`D-Tale` is a powerful Python library that allows you to easily inspect and analyze your data interactively.\n",
    "\n",
    "You can view your data in a web-based interface with various visualizations.\n",
    "\n",
    "`D-Tale` supports a wide variety of data types and formats, including CSV, Excel, JSON, SQL, and more.\n",
    "\n",
    "Bonus: You can export the corresponding source code for your steps.\n",
    "\n",
    "Try it out and be impressed by `D-Tale`!\n",
    "\n",
    "Note: Run it on your local environment since `D-Tale` and Notebooks are no best friends."
   ]
  }
 ],
 "metadata": {
  "language_info": {
   "name": "python"
  },
  "orig_nbformat": 4
 },
 "nbformat": 4,
 "nbformat_minor": 2
}
