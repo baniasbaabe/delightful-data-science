{
 "cells": [
  {
   "cell_type": "markdown",
   "metadata": {},
   "source": [
    "# EDA"
   ]
  },
  {
   "attachments": {},
   "cell_type": "markdown",
   "metadata": {},
   "source": [
    "## Analyze and visualize data interactively with D-Tale"
   ]
  },
  {
   "attachments": {},
   "cell_type": "markdown",
   "metadata": {},
   "source": [
    "Do you still perform your EDA manually?\n",
    "\n",
    "And do the same repetitive steps?\n",
    "\n",
    "Let `D-Tale` help you.\n",
    "\n",
    "`D-Tale` is a powerful Python library that allows you to easily inspect and analyze your data interactively.\n",
    "\n",
    "You can view your data in a web-based interface with various visualizations.\n",
    "\n",
    "`D-Tale` supports a wide variety of data types and formats, including CSV, Excel, JSON, SQL, and more.\n",
    "\n",
    "Bonus: You can export the corresponding source code for your steps.\n",
    "\n",
    "Try it out and be impressed by `D-Tale`!\n",
    "\n",
    "Note: Run it on your local environment since `D-Tale` and Notebooks are no best friends."
   ]
  },
  {
   "cell_type": "markdown",
   "metadata": {},
   "source": [
    "## Use Dark Mode in Matplotlib"
   ]
  },
  {
   "cell_type": "markdown",
   "metadata": {},
   "source": [
    "For all Dark Mode fans:\n",
    "\n",
    "You can use Matplotlib in Dark Mode too.\n",
    "\n",
    "Just set the background appropriately."
   ]
  },
  {
   "cell_type": "code",
   "execution_count": null,
   "metadata": {},
   "outputs": [],
   "source": [
    "import matplotlib.pyplot as plt\n",
    "\n",
    "plt.style.use('dark_background')\n",
    "\n",
    "fig, ax = plt.subplots()\n",
    "\n",
    "plt.plot(range(1,5), range(1,5))"
   ]
  }
 ],
 "metadata": {
  "language_info": {
   "name": "python"
  },
  "orig_nbformat": 4
 },
 "nbformat": 4,
 "nbformat_minor": 2
}
