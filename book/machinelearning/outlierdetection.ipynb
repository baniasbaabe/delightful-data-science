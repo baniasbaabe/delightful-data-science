{
 "cells": [
  {
   "attachments": {},
   "cell_type": "markdown",
   "metadata": {},
   "source": [
    "## Ensembling for Outlier Detection"
   ]
  },
  {
   "cell_type": "code",
   "execution_count": null,
   "metadata": {},
   "outputs": [],
   "source": [
    "import numpy as np\n",
    "from pyod.models.combination import majority_vote\n",
    "from pyod.models.knn import KNN\n",
    "from pyod.models.abod import ABOD\n",
    "from pyod.models.iforest import IForest\n",
    "from pyod.utils.data import generate_data\n",
    "\n",
    "X, _= generate_data(train_only=True)\n",
    "\n",
    "models = [KNN(), ABOD(), IForest()]\n",
    "n_models = len(models)\n",
    "\n",
    "labels = np.zeros([X.shape[0], n_models])\n",
    "\n",
    "for i in range(n_models):\n",
    "    model = models[i]\n",
    "\n",
    "    model.fit(X)\n",
    "\n",
    "    labels[:, i] = model.labels_\n",
    "    \n",
    "majority_vote(labels)"
   ]
  }
 ],
 "metadata": {
  "language_info": {
   "name": "python"
  },
  "orig_nbformat": 4
 },
 "nbformat": 4,
 "nbformat_minor": 2
}
