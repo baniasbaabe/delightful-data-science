{
 "cells": [
  {
   "cell_type": "markdown",
   "metadata": {},
   "source": [
    "# Scrape Data from Twitter, Youtube and more with snscrape"
   ]
  },
  {
   "cell_type": "code",
   "execution_count": null,
   "metadata": {
    "vscode": {
     "languageId": "plaintext"
    }
   },
   "outputs": [],
   "source": [
    "!pip install snscrape\n",
    "\n",
    "snscrape --jsonl --max-results 500 --since 2022-01-01 twitter-search \"from:elonmusk until:2022-12-11\" > elon-tweets.json"
   ]
  },
  {
   "cell_type": "code",
   "execution_count": null,
   "metadata": {
    "vscode": {
     "languageId": "plaintext"
    }
   },
   "outputs": [],
   "source": [
    "# Scrape Google Play Reviews"
   ]
  },
  {
   "cell_type": "code",
   "execution_count": null,
   "metadata": {
    "vscode": {
     "languageId": "plaintext"
    }
   },
   "outputs": [],
   "source": [
    "# pip install google-play-scraper\n",
    "\n",
    "from google_play_scraper import Sort, reviews\n",
    "\n",
    "result, _ = reviews(\n",
    "    'com.linkedin.android',\n",
    "    lang='en',\n",
    "    country='us',\n",
    "    sort=Sort.NEWEST,\n",
    "    count=3,\n",
    "    filter_score_with=5 \n",
    ")\n",
    "\n",
    ">>> print(result)\n",
    "'''\n",
    "[{'reviewId': 'bc7f15cc-9508-4809-9ba3-51c8cae9071e',\n",
    "  'content': 'Nice app for social media',\n",
    "  'score': 5,\n",
    "  'thumbsUpCount': 0,\n",
    "  'reviewCreatedVersion': '4.1.729',\n",
    "  'at': datetime.datetime(2022, 12, 31, 14, 22, 21),\n",
    "  'replyContent': None,\n",
    "  'repliedAt': None},\n",
    " {'reviewId': '9ebc5a13-7711-4428-a9af-d4707d4f77fd',\n",
    "  'content': 'Awesome',\n",
    "  'score': 5,\n",
    "  'thumbsUpCount': 0,\n",
    "  'reviewCreatedVersion': '4.1.722',\n",
    "  'at': datetime.datetime(2022, 12, 31, 14, 12, 18),\n",
    "  'replyContent': None,\n",
    "  'repliedAt': None},\n",
    " {'reviewId': '9e701cc3-76cc-4b5d-8f2b-e6504745a064',\n",
    "  'content': 'Perfect place to build up connections',\n",
    "  'score': 5,\n",
    "  'thumbsUpCount': 0,\n",
    "  'reviewCreatedVersion': '4.1.766.1',\n",
    "  'at': datetime.datetime(2022, 12, 31, 13, 7, 57),\n",
    "  'replyContent': None,\n",
    "  'repliedAt': None}]"
   ]
  }
 ],
 "metadata": {
  "language_info": {
   "name": "python"
  },
  "orig_nbformat": 4
 },
 "nbformat": 4,
 "nbformat_minor": 2
}
