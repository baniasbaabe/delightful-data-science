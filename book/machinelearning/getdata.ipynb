{
 "cells": [
  {
   "cell_type": "markdown",
   "metadata": {},
   "source": [
    "# Get Data"
   ]
  },
  {
   "attachments": {},
   "cell_type": "markdown",
   "metadata": {},
   "source": [
    "## Scrape Data from Twitter, Youtube and more with snscrape"
   ]
  },
  {
   "attachments": {},
   "cell_type": "markdown",
   "metadata": {},
   "source": [
    "Do you want to scrape Twitter data? Without restrictions?\n",
    "\n",
    "Use `snscrape`!\n",
    "\n",
    "`snscrape` is a Python library for social networking services to scrape information like users, hashtags, threads, likes, etc. easily.\n",
    "\n",
    "It can also be used for other social network platforms like Instagram or Facebook.\n",
    "\n",
    "`snscrape` comes with a CLI functionality and with a Python wrapper.\n",
    "\n",
    "In the example below, to get 500 tweets from Elon Musk between January 1, 2022 and December 11, 2022, we can simply use the CLI command below. We want to return the data in a JSON format and save it."
   ]
  },
  {
   "cell_type": "code",
   "execution_count": null,
   "metadata": {
    "vscode": {
     "languageId": "plaintext"
    }
   },
   "outputs": [],
   "source": [
    "!pip install snscrape\n",
    "\n",
    "snscrape --jsonl --max-results 500 --since 2022-01-01 twitter-search \"from:elonmusk until:2022-12-11\" > elon-tweets.json"
   ]
  },
  {
   "attachments": {},
   "cell_type": "markdown",
   "metadata": {
    "vscode": {
     "languageId": "plaintext"
    }
   },
   "source": [
    "## Scrape Google Play Reviews"
   ]
  },
  {
   "cell_type": "markdown",
   "metadata": {},
   "source": [
    "Do you want to scrape Google Play Reviews?\n",
    "\n",
    "Without effort?\n",
    "\n",
    "Try `google-play-scraper`.\n",
    "\n",
    "`google-play-scraper` provides APIs to easily retrieve reviews for apps from the Google Play Store for Python.\n",
    "\n",
    "Below you can see how easy it is to get reviews for the LinkedIn App by providing its ID (you can get the ID from the URL of the corresponding Playstore page)\n",
    "\n",
    "- You can sort the reviews by their date or relevance\n",
    "- You can filter by rating, country and language\n"
   ]
  },
  {
   "cell_type": "code",
   "execution_count": null,
   "metadata": {
    "vscode": {
     "languageId": "plaintext"
    }
   },
   "outputs": [],
   "source": [
    "# pip install google-play-scraper\n",
    "\n",
    "from google_play_scraper import Sort, reviews\n",
    "\n",
    "result, _ = reviews(\n",
    "    'com.linkedin.android',\n",
    "    lang='en',\n",
    "    country='us',\n",
    "    sort=Sort.NEWEST,\n",
    "    count=3,\n",
    "    filter_score_with=5 \n",
    ")\n",
    "\n",
    ">>> print(result)\n",
    "'''\n",
    "[{'reviewId': 'bc7f15cc-9508-4809-9ba3-51c8cae9071e',\n",
    "  'content': 'Nice app for social media',\n",
    "  'score': 5,\n",
    "  'thumbsUpCount': 0,\n",
    "  'reviewCreatedVersion': '4.1.729',\n",
    "  'at': datetime.datetime(2022, 12, 31, 14, 22, 21),\n",
    "  'replyContent': None,\n",
    "  'repliedAt': None},\n",
    " {'reviewId': '9ebc5a13-7711-4428-a9af-d4707d4f77fd',\n",
    "  'content': 'Awesome',\n",
    "  'score': 5,\n",
    "  'thumbsUpCount': 0,\n",
    "  'reviewCreatedVersion': '4.1.722',\n",
    "  'at': datetime.datetime(2022, 12, 31, 14, 12, 18),\n",
    "  'replyContent': None,\n",
    "  'repliedAt': None},\n",
    " {'reviewId': '9e701cc3-76cc-4b5d-8f2b-e6504745a064',\n",
    "  'content': 'Perfect place to build up connections',\n",
    "  'score': 5,\n",
    "  'thumbsUpCount': 0,\n",
    "  'reviewCreatedVersion': '4.1.766.1',\n",
    "  'at': datetime.datetime(2022, 12, 31, 13, 7, 57),\n",
    "  'replyContent': None,\n",
    "  'repliedAt': None}]"
   ]
  },
  {
   "attachments": {},
   "cell_type": "markdown",
   "metadata": {},
   "source": [
    "## Scrape Reviews from App Store "
   ]
  },
  {
   "cell_type": "markdown",
   "metadata": {},
   "source": [
    "Do you want to scrape App Store Reviews?\n",
    "\n",
    "Without effort?\n",
    "\n",
    "Try `app_store_scraper`!\n",
    "\n",
    "`app_store_scraper` provides APIs to easily retrieve reviews for apps and podcasts from the Apple App Store for Python.\n",
    "\n",
    "Below you can see how easy it is to get reviews for the Instagram App by providing its ID and app name (you can get the ID and app name from the URL of the corresponding App Store page)\n",
    "\n",
    "A nice library for your next side project!"
   ]
  },
  {
   "cell_type": "code",
   "execution_count": null,
   "metadata": {},
   "outputs": [],
   "source": [
    "# pip install app_store_scraper\n",
    "\n",
    "from app_store_scraper import AppStore\n",
    "# app_name and app_id is derived from url\n",
    "# https://apps.apple.com/de/app/instagram/id389801252\n",
    "insta = AppStore(country='us', app_name='instagram', app_id = '389801252')\n",
    "\n",
    "insta.review(how_many=2)\n",
    "\n",
    "print(insta.reviews)"
   ]
  }
 ],
 "metadata": {
  "language_info": {
   "name": "python"
  },
  "orig_nbformat": 4
 },
 "nbformat": 4,
 "nbformat_minor": 2
}
