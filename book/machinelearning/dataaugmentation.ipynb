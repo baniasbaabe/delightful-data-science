{
 "cells": [
  {
   "cell_type": "code",
   "execution_count": null,
   "metadata": {},
   "outputs": [],
   "source": [
    "# Image augmentation with albumentations"
   ]
  },
  {
   "cell_type": "code",
   "execution_count": null,
   "metadata": {},
   "outputs": [],
   "source": [
    "import albumentations as A\n",
    "import cv2\n",
    "import numpy as np\n",
    "\n",
    "image = cv2.imread(\"image.jpg\")\n",
    "\n",
    "# Define the augmentations you want to apply\n",
    "transform = A.Compose([\n",
    "    A.HorizontalFlip(),\n",
    "    A.ToGray(),\n",
    "    A.GridDropout(),\n",
    "    A.VerticalFlip(),\n",
    "    A.ChannelShuffle(),\n",
    "])\n",
    "\n",
    "\n",
    "\n",
    "# Apply the augmentations to the image\n",
    "augmented_images = transform(image=np.array(image))[\"image\"]"
   ]
  }
 ],
 "metadata": {
  "language_info": {
   "name": "python"
  },
  "orig_nbformat": 4
 },
 "nbformat": 4,
 "nbformat_minor": 2
}
