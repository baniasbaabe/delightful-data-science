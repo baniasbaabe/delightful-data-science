{
 "cells": [
  {
   "cell_type": "markdown",
   "id": "6603ef12",
   "metadata": {},
   "source": [
    "# Model Training"
   ]
  },
  {
   "cell_type": "markdown",
   "id": "617e059c",
   "metadata": {},
   "source": [
    "## Compute Class Weights"
   ]
  },
  {
   "cell_type": "markdown",
   "id": "667a14ad",
   "metadata": {},
   "source": [
    "To handle class imbalance in Machine Learning, there are several methods.\n",
    "<br><br>\n",
    "One of them is adjusting the class weights. \n",
    "<br><br>\n",
    "By giving higher weights to the minority class and lower weights to the majority class, we can regularize the loss function.\n",
    "<br><br>\n",
    "Misclassifying the minority class will result in a higher loss due to the higher weight.\n",
    "<br><br>\n",
    "To incorporate class weights in Tensorflow, use `scikit-learn`'s `compute_class_weight` function"
   ]
  },
  {
   "cell_type": "code",
   "execution_count": null,
   "id": "edfff72c",
   "metadata": {},
   "outputs": [],
   "source": [
    "import numpy as np\n",
    "import tensorflow as tf\n",
    "from sklearn.utils import compute_class_weight\n",
    "\n",
    "X, y = ...\n",
    "\n",
    "# will return an array with weights for each class, e.g. [0.6, 0.6, 1.]\n",
    "class_weights = compute_class_weight(\n",
    "  class_weight=\"balanced\",\n",
    "  classes=np.unique(y),\n",
    "  y=y\n",
    ")\n",
    "\n",
    "# to get a dictionary with {<class>:<weight>}\n",
    "class_weights = dict(enumerate(class_weights))\n",
    "\n",
    "model = tf.keras.Sequential(...)\n",
    "model.compile(...)\n",
    "\n",
    "# using class_weights in the .fit() method\n",
    "model.fit(X, y, class_weight=class_weights, ...)"
   ]
  }
 ],
 "metadata": {
  "kernelspec": {
   "display_name": "Python 3 (ipykernel)",
   "language": "python",
   "name": "python3"
  },
  "language_info": {
   "codemirror_mode": {
    "name": "ipython",
    "version": 3
   },
   "file_extension": ".py",
   "mimetype": "text/x-python",
   "name": "python",
   "nbconvert_exporter": "python",
   "pygments_lexer": "ipython3",
   "version": "3.8.10"
  }
 },
 "nbformat": 4,
 "nbformat_minor": 5
}
