{
 "cells": [
  {
   "cell_type": "markdown",
   "metadata": {},
   "source": [
    "# Calculate Variance Inflation Factor (VIF)"
   ]
  },
  {
   "cell_type": "code",
   "execution_count": null,
   "metadata": {},
   "outputs": [],
   "source": [
    "import pandas\n",
    "from sklearn.datasets import load_boston\n",
    "from statsmodels.stats.outliers_influence import variance_inflation_factor\n",
    "\n",
    "X = pd.DataFrame(boston.data, columns = boston.feature_names)\n",
    "\n",
    "vif = pd.DataFrame()\n",
    "vif[\"Predictor\"] = X.columns\n",
    "vif[\"VIF\"] = [variance_inflation_factor(X.values, i) for i in range(X.shape[1])]\n",
    "\n",
    "print(vif)\n",
    "\n",
    "'''\n",
    "   Predictor        VIF\n",
    "0       CRIM   2.100373\n",
    "1         ZN   2.844013\n",
    "2      INDUS  14.485758\n",
    "3       CHAS   1.152952\n",
    "4        NOX  73.894947\n",
    "5         RM  77.948283\n",
    "6        AGE  21.386850\n",
    "7        DIS  14.699652\n",
    "8        RAD  15.167725\n",
    "9        TAX  61.227274\n",
    "10   PTRATIO  85.029547\n",
    "11         B  20.104943\n",
    "12     LSTAT  11.102025"
   ]
  },
  {
   "cell_type": "code",
   "execution_count": null,
   "metadata": {},
   "outputs": [],
   "source": []
  },
  {
   "cell_type": "code",
   "execution_count": null,
   "metadata": {},
   "outputs": [],
   "source": [
    "# Check for new categories in test set with Deepchecks"
   ]
  },
  {
   "cell_type": "code",
   "execution_count": null,
   "metadata": {},
   "outputs": [],
   "source": [
    "from deepchecks.tabular.checks.train_test_validation import CategoryMismatchTrainTest\n",
    "checker = CategoryMismatchTrainTest()\n",
    "\n",
    "X_train = pd.DataFrame([[\"A\", \"B\", \"C\"], [\"B\", \"B\", \"A\"]], columns=[\"Col1\", \"Col2\", \"Col3\"])\n",
    "X_test = pd.DataFrame([[\"B\", \"C\", \"D\"], [\"D\", \"A\", \"B\", ]], columns=[\"Col1\", \"Col2\", \"Col3\"])\n",
    "\n",
    "checker.run(X_train, X_test)"
   ]
  }
 ],
 "metadata": {
  "kernelspec": {
   "display_name": "venv",
   "language": "python",
   "name": "python3"
  },
  "language_info": {
   "name": "python",
   "version": "3.8.10 (tags/v3.8.10:3d8993a, May  3 2021, 11:48:03) [MSC v.1928 64 bit (AMD64)]"
  },
  "orig_nbformat": 4,
  "vscode": {
   "interpreter": {
    "hash": "54bf0f8d5625db32e314b5bdaf50a44046044c99ae376da8e1ac5bc25f06b01d"
   }
  }
 },
 "nbformat": 4,
 "nbformat_minor": 2
}
