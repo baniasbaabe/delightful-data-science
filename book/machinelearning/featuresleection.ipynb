{
 "cells": [
  {
   "cell_type": "markdown",
   "metadata": {},
   "source": [
    "# Calculate Variance Inflation Factor (VIF)"
   ]
  },
  {
   "cell_type": "code",
   "execution_count": null,
   "metadata": {
    "vscode": {
     "languageId": "plaintext"
    }
   },
   "outputs": [],
   "source": [
    "import pandas\n",
    "from sklearn.datasets import load_boston\n",
    "from statsmodels.stats.outliers_influence import variance_inflation_factor\n",
    "\n",
    "X = pd.DataFrame(boston.data, columns = boston.feature_names)\n",
    "\n",
    "vif = pd.DataFrame()\n",
    "vif[\"Predictor\"] = X.columns\n",
    "vif[\"VIF\"] = [variance_inflation_factor(X.values, i) for i in range(X.shape[1])]\n",
    "\n",
    "print(vif)\n",
    "\n",
    "'''\n",
    "   Predictor        VIF\n",
    "0       CRIM   2.100373\n",
    "1         ZN   2.844013\n",
    "2      INDUS  14.485758\n",
    "3       CHAS   1.152952\n",
    "4        NOX  73.894947\n",
    "5         RM  77.948283\n",
    "6        AGE  21.386850\n",
    "7        DIS  14.699652\n",
    "8        RAD  15.167725\n",
    "9        TAX  61.227274\n",
    "10   PTRATIO  85.029547\n",
    "11         B  20.104943\n",
    "12     LSTAT  11.102025"
   ]
  }
 ],
 "metadata": {
  "language_info": {
   "name": "python"
  },
  "orig_nbformat": 4
 },
 "nbformat": 4,
 "nbformat_minor": 2
}
