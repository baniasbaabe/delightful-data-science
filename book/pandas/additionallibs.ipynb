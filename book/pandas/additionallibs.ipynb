{
 "cells": [
  {
   "cell_type": "markdown",
   "metadata": {},
   "source": [
    "## Speed up Pandas apply function"
   ]
  },
  {
   "attachments": {},
   "cell_type": "markdown",
   "metadata": {},
   "source": [
    "Don't use `.apply()` in Pandas blindly!\n",
    "\n",
    "`.apply()` is used to apply operations on all the elements in a dataframe (row-wise or column-wise).\n",
    "\n",
    "It's the most obvious choice, but there is a better option:\n",
    "\n",
    "Instead, use the `𝐒𝐰𝐢𝐟𝐭𝐞𝐫` package.\n",
    "\n",
    "`𝐒𝐰𝐢𝐟𝐭𝐞𝐫` tries to pick up the best way to implement the `.apply()` function by either:\n",
    "\n",
    "- Vectorizing your function\n",
    "- Parallelizing using Dask\n",
    "- Using `.apply()` from Pandas if the dataset is small.\n",
    "\n",
    "That gives your function a huge boost.\n",
    "\n",
    "In the example below, you only need to add df.swifter.apply() to make use of `Swifter`'s capabilities."
   ]
  },
  {
   "cell_type": "code",
   "execution_count": null,
   "metadata": {},
   "outputs": [],
   "source": [
    "!pip install swifter"
   ]
  },
  {
   "cell_type": "code",
   "execution_count": null,
   "metadata": {},
   "outputs": [],
   "source": [
    "import swifter\n",
    "import pandas as pd\n",
    "\n",
    "df = pd.DataFrame(...)\n",
    "\n",
    "def my_function(input_value):\n",
    "\t...\n",
    "    return output_value\n",
    "    \n",
    "df[\"Column\"] = df[\"Column\"].swifter.apply(lambda x: my_function(x))"
   ]
  }
 ],
 "metadata": {
  "language_info": {
   "name": "python"
  },
  "orig_nbformat": 4
 },
 "nbformat": 4,
 "nbformat_minor": 2
}
