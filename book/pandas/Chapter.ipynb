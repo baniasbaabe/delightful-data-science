{
 "cells": [
  {
   "attachments": {},
   "cell_type": "markdown",
   "metadata": {},
   "source": [
    "## Filter Pandas in a readable format"
   ]
  },
  {
   "cell_type": "markdown",
   "metadata": {},
   "source": [
    "Do you need a more readable way to filter Dataframes in Pandas?\n",
    "\n",
    "Try `df.query()`.\n",
    "\n",
    "You can specify the condition using a string.\n",
    "\n",
    "This can be sometimes more convenient and readable than boolean indexing.\n",
    "\n",
    "And it's fast, due to the optimized Cython-based code used under the hood."
   ]
  },
  {
   "cell_type": "code",
   "execution_count": null,
   "metadata": {},
   "outputs": [],
   "source": [
    "import pandas as pd\n",
    "\n",
    "df = pd.DataFrame({\"A\": [1,2,3], \"B\": [4,5,6]})\n",
    "\n",
    "filtered_df = df.query(\"A > 1 & B < 6\")"
   ]
  },
  {
   "cell_type": "markdown",
   "metadata": {},
   "source": [
    "# Get frequency of time series with pd.infer_freq"
   ]
  },
  {
   "attachments": {},
   "cell_type": "markdown",
   "metadata": {},
   "source": [
    "When working with time series, it is useful to know the frequency of the data.\n",
    "\n",
    "But especially in larger datasets, it might be difficult to tell the frequency immediately.\n",
    "\n",
    "To get the frequency of a time series in Pandas, use `pd.infer_freq()`.\n",
    "\n",
    "It infers the most likely frequency given the input index.\n",
    "\n",
    "Below you can see how to infer the most likely frequency for a `DatetimeIndex`."
   ]
  },
  {
   "cell_type": "code",
   "execution_count": null,
   "metadata": {},
   "outputs": [],
   "source": [
    "import pandas as pd\n",
    "time_index = pd.date_range(start='1/1/2020 20:00:00', end='10/1/2020 00:00:00')\n",
    "\n",
    "pd.infer_freq(time_index)\n",
    "'D'"
   ]
  },
  {
   "cell_type": "markdown",
   "metadata": {},
   "source": [
    "# Reduce DataFrame Memory with dtype_diet"
   ]
  },
  {
   "attachments": {},
   "cell_type": "markdown",
   "metadata": {},
   "source": [
    "By default, Pandas DataFrames don’t use the smallest data types for its columns.\n",
    "\n",
    "This results in unnecessary memory usage.\n",
    "\n",
    "Changing data types can drastically reduce the memory usage of your DataFrame.\n",
    "\n",
    "Using `dtype_diet`, you can automatically change the data types to the smallest (and most memory-efficient) one."
   ]
  },
  {
   "cell_type": "code",
   "execution_count": null,
   "metadata": {},
   "outputs": [],
   "source": [
    "from dtype_diet import optimize_dtypes, report_on_dataframe\n",
    "import pandas as pd\n",
    "\n",
    "df = pd.read_csv(\"\")\n",
    "# Get Recommendations\n",
    "proposed_df = report_on_dataframe(df, unit=\"MB\")\n",
    "new_df = optimize_dtypes(df, proposed_df)\n",
    "print(f'Original df memory: {df.memory_usage(deep=True).sum()/1024/1024} MB')\n",
    "print(f'Propsed df memory: {new_df.memory_usage(deep=True).sum()/1024/1024} MB')"
   ]
  }
 ],
 "metadata": {
  "kernelspec": {
   "display_name": "Python 3 (ipykernel)",
   "language": "python",
   "name": "python3"
  },
  "language_info": {
   "codemirror_mode": {
    "name": "ipython",
    "version": 3
   },
   "file_extension": ".py",
   "mimetype": "text/x-python",
   "name": "python",
   "nbconvert_exporter": "python",
   "pygments_lexer": "ipython3",
   "version": "3.8.10"
  },
  "vscode": {
   "interpreter": {
    "hash": "f4d3a5f34bb3b787aaa4f8981a81ccb65539202d096f032d6b7cdd00fc2e9b40"
   }
  }
 },
 "nbformat": 4,
 "nbformat_minor": 2
}
