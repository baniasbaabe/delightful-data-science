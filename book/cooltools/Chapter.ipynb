{
 "cells": [
  {
   "attachments": {},
   "cell_type": "markdown",
   "metadata": {},
   "source": [
    "## Work with Countries, Currencies, Subdivisions, and more"
   ]
  },
  {
   "cell_type": "code",
   "execution_count": null,
   "metadata": {},
   "outputs": [],
   "source": [
    "# !pip install pycountry\n",
    "\n",
    "import pycountry\n",
    "\n",
    "# Get Country\n",
    "print(pycountry.countries.get(alpha_2=\"DE\"))\n",
    "\n",
    "# Get Currency\n",
    "print(pycountry.currencies.get(alpha_3=\"EUR\"))\n",
    "\n",
    "\n",
    "# Get Language\n",
    "print(pycountry.languages.get(alpha_2='DE'))"
   ]
  },
  {
   "cell_type": "code",
   "execution_count": null,
   "metadata": {},
   "outputs": [],
   "source": [
    "# Generate better requirements files with pipreqs"
   ]
  },
  {
   "cell_type": "code",
   "execution_count": null,
   "metadata": {},
   "outputs": [],
   "source": [
    "pip install pipreqs\n",
    "\n",
    "pipreqs ."
   ]
  },
  {
   "cell_type": "code",
   "execution_count": null,
   "metadata": {},
   "outputs": [],
   "source": [
    "# Remove a package and its dependencies with pip-autoremove"
   ]
  },
  {
   "cell_type": "code",
   "execution_count": null,
   "metadata": {},
   "outputs": [],
   "source": [
    "pip install pip-autoremove\n",
    "\n",
    "pip-autoremove flask -y"
   ]
  },
  {
   "cell_type": "code",
   "execution_count": null,
   "metadata": {},
   "outputs": [],
   "source": [
    "# Get distance between postal codes"
   ]
  },
  {
   "cell_type": "code",
   "execution_count": null,
   "metadata": {},
   "outputs": [],
   "source": [
    "# !pip install pgeocode\n",
    "\n",
    "import pgeocode\n",
    "\n",
    "dist = pgeocode.GeoDistance('DE')\n",
    "dist.query_postal_code('10117', '80331')"
   ]
  },
  {
   "cell_type": "markdown",
   "metadata": {},
   "source": [
    "# Working with units with pint"
   ]
  },
  {
   "cell_type": "code",
   "execution_count": null,
   "metadata": {},
   "outputs": [],
   "source": [
    "# !pip install pint\n",
    "\n",
    "import pint\n",
    "\n",
    "# Initializing the unit registry\n",
    "ureg = pint.UnitRegistry()\n",
    "\n",
    "# Defining a physical quantity with units\n",
    "distance = 33.0 * ureg.kilometers\n",
    "print(distance)\n",
    "# 33.0 kilometer\n",
    "\n",
    "# Converting between units\n",
    "print(distance.to(ureg.feet))\n",
    "# 108267.71653543308 foot\n",
    "\n",
    "# Performing arithmetic operations\n",
    "speed = 6 * distance / ureg.hour\n",
    "print(speed)\n",
    "# 198.0 kilometer / hour"
   ]
  },
  {
   "cell_type": "code",
   "execution_count": null,
   "metadata": {},
   "outputs": [],
   "source": [
    "# Supercharge your Python profiling with Scalene"
   ]
  },
  {
   "cell_type": "code",
   "execution_count": null,
   "metadata": {},
   "outputs": [],
   "source": [
    "!pip install scalene\n",
    "scalene my_module.py"
   ]
  },
  {
   "cell_type": "code",
   "execution_count": null,
   "metadata": {},
   "outputs": [],
   "source": [
    "# FIx unicode errors with ftfy"
   ]
  },
  {
   "cell_type": "code",
   "execution_count": null,
   "metadata": {},
   "outputs": [],
   "source": [
    "# !pip install ftfy\n",
    "import ftfy\n",
    "\n",
    "print(ftfy.fix_text('What does â€œftfyâ€\\x9d mean?'))\n",
    "print(ftfy.fix_text('âœ” Check'))\n",
    "print(ftfy.fix_text('The Mona Lisa doesnÃƒÂ¢Ã¢â€šÂ¬Ã¢â€žÂ¢t have eyebrows.'))"
   ]
  },
  {
   "cell_type": "code",
   "execution_count": null,
   "metadata": {},
   "outputs": [],
   "source": [
    "# Remove the background from images with rembg"
   ]
  },
  {
   "cell_type": "code",
   "execution_count": null,
   "metadata": {},
   "outputs": [],
   "source": [
    "# !pip install rembg\n",
    "from rembg import remove\n",
    "import cv2\n",
    "\n",
    "input_path = 'car.jpg'\n",
    "output_path = 'car2.jpg'\n",
    "\n",
    "input_file = cv2.imread(input_path)\n",
    "output_file = remove(input_file)\n",
    "cv2.imwrite(output_path, output_file)"
   ]
  },
  {
   "cell_type": "code",
   "execution_count": null,
   "metadata": {},
   "outputs": [],
   "source": [
    "# Build modern CLI apps with typer"
   ]
  },
  {
   "cell_type": "code",
   "execution_count": null,
   "metadata": {},
   "outputs": [],
   "source": [
    "import typer\n",
    "\n",
    "app = typer.Typer()\n",
    "\n",
    "@app.command()\n",
    "def hello(name: str):\n",
    "    typer.echo(f\"Hello, {name}!\")\n",
    "    \n",
    "@app.command()\n",
    "def bye(name: str):\n",
    "    typer.echo(f\"Bye, {name}!\")\n",
    "\n",
    "if __name__ == \"__main__\":\n",
    "    app()"
   ]
  },
  {
   "cell_type": "code",
   "execution_count": null,
   "metadata": {},
   "outputs": [],
   "source": [
    "python hello_script.py hello John"
   ]
  },
  {
   "cell_type": "code",
   "execution_count": null,
   "metadata": {},
   "outputs": [],
   "source": [
    "# Generate realistic fake data with Faker"
   ]
  },
  {
   "cell_type": "code",
   "execution_count": null,
   "metadata": {},
   "outputs": [],
   "source": [
    "# !pip install faker\n",
    "from faker import Faker\n",
    "fake = Faker('fr_FR')\n",
    "print(fake.name())\n",
    "print(fake.job())\n",
    "print(fake.phone_number())"
   ]
  },
  {
   "cell_type": "code",
   "execution_count": null,
   "metadata": {},
   "outputs": [],
   "source": [
    "# Enrich your progress bars with rich"
   ]
  },
  {
   "cell_type": "code",
   "execution_count": null,
   "metadata": {},
   "outputs": [],
   "source": [
    "# !pip install rich\n",
    "from rich.progress import track\n",
    "for url in track(range(25000000)):\n",
    "    # Do something\n",
    "    pass"
   ]
  },
  {
   "cell_type": "code",
   "execution_count": null,
   "metadata": {},
   "outputs": [],
   "source": [
    "## TQDM set_desc"
   ]
  },
  {
   "cell_type": "code",
   "execution_count": null,
   "metadata": {},
   "outputs": [],
   "source": [
    "import tqdm\n",
    "import glob\n",
    "\n",
    "files = tqdm.tqdm(glob.glob(\"sample_data/*.csv\"))\n",
    "for file in files:\n",
    "    files.set_description(f\"Read {file}\")"
   ]
  }
 ],
 "metadata": {
  "kernelspec": {
   "display_name": "venv",
   "language": "python",
   "name": "python3"
  },
  "language_info": {
   "name": "python",
   "version": "3.8.10 (tags/v3.8.10:3d8993a, May  3 2021, 11:48:03) [MSC v.1928 64 bit (AMD64)]"
  },
  "orig_nbformat": 4,
  "vscode": {
   "interpreter": {
    "hash": "54bf0f8d5625db32e314b5bdaf50a44046044c99ae376da8e1ac5bc25f06b01d"
   }
  }
 },
 "nbformat": 4,
 "nbformat_minor": 2
}
