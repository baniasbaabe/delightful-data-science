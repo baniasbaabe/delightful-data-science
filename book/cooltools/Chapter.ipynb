{
 "cells": [
  {
   "attachments": {},
   "cell_type": "markdown",
   "metadata": {},
   "source": [
    "## Work with Countries, Currencies, Subdivisions, and more"
   ]
  },
  {
   "cell_type": "code",
   "execution_count": null,
   "metadata": {},
   "outputs": [],
   "source": [
    "# !pip install pycountry\n",
    "\n",
    "import pycountry\n",
    "\n",
    "# Get Country\n",
    "print(pycountry.countries.get(alpha_2=\"DE\"))\n",
    "\n",
    "# Get Currency\n",
    "print(pycountry.currencies.get(alpha_3=\"EUR\"))\n",
    "\n",
    "\n",
    "# Get Language\n",
    "print(pycountry.languages.get(alpha_2='DE'))"
   ]
  }
 ],
 "metadata": {
  "language_info": {
   "name": "python"
  },
  "orig_nbformat": 4
 },
 "nbformat": 4,
 "nbformat_minor": 2
}
