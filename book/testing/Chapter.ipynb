{
 "cells": [
  {
   "cell_type": "markdown",
   "metadata": {},
   "source": [
    "# Pytest on steroids: Parallelize your test with pytest-xdist"
   ]
  },
  {
   "cell_type": "code",
   "execution_count": null,
   "metadata": {
    "vscode": {
     "languageId": "plaintext"
    }
   },
   "outputs": [],
   "source": [
    "!pytest --numprocesses 4\n",
    "\n",
    " \"# Scrape all tweets from @KhuyenTran16\\n\",\n",
    "    \"snscrape twitter-user KhuyenTran16\\n\",\n",
    "    \"\\n\",\n",
    "    \"# Save outputs\\n\",\n",
    "    \"snscrape twitter-user KhuyenTran16 >> khuyen_tweets \\n\",\n",
    "    \"\\n\",\n",
    "    \"# Scrape 100 tweets with hashtag python\\n\",\n",
    "    \"snscrape --max-results 100 twitter-hashtag python\\n\",\n",
    "    \"```\""
   ]
  },
  {
   "cell_type": "markdown",
   "metadata": {},
   "source": [
    "# Shuffle the order of your tests with pytest-randomly"
   ]
  },
  {
   "cell_type": "code",
   "execution_count": null,
   "metadata": {
    "vscode": {
     "languageId": "plaintext"
    }
   },
   "outputs": [],
   "source": [
    "pip install pytest-randomly\n",
    "\n",
    "pytest"
   ]
  },
  {
   "cell_type": "markdown",
   "metadata": {},
   "source": [
    "# Get Test coverage with pytest-cov"
   ]
  },
  {
   "cell_type": "code",
   "execution_count": null,
   "metadata": {
    "vscode": {
     "languageId": "plaintext"
    }
   },
   "outputs": [],
   "source": [
    "pip install pytest-cov\n",
    "\n",
    "pytest --cov=src --cov-fail-under=90\n",
    "\n",
    "-------------------- coverage: ... ---------------------\n",
    "Name                 Stmts   Miss  Cover\n",
    "----------------------------------------\n",
    "src/__init__             2      0   100%\n",
    "src/module1.py         257     13    94%\n",
    "src/module2.py         100      0   100%\n",
    "----------------------------------------\n",
    "TOTAL                  359     13    97%"
   ]
  },
  {
   "cell_type": "code",
   "execution_count": null,
   "metadata": {
    "vscode": {
     "languageId": "plaintext"
    }
   },
   "outputs": [],
   "source": [
    "# Test your plots with pytest-mpl"
   ]
  },
  {
   "cell_type": "code",
   "execution_count": null,
   "metadata": {
    "vscode": {
     "languageId": "plaintext"
    }
   },
   "outputs": [],
   "source": [
    "import pytest\n",
    "import matplotlib.pyplot as plt\n",
    "\n",
    "@pytest.mark.mpl_image_compare()\n",
    "def test_plotting_line():\n",
    "    fig = plt.figure()\n",
    "    plt.plot([1,2,3,4,5,6,7,8])\n",
    "    plt.xlabel('X Axis')\n",
    "    plt.ylabel('Y Axis')\n",
    "    \n",
    "    return fig\n",
    "\n",
    "#pytest -k test_plotting_line --mpl-generate-path=baseline\n",
    "\n",
    "#pytest --mpl"
   ]
  }
 ],
 "metadata": {
  "language_info": {
   "name": "python"
  },
  "orig_nbformat": 4
 },
 "nbformat": 4,
 "nbformat_minor": 2
}
