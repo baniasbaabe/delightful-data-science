{
 "cells": [
  {
   "cell_type": "markdown",
   "metadata": {},
   "source": [
    "# Pytest on steroids: Parallelize your test with pytest-xdist"
   ]
  },
  {
   "cell_type": "code",
   "execution_count": null,
   "metadata": {
    "vscode": {
     "languageId": "plaintext"
    }
   },
   "outputs": [],
   "source": [
    "!pytest --numprocesses 4\n",
    "\n",
    " \"# Scrape all tweets from @KhuyenTran16\\n\",\n",
    "    \"snscrape twitter-user KhuyenTran16\\n\",\n",
    "    \"\\n\",\n",
    "    \"# Save outputs\\n\",\n",
    "    \"snscrape twitter-user KhuyenTran16 >> khuyen_tweets \\n\",\n",
    "    \"\\n\",\n",
    "    \"# Scrape 100 tweets with hashtag python\\n\",\n",
    "    \"snscrape --max-results 100 twitter-hashtag python\\n\",\n",
    "    \"```\""
   ]
  },
  {
   "cell_type": "code",
   "execution_count": null,
   "metadata": {
    "vscode": {
     "languageId": "plaintext"
    }
   },
   "outputs": [],
   "source": []
  }
 ],
 "metadata": {
  "language_info": {
   "name": "python"
  },
  "orig_nbformat": 4
 },
 "nbformat": 4,
 "nbformat_minor": 2
}
