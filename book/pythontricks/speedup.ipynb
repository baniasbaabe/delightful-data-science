{
 "cells": [
  {
   "cell_type": "markdown",
   "metadata": {},
   "source": [
    "## Speed up For-Loop with joblib.Parallel"
   ]
  },
  {
   "cell_type": "code",
   "execution_count": null,
   "metadata": {},
   "outputs": [],
   "source": [
    "from joblib import Parallel, delayed\n",
    "\n",
    "def process_image(path):\n",
    "   ...\n",
    "    return image\n",
    "  \n",
    " image_paths = [\"path1.jpg\", \"path2.jpg\"]\n",
    "\n",
    "result = Parallel(n_jobs = -1, backend = \"multiprocessing\")(\n",
    "  delayed(process_image)(path) for path in image_paths\n",
    ")"
   ]
  }
 ],
 "metadata": {
  "language_info": {
   "name": "python"
  },
  "orig_nbformat": 4
 },
 "nbformat": 4,
 "nbformat_minor": 2
}
