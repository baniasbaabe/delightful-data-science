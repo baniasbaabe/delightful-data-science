{
 "cells": [
  {
   "attachments": {},
   "cell_type": "markdown",
   "metadata": {},
   "source": [
    "## Make your numbers more readable"
   ]
  },
  {
   "cell_type": "code",
   "execution_count": null,
   "metadata": {
    "vscode": {
     "languageId": "plaintext"
    }
   },
   "outputs": [],
   "source": [
    "big_number = 1_000_000_000_000\n",
    "\n",
    "print(big_number)\n",
    "1000000000000"
   ]
  },
  {
   "cell_type": "code",
   "execution_count": null,
   "metadata": {
    "vscode": {
     "languageId": "plaintext"
    }
   },
   "outputs": [],
   "source": [
    "# Get Query Parameters with urllib.parse"
   ]
  },
  {
   "cell_type": "code",
   "execution_count": null,
   "metadata": {
    "vscode": {
     "languageId": "plaintext"
    }
   },
   "outputs": [],
   "source": [
    "from urllib import parse\n",
    "url = 'https://play.google.com/store/apps/details?id=com.happy.mood.diary&hl=de&gl=US'\n",
    "\n",
    "# Outputs \"id=com.happy.mood.diary&hl=de&gl=US\"\n",
    "query = parse.urlparse(url).query\n",
    "\n",
    "# Outputs \"{'id': ['com.happy.mood.diary'], 'hl': ['de'], 'gl': ['US']}\"\n",
    "parameters = parse.parse_qs(query)\n"
   ]
  }
 ],
 "metadata": {
  "language_info": {
   "name": "python"
  },
  "orig_nbformat": 4
 },
 "nbformat": 4,
 "nbformat_minor": 2
}
