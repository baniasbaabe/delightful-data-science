{
 "cells": [
  {
   "attachments": {},
   "cell_type": "markdown",
   "metadata": {},
   "source": [
    "# Pure Python + Built-in libraries"
   ]
  },
  {
   "attachments": {},
   "cell_type": "markdown",
   "metadata": {},
   "source": [
    "## Make your numbers more readable"
   ]
  },
  {
   "attachments": {},
   "cell_type": "markdown",
   "metadata": {},
   "source": [
    "Do you want to make your numbers in Python more readable?\n",
    "\n",
    "Use underscores such as `1_000_000`.\n",
    "\n",
    "Underscores in numbers in Python are used to make large numbers more readable.\n",
    "\n",
    "The underscores are ignored by the interpreter and do not affect the value of the number.\n",
    "\n",
    "See below for a small example.\n",
    "\n",
    "Note: Using two consecutive underscores is not allowed!"
   ]
  },
  {
   "cell_type": "code",
   "execution_count": null,
   "metadata": {},
   "outputs": [],
   "source": [
    "big_number = 1_000_000_000_000\n",
    "\n",
    "print(big_number)"
   ]
  },
  {
   "attachments": {},
   "cell_type": "markdown",
   "metadata": {
    "vscode": {
     "languageId": "plaintext"
    }
   },
   "source": [
    "## Get Query Parameters with urllib.parse"
   ]
  },
  {
   "attachments": {},
   "cell_type": "markdown",
   "metadata": {},
   "source": [
    "How to extract query parameters from an URL in Python?\n",
    "\n",
    "Query parameters are the extra pieces of information you can add to a URL to change how a website behaves.\n",
    "\n",
    "They come after a 'q' character in the URL and are made up of key-value pairs.\n",
    "\n",
    "The key describes what the information is for and the value is the actual information you want to send.\n",
    "\n",
    "Query parameters are extra pieces of information that you can add to a URL to change how a website behaves.\n",
    "\n",
    "To extract those query parameters in Python, use `urllib`.\n",
    "\n",
    "`urllib` provides functions to extract the query and its parameters for you."
   ]
  },
  {
   "cell_type": "code",
   "execution_count": null,
   "metadata": {},
   "outputs": [],
   "source": [
    "from urllib import parse\n",
    "url = 'https://play.google.com/store/apps/details?id=com.happy.mood.diary&hl=de&gl=US'\n",
    "\n",
    "# Outputs \"id=com.happy.mood.diary&hl=de&gl=US\"\n",
    "query = parse.urlparse(url).query\n",
    "\n",
    "# Outputs \"{'id': ['com.happy.mood.diary'], 'hl': ['de'], 'gl': ['US']}\"\n",
    "parameters = parse.parse_qs(query)\n"
   ]
  },
  {
   "attachments": {},
   "cell_type": "markdown",
   "metadata": {},
   "source": [
    "## Zip iterables to the longest iterable"
   ]
  },
  {
   "attachments": {},
   "cell_type": "markdown",
   "metadata": {},
   "source": [
    "Don’t use `zip()` in Python.\n",
    "\n",
    "When you have, let’s say, two lists of unequal length, zip() will return\n",
    "an iterable with as many elements as the shortest list.\n",
    "\n",
    "Instead, use `itertools.zip_longest()`.\n",
    "\n",
    "It will “pad” any shorter lists (or other iterables) with a fill value so that the returned iterable has the same length as the longest iterable.\n",
    "\n",
    "You will not lose any elements!"
   ]
  },
  {
   "cell_type": "code",
   "execution_count": null,
   "metadata": {},
   "outputs": [],
   "source": [
    "from itertools import zip_longest\n",
    "\n",
    "a = [1,2,3,4]\n",
    "b = [5,6,7]\n",
    "\n",
    "# zip(): One element is missing\n",
    "for aa, bb in zip(a, b):\n",
    "  print(aa, bb)\n",
    "'''\n",
    "1 5\n",
    "2 6\n",
    "3 7\n",
    "'''\n",
    "\n",
    "# zip_longest()\n",
    "for aa, bb in zip_longest(a, b):\n",
    "  print(aa, bb)\n",
    "  \n",
    "'''\n",
    "1 5\n",
    "2 6\n",
    "3 7\n",
    "4 None\n",
    "'''"
   ]
  },
  {
   "attachments": {},
   "cell_type": "markdown",
   "metadata": {},
   "source": [
    "## Improve readability with Named slices"
   ]
  },
  {
   "attachments": {},
   "cell_type": "markdown",
   "metadata": {},
   "source": [
    "Do you want to make your code more readable in Python?\n",
    "\n",
    "Use **named slices**.\n",
    "\n",
    "They are reusable and make your code less messy.\n",
    "\n",
    "Especially when there is a lot of slicing involved."
   ]
  },
  {
   "cell_type": "code",
   "execution_count": null,
   "metadata": {},
   "outputs": [],
   "source": [
    "LETTERS = slice(0,2)\n",
    "NUMS = slice(2,6)\n",
    "CITY = slice(6, None)\n",
    "\n",
    "code_1 = \"LH1234 BLN\"\n",
    "code_2 = \"LH7672 MUC\"\n",
    "\n",
    "print(code_1[LETTERS], code_1[NUMS], code_1[CITY])\n",
    "print(code_2[LETTERS], code_2[NUMS], code_2[CITY])\n"
   ]
  },
  {
   "attachments": {},
   "cell_type": "markdown",
   "metadata": {},
   "source": [
    "## Pythonic way for matrix multiplication"
   ]
  },
  {
   "attachments": {},
   "cell_type": "markdown",
   "metadata": {},
   "source": [
    "Did you know the ‘@’ operator performs 𝐦𝐚𝐭𝐫𝐢𝐱 𝐦𝐮𝐥𝐭𝐢𝐩𝐥𝐢𝐜𝐚𝐭𝐢𝐨𝐧 in Python?\n",
    "\n",
    "Normally, you would use `numpy.matmul()`.\n",
    "\n",
    "But since Python 3.5, you can also use the ‘@’ operator as a more readable way."
   ]
  },
  {
   "cell_type": "code",
   "execution_count": null,
   "metadata": {},
   "outputs": [],
   "source": [
    "import numpy as np\n",
    "\n",
    "a =  np.array([[1, 2],\n",
    "              [4, 1],\n",
    "              [3, 4]])\n",
    "b = np.array([[4, 5],\n",
    "              [1, 0]])\n",
    "\n",
    "a @ b\n",
    "\n",
    "np.matmul(a, b)"
   ]
  },
  {
   "attachments": {},
   "cell_type": "markdown",
   "metadata": {},
   "source": [
    "## Use Guard Clauses for better If statements"
   ]
  },
  {
   "attachments": {},
   "cell_type": "markdown",
   "metadata": {},
   "source": [
    "Stop nesting your If-statements.\n",
    "\n",
    "Instead, use the **Guard Clause** technique.\n",
    "\n",
    "The **Guard Clause** pattern says you should terminate a block of code early by checking for invalid inputs or edge cases at the beginning of your functions.\n",
    "\n",
    "Below you can see how we can make our If-statements more readable by checking for the conditions and immediately return None if it’s  false."
   ]
  },
  {
   "cell_type": "code",
   "execution_count": null,
   "metadata": {},
   "outputs": [],
   "source": [
    "# Old way\n",
    "def calculate_price(quantity, price_per_unit):\n",
    "    if quantity > 0:\n",
    "        if price_per_unit > 0:\n",
    "            return quantity * price_per_unit\n",
    "        else:\n",
    "            return None\n",
    "    else:\n",
    "        return None\n",
    "    \n",
    "# Better way with Guard Clause\n",
    "def calculate_price(quantity, price_per_unit):\n",
    "    if quantity <= 0:\n",
    "        return None\n",
    "    if price_per_unit <= 0:\n",
    "        return None\n",
    "    return quantity * price_per_unit"
   ]
  },
  {
   "attachments": {},
   "cell_type": "markdown",
   "metadata": {},
   "source": [
    "## Hide Password Input from User"
   ]
  },
  {
   "attachments": {},
   "cell_type": "markdown",
   "metadata": {},
   "source": [
    "Do your Python Command-line apps include collecting secret keys or passwords?\n",
    "\n",
    "Use `getpass`, from the Python Standard Library.\n",
    "\n",
    "`getpass` ensures the user’s inputs will not be echoed back to the screen.\n",
    "\n",
    "A cool tool for your next Command-line app!"
   ]
  },
  {
   "cell_type": "code",
   "execution_count": null,
   "metadata": {},
   "outputs": [],
   "source": [
    "import getpass\n",
    "\n",
    "username = getpass.getuser()\n",
    "\n",
    "print(f\"{username} is logged in.\")\n",
    "\n",
    "password = getpass.getpass()\n",
    "\n",
    "print(f\"Password entered is: {password}\")"
   ]
  },
  {
   "attachments": {},
   "cell_type": "markdown",
   "metadata": {},
   "source": [
    "## Turn Classes into Callables "
   ]
  },
  {
   "attachments": {},
   "cell_type": "markdown",
   "metadata": {},
   "source": [
    "Did you know you can have callable objects in Python?\n",
    "\n",
    "You have to override the `__call__` method to call the object like a function."
   ]
  },
  {
   "cell_type": "code",
   "execution_count": null,
   "metadata": {},
   "outputs": [],
   "source": [
    "class Example:\n",
    "  def __call__(self):\n",
    "    print(\"I was called!\")\n",
    "    \n",
    "example_instance = Example()\n",
    "example_instance() # Will call the __call__ method"
   ]
  }
 ],
 "metadata": {
  "language_info": {
   "name": "python"
  },
  "orig_nbformat": 4
 },
 "nbformat": 4,
 "nbformat_minor": 2
}
