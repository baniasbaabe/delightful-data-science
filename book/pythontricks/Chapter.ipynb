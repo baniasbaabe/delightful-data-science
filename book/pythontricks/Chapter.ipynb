{
 "cells": [
  {
   "attachments": {},
   "cell_type": "markdown",
   "metadata": {},
   "source": [
    "## Make your numbers more readable"
   ]
  },
  {
   "cell_type": "code",
   "execution_count": null,
   "metadata": {
    "vscode": {
     "languageId": "plaintext"
    }
   },
   "outputs": [],
   "source": [
    "big_number = 1_000_000_000_000\n",
    "\n",
    "print(big_number)\n",
    "1000000000000"
   ]
  },
  {
   "cell_type": "code",
   "execution_count": null,
   "metadata": {
    "vscode": {
     "languageId": "plaintext"
    }
   },
   "outputs": [],
   "source": [
    "# Get Query Parameters with urllib.parse"
   ]
  },
  {
   "cell_type": "code",
   "execution_count": null,
   "metadata": {
    "vscode": {
     "languageId": "plaintext"
    }
   },
   "outputs": [],
   "source": [
    "from urllib import parse\n",
    "url = 'https://play.google.com/store/apps/details?id=com.happy.mood.diary&hl=de&gl=US'\n",
    "\n",
    "# Outputs \"id=com.happy.mood.diary&hl=de&gl=US\"\n",
    "query = parse.urlparse(url).query\n",
    "\n",
    "# Outputs \"{'id': ['com.happy.mood.diary'], 'hl': ['de'], 'gl': ['US']}\"\n",
    "parameters = parse.parse_qs(query)\n"
   ]
  },
  {
   "cell_type": "code",
   "execution_count": null,
   "metadata": {},
   "outputs": [],
   "source": [
    "# Zip to the longest iterable"
   ]
  },
  {
   "cell_type": "code",
   "execution_count": null,
   "metadata": {},
   "outputs": [],
   "source": [
    "from itertools import zip_longest\n",
    "\n",
    "a = [1,2,3,4]\n",
    "b = [5,6,7]\n",
    "\n",
    "# zip(): One element is missing\n",
    "for aa, bb in zip(a, b):\n",
    "  print(aa, bb)\n",
    "'''\n",
    "1 5\n",
    "2 6\n",
    "3 7\n",
    "'''\n",
    "\n",
    "# zip_longest()\n",
    "for aa, bb in zip_longest(a, b):\n",
    "  print(aa, bb)\n",
    "  \n",
    "'''\n",
    "1 5\n",
    "2 6\n",
    "3 7\n",
    "4 None\n",
    "'''"
   ]
  },
  {
   "cell_type": "code",
   "execution_count": null,
   "metadata": {},
   "outputs": [],
   "source": [
    "# Work with datetimes easily with pendulum"
   ]
  },
  {
   "cell_type": "code",
   "execution_count": null,
   "metadata": {},
   "outputs": [],
   "source": [
    "#!pip install pendulum\n",
    "import pendulum\n",
    "\n",
    "dt = pendulum.now()\n",
    "print(dt.to_iso8601_string())\n",
    "# Output: 2023-02-08T13:44:23.798316+01:00\n",
    "\n",
    "now_in_london = pendulum.now('Europe/London')\n",
    "print(now_in_london)\n",
    "# Output: 2023-02-08T12:44:23.799317+00:00\n",
    "\n",
    "past = pendulum.now().subtract(minutes=8)\n",
    "print(past.diff_for_humans())\n",
    "# Output: 8 minutes ago\n",
    "\n",
    "delta = past - pendulum.now().subtract(weeks=1)\n",
    "print(delta.in_words())\n",
    "# Output: 6 days 23 hours 51 minutes 59 seconds"
   ]
  },
  {
   "cell_type": "code",
   "execution_count": null,
   "metadata": {},
   "outputs": [],
   "source": [
    "# Improve readability with Named slices"
   ]
  },
  {
   "cell_type": "code",
   "execution_count": null,
   "metadata": {},
   "outputs": [],
   "source": [
    "LETTERS = slice(0,2)\n",
    "NUMS = slice(2,6)\n",
    "CITY = slice(6, None)\n",
    "\n",
    "code_1 = \"LH1234 BLN\"\n",
    "code_2 = \"LH7672 MUC\"\n",
    "\n",
    "print(code_1[LETTERS], code_1[NUMS], code_1[CITY])\n",
    "print(code_2[LETTERS], code_2[NUMS], code_2[CITY])\n"
   ]
  }
 ],
 "metadata": {
  "language_info": {
   "name": "python"
  },
  "orig_nbformat": 4
 },
 "nbformat": 4,
 "nbformat_minor": 2
}
