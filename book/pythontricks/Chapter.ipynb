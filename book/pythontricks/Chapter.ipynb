{
 "cells": [
  {
   "attachments": {},
   "cell_type": "markdown",
   "metadata": {},
   "source": [
    "# Pure Python + Built-in libraries"
   ]
  },
  {
   "attachments": {},
   "cell_type": "markdown",
   "metadata": {},
   "source": [
    "## Make your numbers more readable"
   ]
  },
  {
   "attachments": {},
   "cell_type": "markdown",
   "metadata": {},
   "source": [
    "Do you want to make your numbers in Python more readable?\n",
    "\n",
    "Use underscores such as `1_000_000`.\n",
    "\n",
    "Underscores in numbers in Python are used to make large numbers more readable.\n",
    "\n",
    "The underscores are ignored by the interpreter and do not affect the value of the number.\n",
    "\n",
    "See below for a small example.\n",
    "\n",
    "Note: Using two consecutive underscores is not allowed!"
   ]
  },
  {
   "cell_type": "code",
   "execution_count": null,
   "metadata": {},
   "outputs": [],
   "source": [
    "big_number = 1_000_000_000_000\n",
    "\n",
    "print(big_number)"
   ]
  },
  {
   "attachments": {},
   "cell_type": "markdown",
   "metadata": {
    "vscode": {
     "languageId": "plaintext"
    }
   },
   "source": [
    "## Get Query Parameters with `urllib.parse`"
   ]
  },
  {
   "attachments": {},
   "cell_type": "markdown",
   "metadata": {},
   "source": [
    "How to extract query parameters from an URL in Python?\n",
    "\n",
    "Query parameters are the extra pieces of information you can add to a URL to change how a website behaves.\n",
    "\n",
    "They come after a 'q' character in the URL and are made up of key-value pairs.\n",
    "\n",
    "The key describes what the information is for and the value is the actual information you want to send.\n",
    "\n",
    "Query parameters are extra pieces of information that you can add to a URL to change how a website behaves.\n",
    "\n",
    "To extract those query parameters in Python, use `urllib`.\n",
    "\n",
    "`urllib` provides functions to extract the query and its parameters for you."
   ]
  },
  {
   "cell_type": "code",
   "execution_count": null,
   "metadata": {},
   "outputs": [],
   "source": [
    "from urllib import parse\n",
    "url = 'https://play.google.com/store/apps/details?id=com.happy.mood.diary&hl=de&gl=US'\n",
    "\n",
    "# Outputs \"id=com.happy.mood.diary&hl=de&gl=US\"\n",
    "query = parse.urlparse(url).query\n",
    "\n",
    "# Outputs \"{'id': ['com.happy.mood.diary'], 'hl': ['de'], 'gl': ['US']}\"\n",
    "parameters = parse.parse_qs(query)\n"
   ]
  },
  {
   "attachments": {},
   "cell_type": "markdown",
   "metadata": {},
   "source": [
    "## Zip iterables to the longest iterable"
   ]
  },
  {
   "attachments": {},
   "cell_type": "markdown",
   "metadata": {},
   "source": [
    "Don’t use `zip()` in Python.\n",
    "\n",
    "When you have, let’s say, two lists of unequal length, zip() will return\n",
    "an iterable with as many elements as the shortest list.\n",
    "\n",
    "Instead, use `itertools.zip_longest()`.\n",
    "\n",
    "It will “pad” any shorter lists (or other iterables) with a fill value so that the returned iterable has the same length as the longest iterable.\n",
    "\n",
    "You will not lose any elements!"
   ]
  },
  {
   "cell_type": "code",
   "execution_count": null,
   "metadata": {},
   "outputs": [],
   "source": [
    "from itertools import zip_longest\n",
    "\n",
    "a = [1,2,3,4]\n",
    "b = [5,6,7]\n",
    "\n",
    "# zip(): One element is missing\n",
    "for aa, bb in zip(a, b):\n",
    "  print(aa, bb)\n",
    "'''\n",
    "1 5\n",
    "2 6\n",
    "3 7\n",
    "'''\n",
    "\n",
    "# zip_longest()\n",
    "for aa, bb in zip_longest(a, b):\n",
    "  print(aa, bb)\n",
    "  \n",
    "'''\n",
    "1 5\n",
    "2 6\n",
    "3 7\n",
    "4 None\n",
    "'''"
   ]
  },
  {
   "attachments": {},
   "cell_type": "markdown",
   "metadata": {},
   "source": [
    "## Improve readability with Named slices"
   ]
  },
  {
   "attachments": {},
   "cell_type": "markdown",
   "metadata": {},
   "source": [
    "Do you want to make your code more readable in Python?\n",
    "\n",
    "Use **named slices**.\n",
    "\n",
    "They are reusable and make your code less messy.\n",
    "\n",
    "Especially when there is a lot of slicing involved."
   ]
  },
  {
   "cell_type": "code",
   "execution_count": null,
   "metadata": {},
   "outputs": [],
   "source": [
    "LETTERS = slice(0,2)\n",
    "NUMS = slice(2,6)\n",
    "CITY = slice(6, None)\n",
    "\n",
    "code_1 = \"LH1234 BLN\"\n",
    "code_2 = \"LH7672 MUC\"\n",
    "\n",
    "print(code_1[LETTERS], code_1[NUMS], code_1[CITY])\n",
    "print(code_2[LETTERS], code_2[NUMS], code_2[CITY])\n"
   ]
  },
  {
   "attachments": {},
   "cell_type": "markdown",
   "metadata": {},
   "source": [
    "## Pythonic way for matrix multiplication"
   ]
  },
  {
   "attachments": {},
   "cell_type": "markdown",
   "metadata": {},
   "source": [
    "Did you know the ‘@’ operator performs 𝐦𝐚𝐭𝐫𝐢𝐱 𝐦𝐮𝐥𝐭𝐢𝐩𝐥𝐢𝐜𝐚𝐭𝐢𝐨𝐧 in Python?\n",
    "\n",
    "Normally, you would use `numpy.matmul()`.\n",
    "\n",
    "But since Python 3.5, you can also use the ‘@’ operator as a more readable way."
   ]
  },
  {
   "cell_type": "code",
   "execution_count": null,
   "metadata": {},
   "outputs": [],
   "source": [
    "import numpy as np\n",
    "\n",
    "a =  np.array([[1, 2],\n",
    "              [4, 1],\n",
    "              [3, 4]])\n",
    "b = np.array([[4, 5],\n",
    "              [1, 0]])\n",
    "\n",
    "a @ b\n",
    "\n",
    "np.matmul(a, b)"
   ]
  },
  {
   "attachments": {},
   "cell_type": "markdown",
   "metadata": {},
   "source": [
    "## Use Guard Clauses for better If statements"
   ]
  },
  {
   "attachments": {},
   "cell_type": "markdown",
   "metadata": {},
   "source": [
    "Stop nesting your If-statements.\n",
    "\n",
    "Instead, use the **Guard Clause** technique.\n",
    "\n",
    "The **Guard Clause** pattern says you should terminate a block of code early by checking for invalid inputs or edge cases at the beginning of your functions.\n",
    "\n",
    "Below you can see how we can make our If-statements more readable by checking for the conditions and immediately return None if it’s  false."
   ]
  },
  {
   "cell_type": "code",
   "execution_count": null,
   "metadata": {},
   "outputs": [],
   "source": [
    "# Old way\n",
    "def calculate_price(quantity, price_per_unit):\n",
    "    if quantity > 0:\n",
    "        if price_per_unit > 0:\n",
    "            return quantity * price_per_unit\n",
    "        else:\n",
    "            return None\n",
    "    else:\n",
    "        return None\n",
    "    \n",
    "# Better way with Guard Clause\n",
    "def calculate_price(quantity, price_per_unit):\n",
    "    if quantity <= 0:\n",
    "        return None\n",
    "    if price_per_unit <= 0:\n",
    "        return None\n",
    "    return quantity * price_per_unit"
   ]
  },
  {
   "attachments": {},
   "cell_type": "markdown",
   "metadata": {},
   "source": [
    "## Hide Password Input from User"
   ]
  },
  {
   "attachments": {},
   "cell_type": "markdown",
   "metadata": {},
   "source": [
    "Do your Python Command-line apps include collecting secret keys or passwords?\n",
    "\n",
    "Use `getpass`, from the Python Standard Library.\n",
    "\n",
    "`getpass` ensures the user’s inputs will not be echoed back to the screen.\n",
    "\n",
    "A cool tool for your next Command-line app!"
   ]
  },
  {
   "cell_type": "code",
   "execution_count": null,
   "metadata": {},
   "outputs": [],
   "source": [
    "import getpass\n",
    "\n",
    "username = getpass.getuser()\n",
    "\n",
    "print(f\"{username} is logged in.\")\n",
    "\n",
    "password = getpass.getpass()\n",
    "\n",
    "print(f\"Password entered is: {password}\")"
   ]
  },
  {
   "attachments": {},
   "cell_type": "markdown",
   "metadata": {},
   "source": [
    "## Turn Classes into Callables "
   ]
  },
  {
   "attachments": {},
   "cell_type": "markdown",
   "metadata": {},
   "source": [
    "Did you know you can have callable objects in Python?\n",
    "\n",
    "You have to override the `__call__` method to call the object like a function."
   ]
  },
  {
   "cell_type": "code",
   "execution_count": null,
   "metadata": {},
   "outputs": [],
   "source": [
    "class Example:\n",
    "  def __call__(self):\n",
    "    print(\"I was called!\")\n",
    "    \n",
    "example_instance = Example()\n",
    "example_instance() # Will call the __call__ method"
   ]
  },
  {
   "attachments": {},
   "cell_type": "markdown",
   "metadata": {},
   "source": [
    "## Wrap Text with `textwrap`"
   ]
  },
  {
   "attachments": {},
   "cell_type": "markdown",
   "metadata": {},
   "source": [
    "Do you want to format your text output easily?\n",
    "\n",
    "Use `textwrap`!\n",
    "\n",
    "`textwrap` lets you wrap paragraphs, adjust line widths and handle indentation."
   ]
  },
  {
   "cell_type": "code",
   "execution_count": null,
   "metadata": {},
   "outputs": [],
   "source": [
    "import textwrap\n",
    "\n",
    "text = \"Lorem ipsum dolor sit amet, consectetur adipiscing elit. Integer nec tellus vitae turpis tempus porttitor. Fusce cursus nisi eu urna pharetra, a congue ex aliquet. Quisque vitae consequat nulla, nec bibendum risus.\"\n",
    "\n",
    "# Wrap text to a specific line width\n",
    "wrapped_text = textwrap.wrap(text, width=30)\n",
    "\n",
    "for line in wrapped_text:\n",
    "    print(line)"
   ]
  },
  {
   "attachments": {},
   "cell_type": "markdown",
   "metadata": {},
   "source": [
    "## Add LRU Caching to your Functions"
   ]
  },
  {
   "attachments": {},
   "cell_type": "markdown",
   "metadata": {},
   "source": [
    "Python offers a neat way to add caching to functions.\n",
    "\n",
    "You just need to add the `lru_cache` decorator from `functools`.\n",
    "\n",
    "It takes a `maxsize` argument that specifies the maximum number of results to cache.\n",
    "\n",
    "When the function is called with the same arguments, it first checks the cache and returns the cached result if available."
   ]
  },
  {
   "cell_type": "code",
   "execution_count": null,
   "metadata": {},
   "outputs": [],
   "source": [
    "from functools import lru_cache\n",
    "\n",
    "@lru_cache(maxsize=128)\n",
    "def fibonacci(n):\n",
    "    if n < 2:\n",
    "        return n\n",
    "    return fibonacci(n-1) + fibonacci(n-2)\n",
    "\n",
    "fibonacci(10)"
   ]
  },
  {
   "cell_type": "markdown",
   "metadata": {},
   "source": [
    "## Cache Methods in Classes with `functools.cached_property`"
   ]
  },
  {
   "cell_type": "markdown",
   "metadata": {},
   "source": [
    "To cache the result of a method of a class, use `functools.cached_property`.\n",
    "\n",
    "It transforms a method into a property where its value is computed only once and then cached."
   ]
  },
  {
   "cell_type": "code",
   "execution_count": null,
   "metadata": {},
   "outputs": [],
   "source": [
    "from functools import cached_property\n",
    "\n",
    "class MyClass:\n",
    "    @cached_property\n",
    "    def expensive_operation(self):\n",
    "        # Perform some expensive computation here\n",
    "        return result\n",
    "\n",
    "my_object = MyClass()\n",
    "\n",
    "print(my_object.expensive_operation)\n"
   ]
  },
  {
   "attachments": {},
   "cell_type": "markdown",
   "metadata": {},
   "source": [
    "## For-Else Loops in Python"
   ]
  },
  {
   "attachments": {},
   "cell_type": "markdown",
   "metadata": {},
   "source": [
    "You probably know about If-Else.\n",
    "\n",
    "But do you know about `For-Else`?\n",
    "\n",
    "You can add an else-block which will be executed only if the loop completes all its iterations without executing a break statement.\n",
    "\n",
    "See the small example below, where the else-block will be executed after nothing was found in the for-loop."
   ]
  },
  {
   "cell_type": "code",
   "execution_count": null,
   "metadata": {},
   "outputs": [],
   "source": [
    "fruits = ['apple', 'orange', 'pear']\n",
    "\n",
    "for fruit in fruits:\n",
    "    if fruit == 'banana':\n",
    "        print(\"Found the banana!\")\n",
    "        break\n",
    "else:\n",
    "    print(\"Banana not found in the list.\")"
   ]
  },
  {
   "attachments": {},
   "cell_type": "markdown",
   "metadata": {},
   "source": [
    "## Heaps in Python"
   ]
  },
  {
   "attachments": {},
   "cell_type": "markdown",
   "metadata": {},
   "source": [
    "Want an efficient way to retrieve the N smallest/largest elements in Python?\n",
    "\n",
    "Use `𝐡𝐞𝐚𝐩𝐪`.\n",
    "\n",
    "`𝐡𝐞𝐚𝐩𝐪` is a standard library for working with heaps.\n",
    "\n",
    "A heap is a specialized tree-based data structure that satisfies the heap property.\n",
    "\n",
    "In a heap, the value of each node is either greater than or equal to (in a max heap) or less than or equal to (in a min heap) the values of its children.\n",
    "\n",
    "Therefore, retrieving the N smallest/largest elements can be done in a fast way."
   ]
  },
  {
   "cell_type": "code",
   "execution_count": null,
   "metadata": {},
   "outputs": [],
   "source": [
    "import heapq\n",
    "\n",
    "data = [5, 9, 2, 1, 6, 3, 8, 4, 7]\n",
    "\n",
    "largest = heapq.nlargest(3, data)\n",
    "print(\"Largest elements:\", largest)  # Output: [9, 8, 7]\n",
    "\n",
    "smallest = heapq.nsmallest(3, data)\n",
    "print(\"Smallest elements:\", smallest)  # Output: [1, 2, 3]"
   ]
  },
  {
   "attachments": {},
   "cell_type": "markdown",
   "metadata": {},
   "source": [
    "## Difference between `__str__` and `__repr__`"
   ]
  },
  {
   "attachments": {},
   "cell_type": "markdown",
   "metadata": {},
   "source": [
    "Do you know the difference between `__𝐬𝐭𝐫__` and `__𝐫𝐞𝐩𝐫__`?\n",
    "\n",
    "In Python, both methods are used to define string representations of an\n",
    "object.\n",
    "\n",
    "But, when to use which one for your classes?\n",
    "\n",
    "The `__𝐬𝐭𝐫__` method is intended to provide a human-readable string representation of the object.\n",
    "\n",
    "While the `__𝐫𝐞𝐩𝐫__` method is intended to provide a detailed string representation.\n",
    "\n",
    "See the example below with the built-in datetime library.\n",
    "\n",
    "We see that the `__𝐫𝐞𝐩𝐫__` method of the datetime class has a detailed and unambiguous output."
   ]
  },
  {
   "cell_type": "code",
   "execution_count": null,
   "metadata": {},
   "outputs": [],
   "source": [
    "import datetime\n",
    "today = datetime.datetime.now()\n",
    " \n",
    "print(\"str:\", str(today))\n",
    " \n",
    "print(\"repr: \", repr(today))\n",
    "\n",
    "# str:   2023-07-02 21:21:00.771969\n",
    "#repr:  datetime.datetime(2023, 7, 2, 21, 21, 0, 771969)"
   ]
  },
  {
   "attachments": {},
   "cell_type": "markdown",
   "metadata": {},
   "source": [
    "## Neat Way to Merge Dictionaries"
   ]
  },
  {
   "attachments": {},
   "cell_type": "markdown",
   "metadata": {},
   "source": [
    "Do you need a clean way to merge two dictionaries in Python?\n",
    "\n",
    "Use the `|` operator (available since Python 3.9)\n",
    "\n",
    "Unlike other methods (like the .update method or unpacking), it offers a neat way to merge dictionaries.\n",
    "\n",
    "See below for a small example."
   ]
  },
  {
   "cell_type": "code",
   "execution_count": null,
   "metadata": {},
   "outputs": [],
   "source": [
    "dict_1 = {\"A\": 1, \"B\": 2}\n",
    "dict_2 = {\"C\": 3, \"D\": 4}\n",
    "\n",
    "dict_1 | dict_2"
   ]
  },
  {
   "cell_type": "markdown",
   "metadata": {},
   "source": [
    "## Switch Case Statements in Python"
   ]
  },
  {
   "cell_type": "markdown",
   "metadata": {},
   "source": [
    "Did you know Python has switch-cases too?\n",
    "\n",
    "They’re called match-case and it was introduced in Python 3.10+.\n",
    "\n",
    "It allows you to perform (complex) pattern matching on values and execute code blocks based on the matched patterns."
   ]
  },
  {
   "cell_type": "code",
   "execution_count": null,
   "metadata": {},
   "outputs": [],
   "source": [
    "def match_example(value):\n",
    "    match value:\n",
    "        case 1:\n",
    "            print(\"Value is 1\")\n",
    "\n",
    "        case 2 | 3:\n",
    "            print(\"Value is 2 or 3\")\n",
    "        \n",
    "        case 4:\n",
    "            print(\"Value is 4\")\n",
    "        \n",
    "        case _:\n",
    "            print(\"Value is something else\")\n",
    "\n",
    "match_example(2)"
   ]
  },
  {
   "cell_type": "markdown",
   "metadata": {},
   "source": [
    "## Walrus Operator in Python"
   ]
  },
  {
   "cell_type": "markdown",
   "metadata": {},
   "source": [
    "Do you know about the Walrus operator in Python?\n",
    "\n",
    "The Walrus operator allows you to assign a value to a variable as part of an expression."
   ]
  },
  {
   "cell_type": "code",
   "execution_count": null,
   "metadata": {},
   "outputs": [],
   "source": [
    "# With Walrus Operator\n",
    "if (name := input(\"Enter your name: \")):\n",
    "    print(f\"Hello, {name}!\")\n",
    "else:\n",
    "    print(\"Hello, anonymous!\")"
   ]
  },
  {
   "cell_type": "code",
   "execution_count": null,
   "metadata": {},
   "outputs": [],
   "source": [
    "# Without Walrus Operator\n",
    "name = input(\"Enter your name: \")\n",
    "if name:\n",
    "    print(f\"Hello, {name}!\")\n",
    "else:\n",
    "    print(\"Hello, anonymous!\")\n"
   ]
  },
  {
   "cell_type": "markdown",
   "metadata": {},
   "source": [
    "## Count Occurrences in an Iterable with `Counter`"
   ]
  },
  {
   "cell_type": "markdown",
   "metadata": {},
   "source": [
    "Don’t count the occurrences of elements in your list manually.\n",
    "\n",
    "Instead, use `collections.Counter` in Python.\n",
    "\n",
    "`Counter` is used for counting the occurrences of elements in an iterable."
   ]
  },
  {
   "cell_type": "code",
   "execution_count": null,
   "metadata": {},
   "outputs": [],
   "source": [
    "# With Counter\n",
    "from collections import Counter\n",
    "\n",
    "fruits = [\"apple\", \"banana\", \"apple\", \"orange\", \"banana\", \"kiwi\"]\n",
    "\n",
    "fruit_counter = Counter(fruits)\n",
    "\n",
    "# Output: Counter({'apple': 2, 'banana': 2, 'orange': 1, 'kiwi': 1})"
   ]
  },
  {
   "cell_type": "code",
   "execution_count": null,
   "metadata": {},
   "outputs": [],
   "source": [
    "# Without Counter\n",
    "fruits = [\"apple\", \"banana\", \"apple\", \"orange\", \"banana\", \"kiwi\"]\n",
    "\n",
    "fruit_counts = {}\n",
    "\n",
    "for fruit in fruits:\n",
    "    if fruit in fruit_counts:\n",
    "        fruit_counts[fruit] += 1\n",
    "    else:\n",
    "        fruit_counts[fruit] = 1"
   ]
  },
  {
   "cell_type": "markdown",
   "metadata": {},
   "source": [
    "## Set Default Values for Dictionaries with `defaultdict`"
   ]
  },
  {
   "cell_type": "markdown",
   "metadata": {},
   "source": [
    "Don’t use dictionaries in Python.\n",
    "\n",
    "Instead use `defaultdicts`.\n",
    "\n",
    "`defaultdict` is similar to dictionaries, but it allows you to set a default value for new keys that haven't been added yet.\n",
    "\n",
    "This is useful when you want to perform operations without checking if a key exists."
   ]
  },
  {
   "cell_type": "code",
   "execution_count": null,
   "metadata": {},
   "outputs": [],
   "source": [
    "from collections import defaultdict\n",
    "      \n",
    "d = defaultdict(list)\n",
    "\n",
    "d[\"Fruits\"].append(\"Kiwi\")\n",
    "d[\"Cars\"].append(\"Mercedes\")\n",
    "  \n",
    "print(d[\"Fruits\"])\n",
    "print(d[\"Cars\"])\n",
    "print(d[\"Animals\"])\n",
    "\n",
    "'''\n",
    "Output:\n",
    "['Kiwi']\n",
    "['Mercedes']\n",
    "[]\n",
    "'''"
   ]
  },
  {
   "cell_type": "markdown",
   "metadata": {},
   "source": [
    "## More Structured Tuples with `namedtuple`"
   ]
  },
  {
   "cell_type": "markdown",
   "metadata": {},
   "source": [
    "You don’t know about `namedtuple`?\n",
    "\n",
    "`namedtuple` are similar to regular tuples, but have named fields.\n",
    "\n",
    "This makes them more self-documenting and easier to work with."
   ]
  },
  {
   "cell_type": "code",
   "execution_count": null,
   "metadata": {},
   "outputs": [],
   "source": [
    "from collections import namedtuple\n",
    " \n",
    "Point = namedtuple('Point', ['x', 'y'])\n",
    "p = Point(x=3.2, y=1.0)\n",
    "print(p.x, p.y)"
   ]
  },
  {
   "cell_type": "markdown",
   "metadata": {},
   "source": [
    "## Mutable Default Values for Function Arguments"
   ]
  },
  {
   "cell_type": "markdown",
   "metadata": {},
   "source": [
    "One big mistake in Python:\n",
    "\n",
    "Using mutable default values for function arguments.\n",
    "\n",
    "When using mutable objects like a list as a default value, you have to be careful.\n",
    "\n",
    "See the example below, where the default list is shared among all calls to the function.\n",
    "\n",
    "To fix this, set the default value to None and create a new list inside the function if no list is provided."
   ]
  },
  {
   "cell_type": "code",
   "execution_count": null,
   "metadata": {},
   "outputs": [],
   "source": [
    "# Dangerous behaviour:\n",
    "def increment_numbers(numbers=[]):\n",
    "    for i in range(3):\n",
    "        numbers.append(i)\n",
    "    print(f\"Numbers: {numbers}\")\n",
    "\n",
    "increment_numbers()  # Output: Numbers: [0, 1, 2]\n",
    "increment_numbers()  # Output: Numbers: [0, 1, 2, 0, 1, 2]\n",
    "\n",
    "\n",
    "# Better:\n",
    "def increment_numbers(numbers=None):\n",
    "    if numbers is None:\n",
    "        numbers = []\n",
    "    for i in range(3):\n",
    "        numbers.append(i)\n",
    "    print(f\"Numbers: {numbers}\")\n",
    "\n",
    "increment_numbers()  # Output: Numbers: [0, 1, 2]\n",
    "increment_numbers()  # Output: Numbers: [0, 1, 2]"
   ]
  },
  {
   "cell_type": "markdown",
   "metadata": {},
   "source": [
    "## Optimize Your Python Objects with `__slots__`"
   ]
  },
  {
   "cell_type": "markdown",
   "metadata": {},
   "source": [
    "Optimize your Python classes with this trick.\n",
    "\n",
    "When creating objects, a dynamic dictionary is created too to store instance attributes.\n",
    "\n",
    "But, what if you know all of your attributes beforehand?\n",
    "\n",
    "With `__𝐬𝐥𝐨𝐭𝐬__`, you can specify which attributes your object instances will have.\n",
    "\n",
    "This saves space in memory and prevents users from creating new attributes at runtime.\n",
    "\n",
    "See below how setting a new instance attribute will throw an error."
   ]
  },
  {
   "cell_type": "code",
   "execution_count": null,
   "metadata": {},
   "outputs": [],
   "source": [
    "class Point:\n",
    "    __slots__ = ['x', 'y']\n",
    "\n",
    "    def __init__(self, x, y):\n",
    "        self.x = x\n",
    "        self.y = y\n",
    "\n",
    "point = Point(2,4)\n",
    "point.z = 5 # Throws an error"
   ]
  },
  {
   "cell_type": "markdown",
   "metadata": {},
   "source": [
    "## Modify Print Statements"
   ]
  },
  {
   "cell_type": "markdown",
   "metadata": {},
   "source": [
    "When printing multiple elements in Python, it starts a new line by default.\n",
    "\n",
    "But, you can change this default to whatever you like by setting the `end` parameter in `print()`.\n",
    "\n",
    "See below where we change the `end` parameter to space."
   ]
  },
  {
   "cell_type": "code",
   "execution_count": null,
   "metadata": {},
   "outputs": [],
   "source": [
    "sports = [\"football\", \"basketball\", \"volleyball\", \"tennis\", \"handball\"]\n",
    "\n",
    "for sport in sports:\n",
    "    print(sport, end=\" \")"
   ]
  },
  {
   "cell_type": "markdown",
   "metadata": {},
   "source": [
    "## Type Variables in Python 3.12"
   ]
  },
  {
   "cell_type": "markdown",
   "metadata": {},
   "source": [
    "One cool feature in Python 3.12:\n",
    "\n",
    "The support for Type Variables.\n",
    "\n",
    "You can use them to parametrize generic classes and functions.\n",
    "\n",
    "See below for a small example where our generic class is parametrized by T which we indicate with [T]."
   ]
  },
  {
   "cell_type": "code",
   "execution_count": null,
   "metadata": {},
   "outputs": [],
   "source": [
    "class Stack[T]:\n",
    "    def __init__(self) -> None:\n",
    "        self.items: List[T] = []\n",
    "\n",
    "    def push(self, item: T) -> None:\n",
    "        self.items.append(item)"
   ]
  },
  {
   "cell_type": "markdown",
   "metadata": {},
   "source": [
    "## Enumerations in Python"
   ]
  },
  {
   "cell_type": "markdown",
   "metadata": {},
   "source": [
    "To make your Python Code cleaner, use `Enums`.\n",
    "\n",
    "`Enums` (or enumerations) are a way to represent a set of named values as symbolic names.\n",
    "\n",
    "It provides a way to work with meaningful names instead of raw integers or weird string constants.\n",
    "\n",
    "Python supports enums with its standard library."
   ]
  },
  {
   "cell_type": "code",
   "execution_count": null,
   "metadata": {},
   "outputs": [],
   "source": [
    "# Option 1\n",
    "from enum import Enum, auto\n",
    "\n",
    "class Color(Enum):\n",
    "    RED = 1\n",
    "    GREEN = 2\n",
    "    BLUE = 3\n",
    "    \n",
    "print(Color.RED.value)  # Output: 1\n",
    "\n",
    "# Option 2: auto() assigns unique values starting by 1\n",
    "class Status(Enum):\n",
    "    PENDING = auto()\n",
    "    APPROVED = auto()\n",
    "    REJECTED = auto()\n",
    "    \n",
    "print(Status.PENDING.value) # Output: 1"
   ]
  },
  {
   "cell_type": "markdown",
   "metadata": {},
   "source": [
    "## Never use `eval`"
   ]
  },
  {
   "cell_type": "markdown",
   "metadata": {},
   "source": [
    "One big mistake in Python:\n",
    "\n",
    "Using `eval` in your code.\n",
    "\n",
    "`eval`, like the name suggests, evaluates a Python expression.\n",
    "\n",
    "The big problem: One could inject malicious code which will be evaluated."
   ]
  },
  {
   "cell_type": "code",
   "execution_count": null,
   "metadata": {},
   "outputs": [],
   "source": [
    "def calculate(expression):\n",
    "    return eval(expression)\n",
    "    \n",
    "print(calculate(\"5 + 5\"))\n",
    "\n",
    "# DON'T RUN THIS LINE OF CODE\n",
    "print(calculate(\"__import__('os').system('rm -rf /')\"))"
   ]
  }
 ],
 "metadata": {
  "language_info": {
   "name": "python"
  },
  "orig_nbformat": 4
 },
 "nbformat": 4,
 "nbformat_minor": 2
}
