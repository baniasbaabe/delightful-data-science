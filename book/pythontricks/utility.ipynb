{
 "cells": [
  {
   "cell_type": "markdown",
   "metadata": {},
   "source": [
    "## Speed up For-Loop with joblib.Parallel"
   ]
  },
  {
   "attachments": {},
   "cell_type": "markdown",
   "metadata": {},
   "source": [
    "Don't use plain for loops in Python.\n",
    "\n",
    "`Joblib` provides a `Parallel` class to write parallel for loops using multiprocessing.\n",
    "\n",
    "Below you can see an example of how to use it with all of your processors to speed up your calculations."
   ]
  },
  {
   "cell_type": "code",
   "execution_count": null,
   "metadata": {},
   "outputs": [],
   "source": [
    "from joblib import Parallel, delayed\n",
    "\n",
    "def process_image(path):\n",
    "   ...\n",
    "    return image\n",
    "  \n",
    " image_paths = [\"path1.jpg\", \"path2.jpg\"]\n",
    "\n",
    "result = Parallel(n_jobs = -1, backend = \"multiprocessing\")(\n",
    "  delayed(process_image)(path) for path in image_paths\n",
    ")"
   ]
  }
 ],
 "metadata": {
  "language_info": {
   "name": "python"
  },
  "orig_nbformat": 4
 },
 "nbformat": 4,
 "nbformat_minor": 2
}
