{
 "cells": [
  {
   "cell_type": "markdown",
   "metadata": {},
   "source": [
    "# Tooling for Python Projects"
   ]
  },
  {
   "cell_type": "markdown",
   "metadata": {},
   "source": [
    "## `uv`: Super-fast pip Alternative "
   ]
  },
  {
   "cell_type": "markdown",
   "metadata": {},
   "source": [
    "Forget plain pip for installing packages.\n",
    "\n",
    "Use `uv` for Python package installing.\n",
    "\n",
    "`uv` is a blazingly fast package installer and resolver, written in Rust for high performance.\n",
    "\n",
    "It is a drop-in replacement for pip and pip-tools, being up to 115x faster.\n",
    "\n",
    "`uv` is still in an early phase, but it's interesting to see where it goes."
   ]
  },
  {
   "cell_type": "code",
   "execution_count": null,
   "metadata": {},
   "outputs": [],
   "source": [
    "!curl -LsSf https://astral.sh/uv/install.sh | sh"
   ]
  },
  {
   "cell_type": "code",
   "execution_count": null,
   "metadata": {},
   "outputs": [],
   "source": [
    "!uv pip install requests"
   ]
  },
  {
   "cell_type": "markdown",
   "metadata": {},
   "source": [
    "## Watch File Changes with `watchdog`"
   ]
  },
  {
   "cell_type": "markdown",
   "metadata": {},
   "source": [
    "Ever needed to track file changes in real-time?\n",
    "\n",
    "With **watchdog**, you can do that in Python easily.\n",
    "\n",
    "**watchdog** allows you to detect file creations, modifications, and deletions instantly.\n",
    "\n",
    "See below for a small example.\n",
    "\n",
    "-> **FileSystemEventHandler**: Handles file system events like when a file is modified or deleted.\n",
    "\n",
    "-> **Observer**: Watched the directory for changes"
   ]
  },
  {
   "cell_type": "code",
   "execution_count": null,
   "metadata": {},
   "outputs": [],
   "source": [
    "!pip install watchdog"
   ]
  },
  {
   "cell_type": "code",
   "execution_count": null,
   "metadata": {},
   "outputs": [],
   "source": [
    "from watchdog.observers import Observer\n",
    "from watchdog.events import FileSystemEventHandler\n",
    "import time\n",
    "\n",
    "class MyHandler(FileSystemEventHandler):\n",
    "    def on_modified(self, event):\n",
    "        print(f'File {event.src_path} has been modified')\n",
    "\n",
    "    def on_created(self, event):\n",
    "        print(f'File {event.src_path} has been created')\n",
    "\n",
    "    def on_deleted(self, event):\n",
    "        print(f'File {event.src_path} has been deleted')\n",
    "\n",
    "if __name__ == \"__main__\":\n",
    "    path = \".\"  # Watch current directory\n",
    "    event_handler = MyHandler()\n",
    "    observer = Observer()\n",
    "    observer.schedule(event_handler, path, recursive=True)\n",
    "    \n",
    "    observer.start()\n",
    "    try:\n",
    "        while True:\n",
    "            time.sleep(1)  # Keep the script running\n",
    "    except KeyboardInterrupt:\n",
    "        observer.stop()\n",
    "    # blocks the main thread and waits for the observer thread to finish\n",
    "    observer.join()"
   ]
  }
 ],
 "metadata": {
  "language_info": {
   "name": "python"
  }
 },
 "nbformat": 4,
 "nbformat_minor": 2
}
