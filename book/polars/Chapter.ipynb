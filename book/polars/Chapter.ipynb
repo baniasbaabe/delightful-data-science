{
 "cells": [
  {
   "cell_type": "markdown",
   "metadata": {},
   "source": [
    "# Polars Tips & Tricks"
   ]
  },
  {
   "cell_type": "markdown",
   "metadata": {},
   "source": [
    "## Plugin for Data Science Functions"
   ]
  },
  {
   "cell_type": "markdown",
   "metadata": {},
   "source": [
    "Polars gains increasing popularity.\n",
    "\n",
    "\n",
    "\n",
    "If you already ditched pandas for it, you don’t have to rewrite all of your functions in Polars again.\n",
    "\n",
    "\n",
    "\n",
    "`polars-ds`, a community plugin, has reimplemented common functions for Data Scientists like:\n",
    "\n",
    "\n",
    "\n",
    "- Statistical tests (t-test, …),\n",
    "\n",
    "- String similarities (Levenshtein, …)\n",
    "\n",
    "- Loss Functions and metrics (ROC, R2, L1, Huber, …)"
   ]
  },
  {
   "cell_type": "code",
   "execution_count": null,
   "metadata": {},
   "outputs": [],
   "source": [
    "!pip install polars_ds"
   ]
  },
  {
   "cell_type": "code",
   "execution_count": null,
   "metadata": {},
   "outputs": [],
   "source": [
    "import polars_ds\n",
    "import polars as pl\n",
    "\n",
    "df = pl.DataFrame(...)\n",
    "\n",
    "# Calculate Loss and Metrics\n",
    "df.group_by(\"dummy_groups\").agg(\n",
    "    pl.col(\"actual\").num_ext.l2_loss(pl.col(\"predicted\")).alias(\"l2\"),\n",
    "    pl.col(\"actual\").num_ext.bce(pl.col(\"predicted\")).alias(\"log loss\"),\n",
    "    pl.col(\"actual\").num_ext.binary_metrics_combo(pl.col(\"predicted\")).alias(\"combo\")\n",
    ").unnest(\"combo\")"
   ]
  }
 ],
 "metadata": {
  "language_info": {
   "name": "python"
  }
 },
 "nbformat": 4,
 "nbformat_minor": 2
}
