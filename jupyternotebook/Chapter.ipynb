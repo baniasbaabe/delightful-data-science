{
 "cells": [
  {
   "cell_type": "code",
   "execution_count": null,
   "metadata": {},
   "outputs": [],
   "source": [
    "# Identify your bottleneck with line_profiler"
   ]
  },
  {
   "cell_type": "code",
   "execution_count": null,
   "metadata": {},
   "outputs": [],
   "source": [
    "!pip install line_profiler\n",
    "\n",
    "%load_ext line_profiler\n",
    "\n",
    "def my_function(x):\n",
    "    for x in range(1, 10000):\n",
    "      x = x**2\n",
    "      x = x / 400\n",
    "    y = x + x\n",
    "    return y\n",
    "    \n",
    "%lprun -u 1e-3 -f my_function my_function(10)\n",
    "\n",
    "'''\n",
    "Timer unit: 0.001 s\n",
    "\n",
    "Total time: 0.0160793 s\n",
    "File: <ipython-input-18-790da5f104f0>\n",
    "Function: my_function at line 1\n",
    "\n",
    "Line #      Hits         Time  Per Hit   % Time  Line Contents\n",
    "==============================================================\n",
    "     1                                           def my_function(x):\n",
    "     2      9999          2.6      0.0     16.3      for x in range(1, 10000):\n",
    "     3      9999          6.1      0.0     37.7        x = x**2\n",
    "     4      9999          7.4      0.0     46.1        x = x / 400\n",
    "     5         1          0.0      0.0      0.0      y = x + x\n",
    "     6         1          0.0      0.0      0.0      return y\n",
    "     '''"
   ]
  }
 ],
 "metadata": {
  "language_info": {
   "name": "python"
  },
  "orig_nbformat": 4
 },
 "nbformat": 4,
 "nbformat_minor": 2
}
