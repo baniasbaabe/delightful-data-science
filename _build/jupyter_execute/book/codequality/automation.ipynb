{
 "cells": [
  {
   "cell_type": "markdown",
   "metadata": {},
   "source": [
    "# Automation"
   ]
  },
  {
   "cell_type": "markdown",
   "metadata": {},
   "source": [
    "## Automate Bash Commands with `Makefile`"
   ]
  },
  {
   "cell_type": "markdown",
   "metadata": {},
   "source": [
    "Do you struggle to remember the exact series of commands needed to build and package a Python project?\n",
    "\n",
    "Or manually running tests and installing dependencies?\n",
    "\n",
    "`Makefile` to the rescue!\n",
    "\n",
    "A `Makefile` can be used to automate bash commands and have a standardized way to execute those.\n",
    "\n",
    "See below for how we define commands for testing, install our dependencies, and format our code with black."
   ]
  },
  {
   "cell_type": "code",
   "execution_count": null,
   "metadata": {
    "vscode": {
     "languageId": "powershell"
    }
   },
   "outputs": [],
   "source": [
    "# Create a file named Makefile\n",
    "# Makefile\n",
    "\n",
    "install:\n",
    "    @echo \"Installing requirements ...\"\n",
    "    pip install -r requirements.txt --quiet\n",
    "\n",
    "test:\n",
    "    @echo \"Testing ...\"\n",
    "    pytest\n",
    "\n",
    "format:\n",
    "    @echo \"Formatting ...\"\n",
    "    black ."
   ]
  }
 ],
 "metadata": {
  "language_info": {
   "name": "python"
  }
 },
 "nbformat": 4,
 "nbformat_minor": 2
}