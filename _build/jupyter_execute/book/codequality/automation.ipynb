{
 "cells": [
  {
   "cell_type": "markdown",
   "metadata": {},
   "source": [
    "# Automation"
   ]
  },
  {
   "cell_type": "markdown",
   "metadata": {},
   "source": [
    "## Automate Bash Commands with `Makefile`"
   ]
  },
  {
   "cell_type": "markdown",
   "metadata": {},
   "source": [
    "Do you struggle to remember the exact series of commands needed to build and package a Python project?\n",
    "\n",
    "Or manually running tests and installing dependencies?\n",
    "\n",
    "`Makefile` to the rescue!\n",
    "\n",
    "A `Makefile` can be used to automate bash commands and have a standardized way to execute those.\n",
    "\n",
    "See below for how we define commands for testing, install our dependencies, and format our code with black."
   ]
  },
  {
   "cell_type": "code",
   "execution_count": null,
   "metadata": {
    "vscode": {
     "languageId": "powershell"
    }
   },
   "outputs": [],
   "source": [
    "# Create a file named Makefile\n",
    "# Makefile\n",
    "\n",
    "install:\n",
    "    @echo \"Installing requirements ...\"\n",
    "    pip install -r requirements.txt --quiet\n",
    "\n",
    "test:\n",
    "    @echo \"Testing ...\"\n",
    "    pytest\n",
    "\n",
    "format:\n",
    "    @echo \"Formatting ...\"\n",
    "    black ."
   ]
  },
  {
   "cell_type": "markdown",
   "metadata": {},
   "source": [
    "## Automate Testing with Nox"
   ]
  },
  {
   "cell_type": "markdown",
   "metadata": {},
   "source": [
    "Testing your code against multiple Python Versions is hard.\n",
    "\n",
    "With `Nox`, you can automate this step!\n",
    "\n",
    "`Nox` is a command-line tool to automate testing in multiple Python Environments locally.\n",
    "\n",
    "You can customize the sessions with a Python script.\n",
    "\n",
    "See the example below, where we define a session (𝐭𝐞𝐬𝐭𝐬) in our 𝐧𝐨𝐱𝐟𝐢𝐥𝐞.𝐩𝐲 and define the Python versions we want to test against. Moreover we set up another session (𝐥𝐢𝐧𝐭) to run flake8 against our code.\n",
    "\n",
    "`Nox` is highly customizable, so check out their documentation."
   ]
  },
  {
   "cell_type": "code",
   "execution_count": null,
   "metadata": {},
   "outputs": [],
   "source": [
    "# noxfile.py\n",
    "\n",
    "import nox\n",
    "\n",
    "@nox.session(python=[\"3.6\", \"3.7\", \"3.8\", \"3.9\"])\n",
    "def tests(session):\n",
    "    # Install testing dependency\n",
    "    session.install('pytest')\n",
    "    # Run tests\n",
    "    session.run('pytest')\n",
    "    \n",
    "@nox.session\n",
    "def lint(session):\n",
    "    session.install(\"flake8\")\n",
    "    session.run(\"flake8\", \"example.py\")"
   ]
  },
  {
   "cell_type": "code",
   "execution_count": null,
   "metadata": {
    "vscode": {
     "languageId": "powershell"
    }
   },
   "outputs": [],
   "source": [
    "!pip install nox"
   ]
  },
  {
   "cell_type": "code",
   "execution_count": null,
   "metadata": {
    "vscode": {
     "languageId": "powershell"
    }
   },
   "outputs": [],
   "source": [
    "!nox"
   ]
  },
  {
   "cell_type": "markdown",
   "metadata": {},
   "source": [
    "## Update Your Dependencies Automatically with `pyup`"
   ]
  },
  {
   "cell_type": "markdown",
   "metadata": {},
   "source": [
    "Do you need an easy way to update your project's dependencies?\n",
    "\n",
    "Try `pyup`.\n",
    "\n",
    "`pyup` goes through your dependency files and searches for new package versions.\n",
    "\n",
    "It will then create a new branch in your repository, a new commit for every update and a pull request containing all commits.\n",
    "\n",
    "You only need to provide an access token (from GitHub or GitLab) and the repository name."
   ]
  },
  {
   "cell_type": "code",
   "execution_count": null,
   "metadata": {},
   "outputs": [],
   "source": [
    "!pip install pyupio"
   ]
  },
  {
   "cell_type": "code",
   "execution_count": null,
   "metadata": {},
   "outputs": [],
   "source": [
    "!pyup --repo=username/repo --user-token=<YOUR_TOKEN> --initial # After running the first time, you can remove the --initial flag"
   ]
  },
  {
   "cell_type": "code",
   "execution_count": null,
   "metadata": {},
   "outputs": [],
   "source": [
    "# gitlab.com:\n",
    "!pyup --provider gitlab --repo=username/repo --user-token=<YOUR_TOKEN>"
   ]
  }
 ],
 "metadata": {
  "language_info": {
   "name": "python"
  }
 },
 "nbformat": 4,
 "nbformat_minor": 2
}