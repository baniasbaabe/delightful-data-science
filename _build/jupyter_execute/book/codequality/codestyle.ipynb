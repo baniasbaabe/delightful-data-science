{
 "cells": [
  {
   "cell_type": "markdown",
   "metadata": {},
   "source": [
    "# Code Style"
   ]
  },
  {
   "attachments": {},
   "cell_type": "markdown",
   "metadata": {},
   "source": [
    "## Remove unused lines with `autoflake`"
   ]
  },
  {
   "attachments": {},
   "cell_type": "markdown",
   "metadata": {},
   "source": [
    "Do you always remove your unused imports and variables in Python?\n",
    "\n",
    "If not, this can be problematic:\n",
    "\n",
    "- Your code will be more difficult to read\n",
    "- Reduced performance because the Python interpreter has to spend less time importing and evaluating unnecessary code\n",
    "- Potential issues can arise such as conflicts with other variables\n",
    "\n",
    "If you want to clean and optimize your code, try `autoflake`\n",
    "\n",
    "`autoflake` is a tool that automatically removes unused imports and variables for you.\n",
    "\n",
    "You can also customize to fine-tune how `autoflake` processes your code."
   ]
  },
  {
   "cell_type": "code",
   "execution_count": null,
   "metadata": {},
   "outputs": [],
   "source": [
    "!pip install autoflake"
   ]
  },
  {
   "cell_type": "code",
   "execution_count": null,
   "metadata": {},
   "outputs": [],
   "source": [
    "!autoflake --in-place <example.py>"
   ]
  },
  {
   "attachments": {},
   "cell_type": "markdown",
   "metadata": {},
   "source": [
    "## Ensure Documentation with `interrogate`"
   ]
  },
  {
   "attachments": {},
   "cell_type": "markdown",
   "metadata": {},
   "source": [
    "One aspect of code quality and maintainability is documenting your code.\n",
    "\n",
    "In Python, there are docstrings to do this job.\n",
    "\n",
    "How about to check if all of your methods and classes use docstrings?\n",
    "\n",
    "Try `interrogate`.\n",
    "\n",
    "`interrogate` is a Python tool for checking and enforcing docstrings.\n",
    "\n",
    "You can even print out a coverage report.\n",
    "\n",
    "Say goodbye to poorly-documented code!"
   ]
  },
  {
   "cell_type": "code",
   "execution_count": null,
   "metadata": {},
   "outputs": [],
   "source": [
    "!pip install interrogate"
   ]
  },
  {
   "cell_type": "code",
   "execution_count": null,
   "metadata": {},
   "outputs": [],
   "source": [
    "!interrogate . -v"
   ]
  },
  {
   "attachments": {},
   "cell_type": "markdown",
   "metadata": {},
   "source": [
    "## Sort your imports automatically with `isort`"
   ]
  },
  {
   "attachments": {},
   "cell_type": "markdown",
   "metadata": {},
   "source": [
    "When your Python app gets bigger, you will have more and more import statements. \n",
    "\n",
    "This can look nasty when you don’t order them.\n",
    "\n",
    "Don’t sort them manually.\n",
    "\n",
    "Instead, use `isort`.\n",
    "\n",
    "`isort` is a Python library that sorts your imports alphabetically and separates them into sections.\n",
    "\n",
    "You only need to type one line into your CLI."
   ]
  },
  {
   "cell_type": "code",
   "execution_count": null,
   "metadata": {},
   "outputs": [],
   "source": [
    "!pip install isort"
   ]
  },
  {
   "cell_type": "code",
   "execution_count": null,
   "metadata": {},
   "outputs": [],
   "source": [
    "!isort ."
   ]
  },
  {
   "attachments": {},
   "cell_type": "markdown",
   "metadata": {},
   "source": [
    "## Format your code automatically with `black`"
   ]
  },
  {
   "attachments": {},
   "cell_type": "markdown",
   "metadata": {},
   "source": [
    "If you want to avoid manual code formatting, use `black` for Python.\n",
    "\n",
    "`black` is a library providing automatic formatting of Python code.\n",
    "\n",
    "It makes it easier for you to focus on writing high-quality code.\n",
    "\n",
    "Instead of wasting time formatting it by hand."
   ]
  },
  {
   "cell_type": "code",
   "execution_count": null,
   "metadata": {},
   "outputs": [],
   "source": [
    "!pip install black"
   ]
  },
  {
   "cell_type": "code",
   "execution_count": null,
   "metadata": {},
   "outputs": [],
   "source": [
    "!black ."
   ]
  },
  {
   "attachments": {},
   "cell_type": "markdown",
   "metadata": {},
   "source": [
    "## Lint your YAML files with `yamllint`"
   ]
  },
  {
   "attachments": {},
   "cell_type": "markdown",
   "metadata": {},
   "source": [
    "Are you tired of manually checking YAML files for errors and formatting issues?\n",
    "\n",
    "Use `yamllint`.\n",
    "\n",
    "`yamllint` is a Python library to lint YAML files, ensuring that they are well-formed.\n",
    "\n",
    "Since yaml is a popular choice for Config files, yamllint is a nice tool to catch errors before they cause problems."
   ]
  },
  {
   "cell_type": "code",
   "execution_count": null,
   "metadata": {},
   "outputs": [],
   "source": [
    "!pip install yamllint"
   ]
  },
  {
   "cell_type": "code",
   "execution_count": null,
   "metadata": {},
   "outputs": [],
   "source": [
    "!yamllint ."
   ]
  },
  {
   "attachments": {},
   "cell_type": "markdown",
   "metadata": {},
   "source": [
    "## Blazingly fast linting with `ruff`"
   ]
  },
  {
   "attachments": {},
   "cell_type": "markdown",
   "metadata": {},
   "source": [
    "Are you still using flake8 or pylint?\n",
    "\n",
    "Instead, use `ruff`, with 10x-100x faster performance.\n",
    "\n",
    "`ruff` is a blazingly fast linter for Python, written in Rust.\n",
    "\n",
    "It is orders of magnitudes faster than flake8 and pylint  while integrating more functionality like import sorting or removing unused code."
   ]
  },
  {
   "cell_type": "code",
   "execution_count": null,
   "metadata": {},
   "outputs": [],
   "source": [
    "# some_file.py\n",
    "import requests\n",
    "import json\n",
    "\n",
    "def divide(a, b):\n",
    "    try:\n",
    "        result = a / b\n",
    "    except ZeroDivisionError as e:\n",
    "        result = 'infinity'\n",
    "    return result"
   ]
  },
  {
   "cell_type": "code",
   "execution_count": null,
   "metadata": {},
   "outputs": [],
   "source": [
    "!pip install ruff"
   ]
  },
  {
   "cell_type": "code",
   "execution_count": null,
   "metadata": {},
   "outputs": [],
   "source": [
    "!ruff some_file.py"
   ]
  },
  {
   "cell_type": "markdown",
   "metadata": {},
   "source": [
    "## Format Python Code in Documentation Files"
   ]
  },
  {
   "attachments": {},
   "cell_type": "markdown",
   "metadata": {},
   "source": [
    "Do you want to apply black on your documentation files?\n",
    "\n",
    "Try `blacken-docs`!\n",
    "\n",
    "`blacken-docs` apply the popular code formatting tool black in your documentation.\n",
    "\n",
    "It supports Code snippets in:\n",
    "\n",
    "- Markdown\n",
    "- LaTeX\n",
    "- reStructuredText\n",
    "\n",
    "Don’t write unformatted code in your documentation anymore!"
   ]
  },
  {
   "cell_type": "code",
   "execution_count": null,
   "metadata": {},
   "outputs": [],
   "source": [
    "!pip install blacken-docs"
   ]
  },
  {
   "cell_type": "code",
   "execution_count": null,
   "metadata": {},
   "outputs": [],
   "source": [
    "!blacken-docs TEST.md"
   ]
  }
 ],
 "metadata": {
  "language_info": {
   "name": "python"
  }
 },
 "nbformat": 4,
 "nbformat_minor": 2
}