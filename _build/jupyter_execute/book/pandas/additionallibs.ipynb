{
 "cells": [
  {
   "cell_type": "markdown",
   "metadata": {},
   "source": [
    "# Utility Libraries for Pandas"
   ]
  },
  {
   "attachments": {},
   "cell_type": "markdown",
   "metadata": {},
   "source": [
    "## Speed up Pandas' `apply()`"
   ]
  },
  {
   "attachments": {},
   "cell_type": "markdown",
   "metadata": {},
   "source": [
    "Don't use `.apply()` in Pandas blindly!\n",
    "\n",
    "`.apply()` is used to apply operations on all the elements in a dataframe (row-wise or column-wise).\n",
    "\n",
    "It's the most obvious choice, but there is a better option:\n",
    "\n",
    "Instead, use the `𝐒𝐰𝐢𝐟𝐭𝐞𝐫` package.\n",
    "\n",
    "`𝐒𝐰𝐢𝐟𝐭𝐞𝐫` tries to pick up the best way to implement the `.apply()` function by either:\n",
    "\n",
    "- Vectorizing your function\n",
    "- Parallelizing using Dask\n",
    "- Using `.apply()` from Pandas if the dataset is small.\n",
    "\n",
    "That gives your function a huge boost.\n",
    "\n",
    "In the example below, you only need to add df.swifter.apply() to make use of `Swifter`'s capabilities."
   ]
  },
  {
   "cell_type": "code",
   "execution_count": null,
   "metadata": {},
   "outputs": [],
   "source": [
    "!pip install swifter"
   ]
  },
  {
   "cell_type": "code",
   "execution_count": null,
   "metadata": {},
   "outputs": [],
   "source": [
    "import swifter\n",
    "import pandas as pd\n",
    "\n",
    "df = pd.DataFrame(...)\n",
    "\n",
    "def my_function(input_value):\n",
    "\t...\n",
    "    return output_value\n",
    "    \n",
    "df[\"Column\"] = df[\"Column\"].swifter.apply(lambda x: my_function(x))"
   ]
  },
  {
   "attachments": {},
   "cell_type": "markdown",
   "metadata": {},
   "source": [
    "## Reduce DataFrame Memory with dtype_diet"
   ]
  },
  {
   "cell_type": "markdown",
   "metadata": {},
   "source": [
    "By default, Pandas DataFrames don’t use the smallest data types for its columns.\n",
    "\n",
    "This results in unnecessary memory usage.\n",
    "\n",
    "Changing data types can drastically reduce the memory usage of your DataFrame.\n",
    "\n",
    "Using `dtype_diet`, you can automatically change the data types to the smallest (and most memory-efficient) one."
   ]
  },
  {
   "cell_type": "code",
   "execution_count": null,
   "metadata": {},
   "outputs": [],
   "source": [
    "!pip install dtype-diet"
   ]
  },
  {
   "cell_type": "code",
   "execution_count": null,
   "metadata": {},
   "outputs": [],
   "source": [
    "from dtype_diet import optimize_dtypes, report_on_dataframe\n",
    "import pandas as pd\n",
    "\n",
    "df = pd.read_csv(\"\")\n",
    "# Get Recommendations\n",
    "proposed_df = report_on_dataframe(df, unit=\"MB\")\n",
    "new_df = optimize_dtypes(df, proposed_df)\n",
    "print(f'Original df memory: {df.memory_usage(deep=True).sum()/1024/1024} MB')\n",
    "print(f'Propsed df memory: {new_df.memory_usage(deep=True).sum()/1024/1024} MB')"
   ]
  }
 ],
 "metadata": {
  "language_info": {
   "name": "python"
  }
 },
 "nbformat": 4,
 "nbformat_minor": 2
}