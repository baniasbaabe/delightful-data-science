{
 "cells": [
  {
   "attachments": {},
   "cell_type": "markdown",
   "metadata": {},
   "source": [
    "# Pandas Tips and Tricks"
   ]
  },
  {
   "attachments": {},
   "cell_type": "markdown",
   "metadata": {},
   "source": [
    "## Filter Pandas in a readable format"
   ]
  },
  {
   "attachments": {},
   "cell_type": "markdown",
   "metadata": {},
   "source": [
    "Do you need a more readable way to filter Dataframes in Pandas?\n",
    "\n",
    "Try `df.query()`.\n",
    "\n",
    "You can specify the condition using a string.\n",
    "\n",
    "This can be sometimes more convenient and readable than boolean indexing.\n",
    "\n",
    "And it's fast, due to the optimized Cython-based code used under the hood."
   ]
  },
  {
   "cell_type": "code",
   "execution_count": null,
   "metadata": {},
   "outputs": [],
   "source": [
    "import pandas as pd\n",
    "\n",
    "df = pd.DataFrame({\"A\": [1,2,3], \"B\": [4,5,6]})\n",
    "\n",
    "filtered_df = df.query(\"A > 1 & B < 6\")"
   ]
  },
  {
   "attachments": {},
   "cell_type": "markdown",
   "metadata": {},
   "source": [
    "## Get frequency of time series with pd.infer_freq"
   ]
  },
  {
   "attachments": {},
   "cell_type": "markdown",
   "metadata": {},
   "source": [
    "When working with time series, it is useful to know the frequency of the data.\n",
    "\n",
    "But especially in larger datasets, it might be difficult to tell the frequency immediately.\n",
    "\n",
    "To get the frequency of a time series in Pandas, use `pd.infer_freq()`.\n",
    "\n",
    "It infers the most likely frequency given the input index.\n",
    "\n",
    "Below you can see how to infer the most likely frequency for a `DatetimeIndex`."
   ]
  },
  {
   "cell_type": "code",
   "execution_count": null,
   "metadata": {},
   "outputs": [],
   "source": [
    "import pandas as pd\n",
    "time_index = pd.date_range(start='1/1/2020 20:00:00', end='10/1/2020 00:00:00')\n",
    "\n",
    "pd.infer_freq(time_index)\n",
    "'D'"
   ]
  },
  {
   "attachments": {},
   "cell_type": "markdown",
   "metadata": {},
   "source": [
    "## Change the Plotting Backend"
   ]
  },
  {
   "attachments": {},
   "cell_type": "markdown",
   "metadata": {},
   "source": [
    "By default, Pandas uses matplotlib as its plotting backend.\n",
    "\n",
    "You can change it to, let’s say Plotly, with one line of code.\n",
    "\n",
    "See below how to do that with only one line."
   ]
  },
  {
   "cell_type": "code",
   "execution_count": null,
   "metadata": {},
   "outputs": [],
   "source": [
    "import pandas as pd\n",
    "\n",
    "pd.options.plotting.backend = 'plotly'\n",
    "\n",
    "df = pd.DataFrame(dict(a=[5,7,9,3], b=[1,6,4,10]))\n",
    "fig = df.plot()\n",
    "fig.show()"
   ]
  },
  {
   "attachments": {},
   "cell_type": "markdown",
   "metadata": {},
   "source": [
    "## Style your DataFrames"
   ]
  },
  {
   "attachments": {},
   "cell_type": "markdown",
   "metadata": {},
   "source": [
    "Did you know you can style your DataFrames in Pandas?\n",
    "\n",
    "You just have to define a condition to apply colors in a function.\n",
    "\n",
    "And use `DataFrame.style.applymap()` to apply the condition."
   ]
  },
  {
   "cell_type": "code",
   "execution_count": null,
   "metadata": {},
   "outputs": [],
   "source": [
    "import pandas as pd\n",
    "\n",
    "sales_data = sales_data = {\n",
    "    'Product Name': ['Product A', 'Product B', 'Product C', 'Product D'],\n",
    "    'Revenue': [10000, 5000, 15000, 1000],\n",
    "}\n",
    "\n",
    "sales_df = pd.DataFrame(sales_data)\n",
    "\n",
    "# Apply styles to the dataframe\n",
    "def coloring(val):\n",
    "    color = 'red' if val <= 10000 else 'green'\n",
    "    return 'background-color: %s' % color\n",
    "\n",
    "sales_df.style.applymap(coloring, subset=['Revenue'])"
   ]
  }
 ],
 "metadata": {
  "kernelspec": {
   "display_name": "Python 3 (ipykernel)",
   "language": "python",
   "name": "python3"
  },
  "language_info": {
   "codemirror_mode": {
    "name": "ipython",
    "version": 3
   },
   "file_extension": ".py",
   "mimetype": "text/x-python",
   "name": "python",
   "nbconvert_exporter": "python",
   "pygments_lexer": "ipython3",
   "version": "3.8.10"
  },
  "vscode": {
   "interpreter": {
    "hash": "f4d3a5f34bb3b787aaa4f8981a81ccb65539202d096f032d6b7cdd00fc2e9b40"
   }
  }
 },
 "nbformat": 4,
 "nbformat_minor": 2
}