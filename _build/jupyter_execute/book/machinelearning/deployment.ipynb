{
 "cells": [
  {
   "cell_type": "markdown",
   "metadata": {},
   "source": [
    "# Deployment"
   ]
  },
  {
   "cell_type": "markdown",
   "metadata": {
    "vscode": {
     "languageId": "plaintext"
    }
   },
   "source": [
    "## Deploy ML Models with `litserve`"
   ]
  },
  {
   "cell_type": "markdown",
   "metadata": {},
   "source": [
    "This is the best way to deploy your Machine Learning model.\n",
    "\n",
    "(I am not exaggerating)\n",
    "\n",
    "`litserve` is the new kid on the ML deployment block.\n",
    "\n",
    "Based on FastAPI, `litserve` provides a great serving engine for any kind of model.\n",
    "\n",
    "✅ Open-source\n",
    "✅ Easy to use\n",
    "✅ 2x faster than using FastAPI by yourself\n",
    "✅ Supports Batching and Streaming\n",
    "✅ GPU Autoscaling\n",
    "✅ Automatic Dockerization\n",
    "... and so much more!\n",
    "\n",
    "I am really in love with it because it is so easy to use and does not make things more complicated than they already are.\n",
    "\n",
    "The team behind the project is also very active and supportive."
   ]
  },
  {
   "cell_type": "code",
   "execution_count": null,
   "metadata": {},
   "outputs": [],
   "source": [
    "!pip install litserve"
   ]
  },
  {
   "cell_type": "code",
   "execution_count": null,
   "metadata": {},
   "outputs": [],
   "source": [
    "import joblib, numpy as np\n",
    "import litserve as ls\n",
    "\n",
    "class XGBoostAPI(ls.LitAPI):\n",
    "    def setup(self, device):\n",
    "        self.model = joblib.load(\"model.joblib\")\n",
    "\n",
    "    def decode_request(self, request):\n",
    "        x = np.asarray(request[\"input\"])\n",
    "        x = np.expand_dims(x, 0)\n",
    "        return x\n",
    "\n",
    "    def predict(self, x):\n",
    "        return self.model.predict(x)\n",
    "\n",
    "    def encode_response(self, output):\n",
    "        return {\"class_idx\": int(output)}\n",
    "\n",
    "if __name__ == \"__main__\":\n",
    "    api = XGBoostAPI()\n",
    "    server = ls.LitServer(api)\n",
    "    server.run(port=8000)"
   ]
  }
 ],
 "metadata": {
  "language_info": {
   "name": "python"
  }
 },
 "nbformat": 4,
 "nbformat_minor": 2
}