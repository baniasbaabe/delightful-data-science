{
 "cells": [
  {
   "attachments": {},
   "cell_type": "markdown",
   "metadata": {},
   "source": [
    "# EDA"
   ]
  },
  {
   "attachments": {},
   "cell_type": "markdown",
   "metadata": {},
   "source": [
    "## Analyze and visualize data interactively with `D-Tale`"
   ]
  },
  {
   "attachments": {},
   "cell_type": "markdown",
   "metadata": {},
   "source": [
    "Do you still perform your EDA manually?\n",
    "\n",
    "And do the same repetitive steps?\n",
    "\n",
    "Let `D-Tale` help you.\n",
    "\n",
    "`D-Tale` is a powerful Python library that allows you to easily inspect and analyze your data interactively.\n",
    "\n",
    "You can view your data in a web-based interface with various visualizations.\n",
    "\n",
    "`D-Tale` supports a wide variety of data types and formats, including CSV, Excel, JSON, SQL, and more.\n",
    "\n",
    "Bonus: You can export the corresponding source code for your steps."
   ]
  },
  {
   "cell_type": "code",
   "execution_count": null,
   "metadata": {},
   "outputs": [],
   "source": [
    "!pip install dtale"
   ]
  },
  {
   "cell_type": "code",
   "execution_count": null,
   "metadata": {},
   "outputs": [],
   "source": [
    "import dtale\n",
    "import pandas as pd\n",
    "\n",
    "df = pd.DataFrame([dict(a=1,b=2,c=3)])\n",
    "\n",
    "d = dtale.show(df)"
   ]
  },
  {
   "attachments": {},
   "cell_type": "markdown",
   "metadata": {},
   "source": [
    "## Use Dark Mode in Matplotlib"
   ]
  },
  {
   "attachments": {},
   "cell_type": "markdown",
   "metadata": {},
   "source": [
    "For all Dark Mode fans:\n",
    "\n",
    "You can use Matplotlib in Dark Mode too.\n",
    "\n",
    "Just set the background appropriately."
   ]
  },
  {
   "cell_type": "code",
   "execution_count": null,
   "metadata": {},
   "outputs": [],
   "source": [
    "import matplotlib.pyplot as plt\n",
    "\n",
    "plt.style.use('dark_background')\n",
    "\n",
    "fig, ax = plt.subplots()\n",
    "\n",
    "plt.plot(range(1,5), range(1,5))"
   ]
  },
  {
   "attachments": {},
   "cell_type": "markdown",
   "metadata": {},
   "source": [
    "## No-Code EDA with `PandasGUI`"
   ]
  },
  {
   "attachments": {},
   "cell_type": "markdown",
   "metadata": {},
   "source": [
    "`PandasGUI` provides a PyQT application to analyze and interactively plot your Pandas DataFrames.\n",
    "\n",
    "Without writing a lot of code.\n",
    "\n",
    "It offers various functionalities like:\n",
    "\n",
    "- Filtering\n",
    "- Summary Statistics\n",
    "- Different Visualizations like Word Clouds, Bar Charts, etc."
   ]
  },
  {
   "cell_type": "code",
   "execution_count": null,
   "metadata": {},
   "outputs": [],
   "source": [
    "from pandasgui import show\n",
    "from pandasgui.datasets import pokemon\n",
    "show(pokemon)"
   ]
  },
  {
   "attachments": {},
   "cell_type": "markdown",
   "metadata": {},
   "source": [
    "## Analyze Missing Values with `missingno`"
   ]
  },
  {
   "attachments": {},
   "cell_type": "markdown",
   "metadata": {},
   "source": [
    "If you want to analyze missing values in your data\n",
    "\n",
    "Use `missingno`'s nullity correlation.\n",
    "\n",
    "It lets us understand how the missing value of one column is related to missing values in other columns.\n",
    "\n",
    "The heatmap works great for picking out data completeness relationships between variable pairs."
   ]
  },
  {
   "cell_type": "code",
   "execution_count": null,
   "metadata": {},
   "outputs": [],
   "source": [
    "!pip install missingno"
   ]
  },
  {
   "cell_type": "code",
   "execution_count": null,
   "metadata": {},
   "outputs": [],
   "source": [
    "import missingno\n",
    "import pandas as pd\n",
    "\n",
    "df = pd.read_csv(\"your_data.csv\")\n",
    "\n",
    "missingno.heatmap(df)"
   ]
  },
  {
   "attachments": {},
   "cell_type": "markdown",
   "metadata": {},
   "source": [
    "## Powerful Correlation with `phik`"
   ]
  },
  {
   "attachments": {},
   "cell_type": "markdown",
   "metadata": {},
   "source": [
    "Do you look for a powerful correlation method?\n",
    "\n",
    "Try `Phik`!\n",
    "\n",
    "`Phik` (or ϕk) works consistently beween categorical, ordinal and interval variables while capturing non-linear dependencies. \n",
    "\n",
    "It reverts to Pearson’s correlation only for bivariate normal distribution of the input.\n",
    "\n",
    "See below how you can use it in Python."
   ]
  },
  {
   "cell_type": "code",
   "execution_count": null,
   "metadata": {},
   "outputs": [],
   "source": [
    "!pip install phik"
   ]
  },
  {
   "cell_type": "code",
   "execution_count": null,
   "metadata": {},
   "outputs": [],
   "source": [
    "import pandas as pd\n",
    "import matplotlib.pyplot as plt\n",
    "\n",
    "import phik\n",
    "from phik.report import plot_correlation_matrix"
   ]
  },
  {
   "cell_type": "code",
   "execution_count": null,
   "metadata": {},
   "outputs": [],
   "source": [
    "df = pd.read_csv( phik.resources.fixture('fake_insurance_data.csv.gz') )\n",
    "corr_matrix = df.phik_matrix()"
   ]
  },
  {
   "cell_type": "code",
   "execution_count": null,
   "metadata": {},
   "outputs": [],
   "source": [
    "plot_correlation_matrix(corr_matrix.values, \n",
    "                        x_labels=corr_matrix.columns, \n",
    "                        y_labels=corr_matrix.index, \n",
    "                        vmin=0, \n",
    "                        vmax=1,  \n",
    "                        color_map=\"Blues\",\n",
    "                        title=\"Correlation Matrix\", \n",
    "                        fontsize_factor=1.5, \n",
    "                        figsize=(10, 8))\n",
    "plt.tight_layout()"
   ]
  },
  {
   "attachments": {},
   "cell_type": "markdown",
   "metadata": {},
   "source": [
    "## Display X-Axis of Time Series Plots Correctly with `autofmt_xdate()`"
   ]
  },
  {
   "attachments": {},
   "cell_type": "markdown",
   "metadata": {},
   "source": [
    "Plotting Time Series data in Matplotlib makes your x-axis ugly.\n",
    "\n",
    "It results in overlapping and unreadable labels.\n",
    "\n",
    "To solve this problem, use `fig.autofmt_xdate()`.\n",
    "\n",
    "This will automatically format and adjust the x-axis labels."
   ]
  },
  {
   "cell_type": "code",
   "execution_count": null,
   "metadata": {},
   "outputs": [],
   "source": [
    "import matplotlib.pyplot as plt\n",
    "import matplotlib.dates as mdates\n",
    "from datetime import datetime\n",
    "import numpy as np\n",
    "\n",
    "dates = np.array([\n",
    "    datetime(2023, 1, 1),\n",
    "    datetime(2023, 2, 1),\n",
    "    datetime(2023, 3, 1),\n",
    "    datetime(2023, 4, 1),\n",
    "    datetime(2023, 5, 1),\n",
    "    datetime(2023, 6, 1),\n",
    "    datetime(2023, 7, 1)\n",
    "])\n",
    "values = np.array([10, 20, 15, 25, 30, 28, 35])\n",
    "\n",
    "# Create a figure and an axes object\n",
    "fig, ax = plt.subplots()\n",
    "\n",
    "ax.plot(dates, values)\n",
    "\n",
    "ax.xaxis.set_major_formatter(mdates.DateFormatter('%Y-%m-%d'))\n",
    "\n",
    "fig.autofmt_xdate()\n",
    "\n",
    "plt.show()"
   ]
  }
 ],
 "metadata": {
  "language_info": {
   "name": "python"
  }
 },
 "nbformat": 4,
 "nbformat_minor": 2
}