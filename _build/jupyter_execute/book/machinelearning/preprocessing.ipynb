{
 "cells": [
  {
   "cell_type": "markdown",
   "metadata": {},
   "source": [
    "# Preprocessing"
   ]
  },
  {
   "cell_type": "markdown",
   "metadata": {},
   "source": [
    "## Clean your text data with clean-text"
   ]
  },
  {
   "attachments": {},
   "cell_type": "markdown",
   "metadata": {},
   "source": [
    "Content on the Web and in Social Media is never clean.\n",
    "\n",
    "`clean-text` does the Preprocessing for you.\n",
    "\n",
    "You can specify, if and how you want to clean your texts."
   ]
  },
  {
   "cell_type": "code",
   "execution_count": null,
   "metadata": {},
   "outputs": [],
   "source": [
    "!pip install clean-text[gpl]"
   ]
  },
  {
   "cell_type": "code",
   "execution_count": null,
   "metadata": {},
   "outputs": [],
   "source": [
    "from cleantext import clean\n",
    "\n",
    "text = '''\n",
    "       If you want to talk, send me an email: testmail@outlook.com, \n",
    "       call me +71112392 or visit my website: https://testurl.com. \n",
    "       Calling me is not free, It'\\\\u2018s\\\\u2019 costing 0.40$ per \n",
    "       minute.\n",
    "       '''\n",
    "\n",
    "clean(text,\n",
    "    fix_unicode=True,              # fix various unicode errors\n",
    "    to_ascii=True,                 # transliterate to closest ASCII representation\n",
    "    lower=True,                    # lowercase text\n",
    "    no_urls=True,                  # replace all URLs with a special token\n",
    "    no_emails=True,                # replace all email addresses with a special token\n",
    "    no_phone_numbers=True,         # replace all phone numbers with a special token\n",
    "    no_numbers=True,               # replace all numbers with a special token\n",
    "    no_digits=True,                # replace all digits with a special token\n",
    "    no_currency_symbols=True,      # replace all currency symbols with a special token\n",
    "    no_punct=True,                 # remove punctuations\n",
    "    lang=\"en\"                      # set to 'de' for German special handling\n",
    ")"
   ]
  }
 ],
 "metadata": {
  "language_info": {
   "name": "python"
  }
 },
 "nbformat": 4,
 "nbformat_minor": 2
}