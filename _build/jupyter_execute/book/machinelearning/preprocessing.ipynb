{
 "cells": [
  {
   "cell_type": "markdown",
   "metadata": {},
   "source": [
    "# Preprocessing"
   ]
  },
  {
   "cell_type": "markdown",
   "metadata": {},
   "source": [
    "## Clean your text data with clean-text"
   ]
  },
  {
   "attachments": {},
   "cell_type": "markdown",
   "metadata": {},
   "source": [
    "Content on the Web and in Social Media is never clean.\n",
    "\n",
    "`clean-text` does the Preprocessing for you.\n",
    "\n",
    "You can specify, if and how you want to clean your texts."
   ]
  },
  {
   "cell_type": "code",
   "execution_count": null,
   "metadata": {},
   "outputs": [],
   "source": [
    "!pip install clean-text[gpl]"
   ]
  },
  {
   "cell_type": "code",
   "execution_count": null,
   "metadata": {},
   "outputs": [],
   "source": [
    "from cleantext import clean\n",
    "\n",
    "text = '''\n",
    "       If you want to talk, send me an email: testmail@outlook.com, \n",
    "       call me +71112392 or visit my website: https://testurl.com. \n",
    "       Calling me is not free, It'\\\\u2018s\\\\u2019 costing 0.40$ per \n",
    "       minute.\n",
    "       '''\n",
    "\n",
    "clean(text,\n",
    "    fix_unicode=True,              # fix various unicode errors\n",
    "    to_ascii=True,                 # transliterate to closest ASCII representation\n",
    "    lower=True,                    # lowercase text\n",
    "    no_urls=True,                  # replace all URLs with a special token\n",
    "    no_emails=True,                # replace all email addresses with a special token\n",
    "    no_phone_numbers=True,         # replace all phone numbers with a special token\n",
    "    no_numbers=True,               # replace all numbers with a special token\n",
    "    no_digits=True,                # replace all digits with a special token\n",
    "    no_currency_symbols=True,      # replace all currency symbols with a special token\n",
    "    no_punct=True,                 # remove punctuations\n",
    "    lang=\"en\"                      # set to 'de' for German special handling\n",
    ")"
   ]
  },
  {
   "cell_type": "markdown",
   "metadata": {},
   "source": [
    "## Detect and Fix your Data Quality Issues"
   ]
  },
  {
   "cell_type": "markdown",
   "metadata": {},
   "source": [
    "Do you want to detect data quality issues?\n",
    "\n",
    "Try `pandas_dq`.\n",
    "\n",
    "`pandas_dq` is a relatively new library, focussing on detecting data quality issues and fixing them automatically like:\n",
    "\n",
    "- Zero-Variance Columns\n",
    "- Rare Categories\n",
    "- Highly correlated Features\n",
    "- Skewed Distributions"
   ]
  },
  {
   "cell_type": "code",
   "execution_count": null,
   "metadata": {},
   "outputs": [],
   "source": [
    "!pip install pandas_dq -q"
   ]
  },
  {
   "cell_type": "code",
   "execution_count": null,
   "metadata": {},
   "outputs": [],
   "source": [
    "import pandas as pd\n",
    "import numpy as np\n",
    "from pandas_dq import dq_report, Fix_DQ\n",
    "from sklearn.datasets import load_iris"
   ]
  },
  {
   "cell_type": "code",
   "execution_count": null,
   "metadata": {},
   "outputs": [],
   "source": [
    "data = load_iris()"
   ]
  },
  {
   "cell_type": "code",
   "execution_count": null,
   "metadata": {},
   "outputs": [],
   "source": [
    "data = pd.DataFrame(data= np.c_[data['data'], data['target']],\n",
    "                     columns= data['feature_names'] + ['target'])"
   ]
  },
  {
   "cell_type": "code",
   "execution_count": null,
   "metadata": {},
   "outputs": [],
   "source": [
    "dq_report(data, verbose=1)"
   ]
  },
  {
   "cell_type": "code",
   "execution_count": null,
   "metadata": {},
   "outputs": [],
   "source": [
    "fdq = Fix_DQ()\n",
    "data_transformed = fdq.fit_transform(data)"
   ]
  },
  {
   "cell_type": "markdown",
   "metadata": {},
   "source": [
    "## Convert Natural Language Numbers into its Numerical Representation"
   ]
  },
  {
   "attachments": {},
   "cell_type": "markdown",
   "metadata": {},
   "source": [
    "If you want to convert natural language numbers into numerical values, try numerizer.\n",
    "\n",
    "`numerizer` is a Python library for converting numbers in texts to their corresponding numerical values.\n",
    "\n",
    "`numerizer` supports a wide range of numeric formats, including whole numbers, decimals, percentages and currencies.\n",
    "\n",
    "Note: Since version 0.2, `numerizer` is available as a SpaCy extension."
   ]
  },
  {
   "cell_type": "code",
   "execution_count": null,
   "metadata": {},
   "outputs": [],
   "source": [
    "!pip install numerizer"
   ]
  },
  {
   "cell_type": "code",
   "execution_count": null,
   "metadata": {},
   "outputs": [],
   "source": [
    "from numerizer import numerize\n",
    "\n",
    "text_1 = \"Twenty five dollars\"\n",
    "text_2 = \"Two hundred and fourty three thousand four hundred and twenty one\"\n",
    "text_3 = \"platform nine and three quarters\"\n",
    "\n",
    "\n",
    "num_1 = numerize(text_1)\n",
    "num_2 = numerize(text_2)\n",
    "num_3 = numerize(text_3)\n",
    "\n",
    "print(num_1) # Output: 25 dollars\n",
    "print(num_2) # Output: 243421\n",
    "print(num_3) # Output: platform 9.75"
   ]
  },
  {
   "cell_type": "markdown",
   "metadata": {},
   "source": [
    "## Make your Numbers and dates human-friendly"
   ]
  },
  {
   "cell_type": "markdown",
   "metadata": {},
   "source": [
    "Looking to make your numbers human-friendly?\n",
    "\n",
    "Try `humanize`.\n",
    "\n",
    "`humanize` formats your numbers and dates in a way that is intuitive to understand.\n",
    "\n",
    "It provides various functionalities like:\n",
    "\n",
    "- Convert large integers of file sizes\n",
    "- Convert floats to fractions\n",
    "- Convert dates into a human-understandable format\n",
    "- Make big integers more readable"
   ]
  },
  {
   "cell_type": "code",
   "execution_count": null,
   "metadata": {},
   "outputs": [],
   "source": [
    "!pip install humanize"
   ]
  },
  {
   "cell_type": "code",
   "execution_count": null,
   "metadata": {},
   "outputs": [],
   "source": [
    "import humanize\n",
    "\n",
    "# Convert bytes to human readable format\n",
    "humanize.naturalsize(1024000) # Output: 1.0 MB\n",
    "\n",
    "# Convert a number to its word equivalent\n",
    "humanize.intword(123500000) # Output: 123.5 million\n",
    "\n",
    "# Convert a float to its fractional equivalent\n",
    "humanize.fractional(0.9) # Output: 9/10\n",
    "\n",
    "# Convert seconds to a readable format\n",
    "import datetime as dt\n",
    "humanize.naturaldelta(dt.timedelta(seconds = 1200)) # Output: 20 minutes"
   ]
  }
 ],
 "metadata": {
  "language_info": {
   "name": "python"
  }
 },
 "nbformat": 4,
 "nbformat_minor": 2
}