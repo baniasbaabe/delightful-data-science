{
 "cells": [
  {
   "cell_type": "markdown",
   "metadata": {},
   "source": [
    "# SQL Tips & Tricks"
   ]
  },
  {
   "cell_type": "markdown",
   "metadata": {},
   "source": [
    "## `QUALIFY` Statement For Cleaner Queries"
   ]
  },
  {
   "cell_type": "markdown",
   "metadata": {},
   "source": [
    "One underrated SQL command: `QUALIFY`.\n",
    "\n",
    "With `QUALIFY`, you can filter the results of a window function like `RANK()` without needing another `SELECT` statement.\n",
    "\n",
    "See the example below where we want to get the 3rd highest earner in every department."
   ]
  },
  {
   "cell_type": "code",
   "execution_count": null,
   "metadata": {
    "vscode": {
     "languageId": "sql"
    }
   },
   "outputs": [],
   "source": [
    "# With QUALIFY\n",
    "SELECT\n",
    "  employee_id,\n",
    "  department_id,\n",
    "  salary\n",
    "  RANK() OVER (PARTITION BY department_id ORDER BY salary DESC) AS ranking\n",
    "FROM \n",
    "  employees\n",
    "QUALIFY\n",
    "  ranking = 3;\n",
    "  \n",
    "# Without QUALIFY\n",
    "SELECT *\n",
    "FROM (\n",
    "  SELECT\n",
    "    employee_id,\n",
    "    department_id,\n",
    "    salary,\n",
    "    RANK() OVER (PARTITION BY department_id ORDER BY salary DESC) AS ranking\n",
    "  FROM \n",
    "    employees\n",
    ") AS rank_employees\n",
    "WHERE\n",
    "  ranking = 3;"
   ]
  }
 ],
 "metadata": {
  "language_info": {
   "name": "python"
  }
 },
 "nbformat": 4,
 "nbformat_minor": 2
}