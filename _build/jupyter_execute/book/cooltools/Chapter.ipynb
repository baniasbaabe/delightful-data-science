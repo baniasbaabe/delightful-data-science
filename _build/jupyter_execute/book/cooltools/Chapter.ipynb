{
 "cells": [
  {
   "attachments": {},
   "cell_type": "markdown",
   "metadata": {},
   "source": [
    "# Cool Tools"
   ]
  },
  {
   "attachments": {},
   "cell_type": "markdown",
   "metadata": {},
   "source": [
    "## Work with Countries, Currencies, Subdivisions, and more"
   ]
  },
  {
   "attachments": {},
   "cell_type": "markdown",
   "metadata": {},
   "source": [
    "Do you work with international data?\n",
    "\n",
    "You probably know how important it is to use the correct codes for countries, currencies, languages, and subdivisions.\n",
    "\n",
    "To save the headache, try `pycountry` for Python!\n",
    "\n",
    "`pycountry` makes it easy to work with these codes.\n",
    "\n",
    "It allows you to look up country and currency information by name or code based on ISO.\n",
    "\n",
    "But it can also be used to get the name or code for a specific currency or country."
   ]
  },
  {
   "cell_type": "code",
   "execution_count": null,
   "metadata": {},
   "outputs": [],
   "source": [
    "!pip install pycountry"
   ]
  },
  {
   "cell_type": "code",
   "execution_count": null,
   "metadata": {},
   "outputs": [],
   "source": [
    "import pycountry\n",
    "\n",
    "# Get Country\n",
    "print(pycountry.countries.get(alpha_2=\"DE\"))\n",
    "\n",
    "# Get Currency\n",
    "print(pycountry.currencies.get(alpha_3=\"EUR\"))\n",
    "\n",
    "# Get Language\n",
    "print(pycountry.languages.get(alpha_2='DE'))"
   ]
  },
  {
   "attachments": {},
   "cell_type": "markdown",
   "metadata": {},
   "source": [
    "## Generate better requirements files with `pipreqs`"
   ]
  },
  {
   "attachments": {},
   "cell_type": "markdown",
   "metadata": {},
   "source": [
    "To generate a requirements.txt file, don’t do pip freeze > requirements.txt\n",
    "\n",
    "It will save all packages in your environment including those you are not currently using in your project (but still have installed).\n",
    "\n",
    "Instead, use `pipreqs`.\n",
    "\n",
    "`pipreqs` will only save those packages based on imports in your project.\n",
    "\n",
    "A very good option for plain virtual environments."
   ]
  },
  {
   "cell_type": "code",
   "execution_count": null,
   "metadata": {},
   "outputs": [],
   "source": [
    "!pip install pipreqs"
   ]
  },
  {
   "cell_type": "code",
   "execution_count": null,
   "metadata": {},
   "outputs": [],
   "source": [
    "!pipreqs ."
   ]
  },
  {
   "attachments": {},
   "cell_type": "markdown",
   "metadata": {},
   "source": [
    "## Remove a package and its dependencies with `pip-autoremove`"
   ]
  },
  {
   "attachments": {},
   "cell_type": "markdown",
   "metadata": {},
   "source": [
    "When you want to remove a package via pip, you will encounter following problem:\n",
    "\n",
    "pip will remove the desired package but not its unused dependencies.\n",
    "\n",
    "Instead, try `pip-autoremove`.\n",
    "\n",
    "It will automatically remove a package and its unused dependencies. \n",
    "\n",
    "A really good option when you are not using something like Poetry."
   ]
  },
  {
   "cell_type": "code",
   "execution_count": null,
   "metadata": {},
   "outputs": [],
   "source": [
    "!pip install pip-autoremove"
   ]
  },
  {
   "cell_type": "code",
   "execution_count": null,
   "metadata": {},
   "outputs": [],
   "source": [
    "!pip-autoremove flask -y"
   ]
  },
  {
   "attachments": {},
   "cell_type": "markdown",
   "metadata": {},
   "source": [
    "## Get distance between postal codes"
   ]
  },
  {
   "attachments": {},
   "cell_type": "markdown",
   "metadata": {},
   "source": [
    "Do you want the distance between two postal codes?\n",
    "\n",
    "Use `pgeocode`.\n",
    "\n",
    "Just specify your country + postal codes and get the distance in KM."
   ]
  },
  {
   "cell_type": "code",
   "execution_count": null,
   "metadata": {},
   "outputs": [],
   "source": [
    "!pip install pgeocode"
   ]
  },
  {
   "cell_type": "code",
   "execution_count": null,
   "metadata": {},
   "outputs": [],
   "source": [
    "import pgeocode\n",
    "\n",
    "dist = pgeocode.GeoDistance('DE')\n",
    "dist.query_postal_code('10117', '80331')"
   ]
  },
  {
   "attachments": {},
   "cell_type": "markdown",
   "metadata": {},
   "source": [
    "## Working with units with `pint`"
   ]
  },
  {
   "attachments": {},
   "cell_type": "markdown",
   "metadata": {},
   "source": [
    "Have you ever struggled with units in Python?\n",
    "\n",
    "With `pint`, you don’t have to.\n",
    "\n",
    "`pint` is a Python library for easy unit conversion and manipulation.\n",
    "\n",
    "You can handle physical quantities with units, perform conversions, and perform arithmetic with physical quantities.\n",
    "\n",
    "With `pint`, you keep track of your units and ensure accurate results."
   ]
  },
  {
   "cell_type": "code",
   "execution_count": null,
   "metadata": {},
   "outputs": [],
   "source": [
    "!pip install pint"
   ]
  },
  {
   "cell_type": "code",
   "execution_count": null,
   "metadata": {},
   "outputs": [],
   "source": [
    "import pint\n",
    "\n",
    "# Initializing the unit registry\n",
    "ureg = pint.UnitRegistry()\n",
    "\n",
    "# Defining a physical quantity with units\n",
    "distance = 33.0 * ureg.kilometers\n",
    "print(distance)\n",
    "# 33.0 kilometer\n",
    "\n",
    "# Converting between units\n",
    "print(distance.to(ureg.feet))\n",
    "# 108267.71653543308 foot\n",
    "\n",
    "# Performing arithmetic operations\n",
    "speed = 6 * distance / ureg.hour\n",
    "print(speed)\n",
    "# 198.0 kilometer / hour"
   ]
  },
  {
   "attachments": {},
   "cell_type": "markdown",
   "metadata": {},
   "source": [
    "## Supercharge your Python profiling with `Scalene`"
   ]
  },
  {
   "attachments": {},
   "cell_type": "markdown",
   "metadata": {},
   "source": [
    "Want to identify Python performance issues?\n",
    "\n",
    "Try `Scalene`, your Profiler on steroids!\n",
    "\n",
    "`Scalene` is a Python CPU + GPU + Memory profiler to identify bottlenecks.\n",
    "\n",
    "Even with AI-powered optimization proposals!\n",
    "\n",
    "`Scalene` comes with an easy-to-use CLI and web-based GUI."
   ]
  },
  {
   "cell_type": "code",
   "execution_count": null,
   "metadata": {},
   "outputs": [],
   "source": [
    "!pip install scalene"
   ]
  },
  {
   "cell_type": "code",
   "execution_count": null,
   "metadata": {},
   "outputs": [],
   "source": [
    "!scalene <my_module.py>"
   ]
  },
  {
   "attachments": {},
   "cell_type": "markdown",
   "metadata": {},
   "source": [
    "## Fix unicode errors with `ftfy`"
   ]
  },
  {
   "attachments": {},
   "cell_type": "markdown",
   "metadata": {},
   "source": [
    "Have you ever struggled with Unicode errors in your Python code?\n",
    "\n",
    "Try `ftfy`!\n",
    "\n",
    "`ftfy` repairs scrambled text which occurs as a result of encoding or decoding problems. \n",
    "\n",
    "You will probably know it when text in a foreign language can’t appear correctly.\n",
    "\n",
    "In Python you only have to call one method from `ftfy` to fix it."
   ]
  },
  {
   "cell_type": "code",
   "execution_count": null,
   "metadata": {},
   "outputs": [],
   "source": [
    "!pip install ftfy"
   ]
  },
  {
   "cell_type": "code",
   "execution_count": null,
   "metadata": {},
   "outputs": [],
   "source": [
    "import ftfy\n",
    "\n",
    "print(ftfy.fix_text('What does â€œftfyâ€\\x9d mean?'))\n",
    "print(ftfy.fix_text('âœ” Check'))\n",
    "print(ftfy.fix_text('The Mona Lisa doesnÃƒÂ¢Ã¢â€šÂ¬Ã¢â€žÂ¢t have eyebrows.'))"
   ]
  },
  {
   "attachments": {},
   "cell_type": "markdown",
   "metadata": {},
   "source": [
    "## Remove the background from images with `rembg`"
   ]
  },
  {
   "attachments": {},
   "cell_type": "markdown",
   "metadata": {},
   "source": [
    "Do you want to remove the background from images with Python?\n",
    "\n",
    "Use `rembg`.\n",
    "\n",
    "With its pre-trained models, `rembg` makes removing the background of your images easy."
   ]
  },
  {
   "cell_type": "code",
   "execution_count": null,
   "metadata": {},
   "outputs": [],
   "source": [
    "!pip install rembg"
   ]
  },
  {
   "cell_type": "code",
   "execution_count": null,
   "metadata": {},
   "outputs": [],
   "source": [
    "from rembg import remove\n",
    "import cv2\n",
    "\n",
    "input_path = 'car.jpg'\n",
    "output_path = 'car2.jpg'\n",
    "\n",
    "input_file = cv2.imread(input_path)\n",
    "output_file = remove(input_file)\n",
    "cv2.imwrite(output_path, output_file)"
   ]
  },
  {
   "attachments": {},
   "cell_type": "markdown",
   "metadata": {},
   "source": [
    "## Build modern CLI apps with `typer`"
   ]
  },
  {
   "attachments": {},
   "cell_type": "markdown",
   "metadata": {},
   "source": [
    "Tired of building clunky CLI for your Python applications?\n",
    "\n",
    "Try `typer`.\n",
    "\n",
    "`typer` makes it easy to create clean, intuitive CLI apps that are easy to use and maintain.\n",
    "\n",
    "It also comes with auto-generated help messages.\n",
    "\n",
    "Ditch argparse."
   ]
  },
  {
   "cell_type": "code",
   "execution_count": null,
   "metadata": {},
   "outputs": [],
   "source": [
    "!pip install typer"
   ]
  },
  {
   "cell_type": "code",
   "execution_count": null,
   "metadata": {},
   "outputs": [],
   "source": [
    "# hello_script.py\n",
    "import typer\n",
    "\n",
    "app = typer.Typer()\n",
    "\n",
    "@app.command()\n",
    "def hello(name: str):\n",
    "    typer.echo(f\"Hello, {name}!\")\n",
    "    \n",
    "@app.command()\n",
    "def bye(name: str):\n",
    "    typer.echo(f\"Bye, {name}!\")\n",
    "\n",
    "if __name__ == \"__main__\":\n",
    "    app()"
   ]
  },
  {
   "cell_type": "code",
   "execution_count": null,
   "metadata": {},
   "outputs": [],
   "source": [
    "!python hello_script.py hello John"
   ]
  },
  {
   "attachments": {},
   "cell_type": "markdown",
   "metadata": {},
   "source": [
    "## Generate realistic fake data with `faker`"
   ]
  },
  {
   "attachments": {},
   "cell_type": "markdown",
   "metadata": {},
   "source": [
    "Creating realistic test data for your Python projects is annoying.\n",
    "\n",
    "`faker` helps you to do that!\n",
    "\n",
    "With just a few lines of code, you can generate realistic and diverse test data, such as :\n",
    "\n",
    "- Names\n",
    "- Addresses\n",
    "- Phone numbers\n",
    "- Email addresses\n",
    "- Jobs\n",
    "\n",
    "And more!\n",
    "\n",
    "You can even set the local or language for more diverse output."
   ]
  },
  {
   "cell_type": "code",
   "execution_count": null,
   "metadata": {},
   "outputs": [],
   "source": [
    "!pip install faker"
   ]
  },
  {
   "cell_type": "code",
   "execution_count": null,
   "metadata": {},
   "outputs": [],
   "source": [
    "from faker import Faker\n",
    "fake = Faker('fr_FR')\n",
    "print(fake.name())\n",
    "print(fake.job())\n",
    "print(fake.phone_number())"
   ]
  },
  {
   "attachments": {},
   "cell_type": "markdown",
   "metadata": {},
   "source": [
    "## Enrich your progress bars with `rich`"
   ]
  },
  {
   "attachments": {},
   "cell_type": "markdown",
   "metadata": {},
   "source": [
    "Do you want a more colorful output for progress bars?\n",
    "\n",
    "Use `rich`\n",
    "\n",
    "`rich` offers a beautiful progress bar, instead of tqdm’s boring output.\n",
    "\n",
    "With `rich.progress.track`, you can get a colorful output."
   ]
  },
  {
   "cell_type": "code",
   "execution_count": null,
   "metadata": {},
   "outputs": [],
   "source": [
    "!pip install rich"
   ]
  },
  {
   "cell_type": "code",
   "execution_count": null,
   "metadata": {},
   "outputs": [],
   "source": [
    "from rich.progress import track\n",
    "for url in track(range(25000000)):\n",
    "    # Do something\n",
    "    pass"
   ]
  },
  {
   "attachments": {},
   "cell_type": "markdown",
   "metadata": {},
   "source": [
    "## Set the description for `tqdm` bars"
   ]
  },
  {
   "attachments": {},
   "cell_type": "markdown",
   "metadata": {},
   "source": [
    "When you work with progress bars, you will probably use 𝐭𝐪𝐝𝐦.\n",
    "\n",
    "Do you know you can add descriptions to your bar?\n",
    "\n",
    "You can do that with `set_description()`."
   ]
  },
  {
   "cell_type": "code",
   "execution_count": null,
   "metadata": {},
   "outputs": [],
   "source": [
    "import tqdm\n",
    "import glob\n",
    "\n",
    "files = tqdm.tqdm(glob.glob(\"sample_data/*.csv\"))\n",
    "for file in files:\n",
    "    files.set_description(f\"Read {file}\")"
   ]
  },
  {
   "attachments": {},
   "cell_type": "markdown",
   "metadata": {},
   "source": [
    "## Convert Emojis to Text with `emot`"
   ]
  },
  {
   "attachments": {},
   "cell_type": "markdown",
   "metadata": {},
   "source": [
    "Analyzing emojis and emoticons in texts can give you useful insights.\n",
    "\n",
    "With `emot`, you can convert emoticons into words.\n",
    "\n",
    "Especially useful for sentiment analysis."
   ]
  },
  {
   "cell_type": "code",
   "execution_count": null,
   "metadata": {},
   "outputs": [],
   "source": [
    "!pip install emot"
   ]
  },
  {
   "cell_type": "code",
   "execution_count": null,
   "metadata": {},
   "outputs": [],
   "source": [
    "import emot \n",
    "emot_obj = emot.core.emot()\n",
    "text = \"I love python ☮ 🙂 ❤ :-) :-( :-)))\" \n",
    "emot_obj.emoji(text) "
   ]
  },
  {
   "attachments": {},
   "cell_type": "markdown",
   "metadata": {},
   "source": [
    "## Print hardware information and version numbers"
   ]
  },
  {
   "attachments": {},
   "cell_type": "markdown",
   "metadata": {},
   "source": [
    "When raising an issue, you should provide version numbers and hardware information.\n",
    "\n",
    "With `watermark`, you can do that easily.\n",
    "\n",
    "Just install the package and print."
   ]
  },
  {
   "cell_type": "code",
   "execution_count": null,
   "metadata": {},
   "outputs": [],
   "source": [
    "!pip install watermark"
   ]
  },
  {
   "cell_type": "code",
   "execution_count": null,
   "metadata": {},
   "outputs": [],
   "source": [
    "from watermark import watermark\n",
    "print(watermark())"
   ]
  },
  {
   "attachments": {},
   "cell_type": "markdown",
   "metadata": {},
   "source": [
    "## Cache requests with `requests-cache`"
   ]
  },
  {
   "attachments": {},
   "cell_type": "markdown",
   "metadata": {},
   "source": [
    "Do you want better performance for requests?\n",
    "\n",
    "\n",
    "\n",
    "Use `requests-cache`.\n",
    "\n",
    "\n",
    "\n",
    "It caches HTTP requests so you don’t have to make the same requests again and again.\n",
    "\n",
    "\n",
    "\n",
    "In the example below, a test endpoint with a 1-second delay will be called.\n",
    "\n",
    "\n",
    "\n",
    "With the standard `requests` library, this takes 60 seconds.\n",
    "\n",
    "\n",
    "\n",
    "With `requests-cache`, this takes 1 second."
   ]
  },
  {
   "cell_type": "code",
   "execution_count": null,
   "metadata": {},
   "outputs": [],
   "source": [
    "!pip install requests-cache"
   ]
  },
  {
   "cell_type": "code",
   "execution_count": null,
   "metadata": {},
   "outputs": [],
   "source": [
    "# This takes 60 seconds\n",
    "import requests\n",
    "\n",
    "session = requests.Session()\n",
    "for i in range(60):\n",
    "    session.get('https://httpbin.org/delay/1')\n",
    "    \n",
    "    \n",
    "\n",
    "# This takes 1 second\n",
    "import requests_cache\n",
    "\n",
    "session = requests_cache.CachedSession('test_cache')\n",
    "for i in range(60):\n",
    "    session.get('https://httpbin.org/delay/1')"
   ]
  },
  {
   "attachments": {},
   "cell_type": "markdown",
   "metadata": {},
   "source": [
    "## Unify messy columns with `unifyname`"
   ]
  },
  {
   "attachments": {},
   "cell_type": "markdown",
   "metadata": {},
   "source": [
    "Do you want to unify messy string columns?\n",
    "\n",
    "\n",
    "\n",
    "Try `unifyname`, based on fuzzy string matching.\n",
    "\n",
    "\n",
    "\n",
    "This small library cleans up your messy columns with 100s of different variations for one word."
   ]
  },
  {
   "cell_type": "code",
   "execution_count": null,
   "metadata": {},
   "outputs": [],
   "source": [
    "!pip install unifyname"
   ]
  },
  {
   "cell_type": "code",
   "execution_count": null,
   "metadata": {},
   "outputs": [],
   "source": [
    "import pandas as pd\n",
    "from unifyname.utils import unify_names, deduplicate_list_string\n",
    "\n",
    "data = pd.read_csv(\"\")\n",
    "\n",
    "data[\"BAIRRO DO IMOVEL\"].value_counts()\n",
    "\n",
    "data = unify_names(data,column='BAIRRO DO IMOVEL',threshold_count=500)\n",
    "\n",
    "data[\"BAIRRO DO IMOVEL\"].value_counts()"
   ]
  },
  {
   "attachments": {},
   "cell_type": "markdown",
   "metadata": {},
   "source": [
    "## Check for broken links in a website"
   ]
  },
  {
   "attachments": {},
   "cell_type": "markdown",
   "metadata": {},
   "source": [
    "`𝐥𝐢𝐧𝐤𝐜𝐡𝐞𝐜𝐤𝐞𝐫` is a Python library for recursively going through a website and checking for broken links.\n",
    "\n",
    "You may not have the time to do that manually.\n",
    "\n",
    "And broken links can harm your Search Engine Ranking.\n",
    "\n",
    "See below how easy it can be to set up and use.\n"
   ]
  },
  {
   "cell_type": "code",
   "execution_count": null,
   "metadata": {},
   "outputs": [],
   "source": [
    "!pip install linkchecker"
   ]
  },
  {
   "cell_type": "code",
   "execution_count": null,
   "metadata": {},
   "outputs": [],
   "source": [
    "!linkchecker https://www.example.com"
   ]
  },
  {
   "attachments": {},
   "cell_type": "markdown",
   "metadata": {},
   "source": [
    "## Matplotlib for your Terminal"
   ]
  },
  {
   "attachments": {},
   "cell_type": "markdown",
   "metadata": {},
   "source": [
    "`bashplotlib` is a little library that displays basic ASCII graphs in your terminal.\n",
    "\n",
    "It provides a quick way to visualize your data.\n",
    "\n",
    "Currently, `bashplotlib` only supports histogram and scatter plots."
   ]
  },
  {
   "cell_type": "code",
   "execution_count": null,
   "metadata": {},
   "outputs": [],
   "source": [
    "!pip install bashplotlib"
   ]
  },
  {
   "cell_type": "code",
   "execution_count": null,
   "metadata": {},
   "outputs": [],
   "source": [
    "!hist --file test.txt"
   ]
  },
  {
   "attachments": {},
   "cell_type": "markdown",
   "metadata": {},
   "source": [
    "## Display a Dependency Tree of your Environment"
   ]
  },
  {
   "attachments": {},
   "cell_type": "markdown",
   "metadata": {},
   "source": [
    "Do you want to stop resolving dependency issues?\n",
    "\n",
    "Try `pipdeptree`.\n",
    "\n",
    "`pipdeptree` displays your installed Python packages in the form of a dependency tree.\n",
    "\n",
    "It will also show you warnings when there are possible version conflicts.\n",
    "\n",
    "An alternative to tools like Poetry which resolves dependency issues for you automatically."
   ]
  },
  {
   "cell_type": "code",
   "execution_count": null,
   "metadata": {},
   "outputs": [],
   "source": [
    "!pip install pipdeptree"
   ]
  },
  {
   "cell_type": "code",
   "execution_count": null,
   "metadata": {},
   "outputs": [],
   "source": [
    "!pipdeptree"
   ]
  },
  {
   "attachments": {},
   "cell_type": "markdown",
   "metadata": {},
   "source": [
    "## Sort LaTeX acronyms automatically"
   ]
  },
  {
   "attachments": {},
   "cell_type": "markdown",
   "metadata": {},
   "source": [
    "I wrote a small library (`acrosort-tex`) to sort LaTeX acronyms with one command automatically.\n",
    "\n",
    "It was a fun Sunday project where I really learned how easy it is to publish a package with Poetry.\n",
    "\n",
    "Currently, it only supports acronyms in the following format:\n",
    "\n",
    "\\𝒂𝒄𝒓𝒐{𝒂𝒃𝒃𝒓𝒆𝒗𝒊𝒂𝒕𝒊𝒐𝒏}[𝒔𝒉𝒐𝒓𝒕𝒇𝒐𝒓𝒎]{𝒍𝒐𝒏𝒈𝒇𝒐𝒓𝒎}\n",
    "\n",
    "but it's a beginning :)\n",
    "\n",
    "See below for a small example.\n",
    "\n",
    "Link to the repository: https://lnkd.in/eTF8qs5w"
   ]
  },
  {
   "cell_type": "code",
   "execution_count": null,
   "metadata": {},
   "outputs": [],
   "source": [
    "!pip install acrosort_tex"
   ]
  },
  {
   "cell_type": "code",
   "execution_count": null,
   "metadata": {},
   "outputs": [],
   "source": [
    "!acrosort old.tex new.tex"
   ]
  },
  {
   "attachments": {},
   "cell_type": "markdown",
   "metadata": {},
   "source": [
    "## Make ASCII Art from Text"
   ]
  },
  {
   "attachments": {},
   "cell_type": "markdown",
   "metadata": {},
   "source": [
    "Create ASCII Art From Text in your Terminal\n",
    "\n",
    "With `pyfiglet`, you can generate banner-like text with Python.\n",
    "\n",
    "This is a nice feature to introduce your users to your Python CLI apps."
   ]
  },
  {
   "cell_type": "code",
   "execution_count": null,
   "metadata": {},
   "outputs": [],
   "source": [
    "!pip install pyfiglet"
   ]
  },
  {
   "cell_type": "code",
   "execution_count": null,
   "metadata": {},
   "outputs": [],
   "source": [
    "# Default font\n",
    "ascii_art = pyfiglet.figlet_format('Hello, world!')\n",
    "\n",
    "# Alphabet font\n",
    "ascii_art = pyfiglet.figlet_format('Hello, world!', font='Alphabet')\n",
    "\n",
    "# Bubblehead font\n",
    "ascii_art = pyfiglet.figlet_format('Hello, world!', font='bulbhead')"
   ]
  },
  {
   "attachments": {},
   "cell_type": "markdown",
   "metadata": {},
   "source": [
    "## Display NER with `spacy`"
   ]
  },
  {
   "attachments": {},
   "cell_type": "markdown",
   "metadata": {},
   "source": [
    "If you want to perform and visualize Named-entity Recognition, use `spacy.displacy`.\n",
    "\n",
    "It makes NER and visualizing detected entities super easy.\n",
    "\n",
    "`displacy` has some other cool tools like visualizing dependencies within a sentence or visualizing spans, so check it out."
   ]
  },
  {
   "cell_type": "code",
   "execution_count": null,
   "metadata": {},
   "outputs": [],
   "source": [
    "import spacy\n",
    "from spacy import displacy\n",
    "\n",
    "text = \"Chelsea Football Club is an English professional football club based in Fulham, West London.\\\n",
    "        Founded in 1905, they play their home games at Stamford Bridge. \\\n",
    "        The club competes in the Premier League, the top division of English football. \\\n",
    "        They won their first major honour, the League championship, in 1955.\"\n",
    "\n",
    "nlp = spacy.load(\"en_core_web_sm\")\n",
    "doc = nlp(text)\n",
    "displacy.render(doc, style=\"ent\", jupyter=True)"
   ]
  },
  {
   "attachments": {},
   "cell_type": "markdown",
   "metadata": {},
   "source": [
    "## Create TikZ pictures with Python"
   ]
  },
  {
   "attachments": {},
   "cell_type": "markdown",
   "metadata": {},
   "source": [
    "If you have ever written a paper in LaTeX, you probably used TikZ for your graphics.\n",
    "\n",
    "TikZ is probably the most powerful tool to create graphic elements.\n",
    "\n",
    "And notoriously hard to learn.\n",
    "\n",
    "No need to worry, you can create TikZ-figures in Python too.\n",
    "\n",
    "With `tikzplotlib`, you can convert matplotlib figures into TikZ.\n",
    "\n",
    "You can then insert the resulting plot in your LaTeX file.\n",
    "\n",
    "Really useful when you don’t want the hassle with TikZ."
   ]
  },
  {
   "cell_type": "code",
   "execution_count": null,
   "metadata": {},
   "outputs": [],
   "source": [
    "!pip install tikzplotlib"
   ]
  },
  {
   "cell_type": "code",
   "execution_count": null,
   "metadata": {},
   "outputs": [],
   "source": [
    "import tikzplotlib\n",
    "import matplotlib.pyplot as plt\n",
    "import numpy as np\n",
    "\n",
    "plt.style.use(\"ggplot\")\n",
    "\n",
    "t = np.arange(0.0, 2.0, 0.1)\n",
    "s = np.sin(2 * np.pi * t)\n",
    "s2 = np.cos(2 * np.pi * t)\n",
    "plt.plot(t, s, \"o-\", lw=4.1)\n",
    "plt.plot(t, s2, \"o-\", lw=4.1)\n",
    "plt.xlabel(\"time (s)\")\n",
    "plt.ylabel(\"Voltage (mV)\")\n",
    "plt.title(\"Simple plot $\\\\frac{\\\\alpha}{2}$\")\n",
    "plt.grid(True)\n",
    "\n",
    "tikzplotlib.save(\"mytikz.tex\")"
   ]
  },
  {
   "attachments": {},
   "cell_type": "markdown",
   "metadata": {},
   "source": [
    "## Human-readable RegEx with `PRegEx`"
   ]
  },
  {
   "attachments": {},
   "cell_type": "markdown",
   "metadata": {},
   "source": [
    "RegEx is notoriously nasty to read and write.\n",
    "\n",
    "For a human-readable alternative, try `PRegEx`.\n",
    "\n",
    "`PRegEx` is a Python library aiming to have an easy-to-remember syntax to write RegEx patterns.\n",
    "\n",
    "It offers a way to easily break down a complex pattern into multiple simpler ones that can then be combined. \n",
    "\n",
    "See below how we can write a pattern that matches any URL that ends with either “.com” or “.org” as well as any IP address for which a 4-digit port number is specified."
   ]
  },
  {
   "cell_type": "code",
   "execution_count": null,
   "metadata": {},
   "outputs": [],
   "source": [
    "from pregex.core.classes import AnyLetter, AnyDigit, AnyFrom\n",
    "from pregex.core.quantifiers import Optional, AtLeastAtMost\n",
    "from pregex.core.operators import Either\n",
    "from pregex.core.groups import Capture\n",
    "from pregex.core.pre import Pregex\n",
    "\n",
    "http_protocol = Optional('http' + Optional('s') + '://')\n",
    "\n",
    "www = Optional('www.')\n",
    "\n",
    "alphanum = AnyLetter() | AnyDigit()\n",
    "\n",
    "domain_name = \\\n",
    "  alphanum + \\\n",
    "  AtLeastAtMost(alphanum | AnyFrom('-', '.'), n=1, m=61) + \\\n",
    "  alphanum\n",
    "\n",
    "tld = '.' + Either('com', 'org')\n",
    "\n",
    "ip_octet = AnyDigit().at_least_at_most(n=1, m=3)\n",
    "\n",
    "port_number = (AnyDigit() - '0') + 3 * AnyDigit()\n",
    "\n",
    "# Combine sub-patterns together.\n",
    "pre: Pregex = \\\n",
    "    http_protocol + \\\n",
    "    Either(\n",
    "        www + Capture(domain_name) + tld,\n",
    "        3 * (ip_octet + '.') + ip_octet + ':' + port_number\n",
    "    )"
   ]
  },
  {
   "attachments": {},
   "cell_type": "markdown",
   "metadata": {},
   "source": [
    "## Perform OCR with `easyOCR`"
   ]
  },
  {
   "attachments": {},
   "cell_type": "markdown",
   "metadata": {},
   "source": [
    "Effortlessly extract text from Images with `EasyOCR`\n",
    "\n",
    "`EasyOCR` is a Python library for Optical Character Recognition (OCR), built on top of PyTorch.\n",
    "\n",
    "It supports over 80 languages and writing scripts like Latin, Chinese, Arabic and Cyrillic.\n",
    "\n",
    "See below how easy we can extract text from a given image.\n",
    "\n",
    "PS: Even if it's working on CPU, running on GPU is recommended."
   ]
  },
  {
   "cell_type": "code",
   "execution_count": null,
   "metadata": {},
   "outputs": [],
   "source": [
    "!pip install easyocr"
   ]
  },
  {
   "cell_type": "code",
   "execution_count": null,
   "metadata": {},
   "outputs": [],
   "source": [
    "import easyocr\n",
    "\n",
    "reader = easyocr.Reader(['en'])\n",
    "image_path = 'english_image.png'\n",
    "results = reader.readtext(image_path)\n",
    "\n",
    "for result in results:\n",
    "    text = result[1]\n",
    "    print(text)"
   ]
  },
  {
   "cell_type": "markdown",
   "metadata": {},
   "source": [
    "## Diagram-as-Code with `diagrams`"
   ]
  },
  {
   "cell_type": "markdown",
   "metadata": {},
   "source": [
    "With the package `diagrams`, you can draw various types of diagrams with Python code.\n",
    "\n",
    "It offers a simple syntax and nodes from many Cloud Providers like AWS, Azure or GCP.\n",
    "\n",
    "See below how easy it is to draw a simple architecture."
   ]
  },
  {
   "cell_type": "code",
   "execution_count": null,
   "metadata": {},
   "outputs": [],
   "source": [
    "!pip install diagrams"
   ]
  },
  {
   "cell_type": "code",
   "execution_count": null,
   "metadata": {},
   "outputs": [],
   "source": [
    "from diagrams import Diagram\n",
    "from diagrams.aws.compute import EC2\n",
    "from diagrams.aws.database import RDS\n",
    "from diagrams.aws.network import ELB\n",
    "\n",
    "with Diagram(\"Grouped Workers\", show=False, direction=\"TB\"):\n",
    "    ELB(\"lb\") >> [EC2(\"worker1\"),\n",
    "                  EC2(\"worker2\"),\n",
    "                  EC2(\"worker3\"),\n",
    "                  EC2(\"worker4\"),\n",
    "                  EC2(\"worker5\")] >> RDS(\"events\")"
   ]
  },
  {
   "cell_type": "markdown",
   "metadata": {},
   "source": [
    "![Example of a small Architecture](aws_im.png)"
   ]
  },
  {
   "cell_type": "markdown",
   "metadata": {},
   "source": [
    "## Powerful Retry Functionality with `tenacity`"
   ]
  },
  {
   "cell_type": "markdown",
   "metadata": {},
   "source": [
    "What, if an API call in your program fails?\n",
    "\n",
    "Because of, let's say, instable internet connection?\n",
    "\n",
    "This is not so uncommon.\n",
    "\n",
    "You usually should have some sort of retry mechanism in your program.\n",
    "\n",
    "With `tenacity` in Python, this isn't a problem anymore.\n",
    "\n",
    "`tenacity` offers a retrying behaviour with a decorator with powerful features like:\n",
    "\n",
    "- Define Stop Conditions \n",
    "- Define Wait Conditions\n",
    "- Customize retrying on Exception\n",
    "- Retry on Coroutines"
   ]
  },
  {
   "cell_type": "code",
   "execution_count": null,
   "metadata": {},
   "outputs": [],
   "source": [
    "!pip install tenacity"
   ]
  },
  {
   "cell_type": "code",
   "execution_count": null,
   "metadata": {},
   "outputs": [],
   "source": [
    "import tenacity as t\n",
    "\n",
    "# Stop after N attempts\n",
    "@retry(stop=t.stop_after_attempt(5))\n",
    "def stop_after_5_attempts():\n",
    "    print(\"Stopping after 5 attempts\")\n",
    "    raise Exception\n",
    "    \n",
    "# OR Condition\n",
    "@retry(stop=(t.stop_after_delay(10) | t.stop_after_attempt(5)))\n",
    "def stop_after_10_s_or_5_retries():\n",
    "    print(\"Stopping after 10 seconds or 5 retries\")\n",
    "    raise Exception\n",
    "# Wait for X Seconds\n",
    "@retry(wait=t.wait_fixed(2))\n",
    "def wait_2_s():\n",
    "    print(\"Wait 2 second between retries\")\n",
    "    raise Exception\n",
    "    \n",
    "# Retry for specific Exceptions\n",
    "@retry(retry=t.retry_if_exception_type(IOError))\n",
    "def might_io_error():\n",
    "    print(\"Retry forever with no wait if an IOError occurs, raise any other errors\")\n",
    "    raise Exception"
   ]
  },
  {
   "cell_type": "markdown",
   "metadata": {},
   "source": [
    "## Performant Graph Analysis with `python-igraph`"
   ]
  },
  {
   "cell_type": "markdown",
   "metadata": {},
   "source": [
    "When you want to work with graphs in Python\n",
    "\n",
    "Use `python-igraph`.\n",
    "\n",
    "`python-igraph` offers a Python Interface to igraph, a fast and open source C library to manipulate and analyze graphs.\n",
    "\n",
    "Due to its high performance, it can handle larger graphs for complex network research which you can visualize with matplotlib or plotly.\n",
    "\n",
    "It’s documentation also offers neat tutorials for different purposes."
   ]
  },
  {
   "cell_type": "code",
   "execution_count": null,
   "metadata": {},
   "outputs": [],
   "source": [
    "!pip install igraph"
   ]
  },
  {
   "cell_type": "code",
   "execution_count": null,
   "metadata": {},
   "outputs": [],
   "source": [
    "import igraph as ig\n",
    "import matplotlib.pyplot as plt\n",
    "\n",
    "g = ig.Graph(\n",
    "    6,\n",
    "    [(0, 1), (0, 2), (1, 3), (2, 3), (2, 4), (3, 5), (4, 5)]\n",
    ")\n",
    "\n",
    "g.es['width'] = 0.5\n",
    "\n",
    "fig, ax = plt.subplots()\n",
    "ig.plot(\n",
    "    g,\n",
    "    target=ax,\n",
    "    layout='circle',\n",
    "    vertex_color='steelblue',\n",
    "    vertex_label=range(g.vcount()),\n",
    "    edge_width=g.es['width'],\n",
    "    edge_color='#666',\n",
    "    edge_background='white'\n",
    ")\n",
    "plt.show()"
   ]
  },
  {
   "cell_type": "markdown",
   "metadata": {},
   "source": [
    "## Speedtests via CLI with `speedtest-cli`"
   ]
  },
  {
   "cell_type": "markdown",
   "metadata": {},
   "source": [
    "If you want to test your internet bandwidth via your CLI\n",
    "\n",
    "try `speedtest-cli`.\n",
    "\n",
    "`speedtest-cli` tests your internet bandwidth via speedtest(dot)net.\n",
    "\n",
    "It’s installable via pip."
   ]
  },
  {
   "cell_type": "code",
   "execution_count": null,
   "metadata": {},
   "outputs": [],
   "source": [
    "!pip install speedtest-cli"
   ]
  },
  {
   "cell_type": "code",
   "execution_count": null,
   "metadata": {},
   "outputs": [],
   "source": [
    "!speedtest-cli"
   ]
  },
  {
   "cell_type": "markdown",
   "metadata": {},
   "source": [
    "## Minimalistic Database for Python with `tinydb`"
   ]
  },
  {
   "cell_type": "markdown",
   "metadata": {},
   "source": [
    "Do you search for a minimalistic document-oriented database in Python?\n",
    "\n",
    "Use `tinydb`.\n",
    "\n",
    "`tinydb` is written in pure Python and offers a lightweight document-oriented database.\n",
    "\n",
    "It’s perfect for small apps and hobby projects."
   ]
  },
  {
   "cell_type": "code",
   "execution_count": null,
   "metadata": {},
   "outputs": [],
   "source": [
    "!pip install tinydb"
   ]
  },
  {
   "cell_type": "code",
   "execution_count": null,
   "metadata": {},
   "outputs": [],
   "source": [
    "from tinydb import TinyDB, Query\n",
    "\n",
    "db = TinyDB('/path/to/db.json')\n",
    "db.insert({'int': 1, 'char': 'a'})\n",
    "db.insert({'int': 1, 'char': 'b'})"
   ]
  },
  {
   "cell_type": "markdown",
   "metadata": {},
   "source": [
    "## Calculate Code Metrics with `radon`"
   ]
  },
  {
   "cell_type": "markdown",
   "metadata": {},
   "source": [
    "How do you ensure your codebase stays clean and maintainable?\n",
    "\n",
    "What if you can calculate how complex your codebase is?\n",
    "\n",
    "There are different metrics to do that:\n",
    "\n",
    "- Raw Metrics like Source Lines of Code (SLOC) or Logical Lines of Code (LLOC). They are not a good estimator for the complexity.\n",
    "- Cyclomatic Complexity: Corresponds to the number of decisions in the code + 1 (e.g. every for or if counts).\n",
    "- Halstead Metrics: Metrics derived from the number of distinct and total operators and operands.\n",
    "- Maintainability Index: Measures how maintainable the code is. It’s a mix of SLOC, Cyclomatic Complexity, and a Halstead Metric.\n",
    "\n",
    "With `radon`, you can calculate those metrics described above in Python (or via CLI)."
   ]
  },
  {
   "cell_type": "code",
   "execution_count": null,
   "metadata": {},
   "outputs": [],
   "source": [
    "!pip install radon"
   ]
  },
  {
   "cell_type": "code",
   "execution_count": null,
   "metadata": {},
   "outputs": [],
   "source": [
    "!radon cc example.py"
   ]
  },
  {
   "cell_type": "markdown",
   "metadata": {},
   "source": [
    "## Better Alternative to `requests`"
   ]
  },
  {
   "cell_type": "markdown",
   "metadata": {},
   "source": [
    "Want a better alternative to `requests`?\n",
    "\n",
    "Use `httpx` for Python.\n",
    "\n",
    "`httpx` is a modern alternative to `requests` to make HTTP requests (while having a similar API).\n",
    "\n",
    "One of the main advantages is it supports asynchronous requests (while `requests` doesn’t).\n",
    "\n",
    "This can lead to performance improvements when dealing with multiple endpoints concurrently.\n",
    "\n",
    "Just try it for yourself."
   ]
  },
  {
   "cell_type": "code",
   "execution_count": null,
   "metadata": {},
   "outputs": [],
   "source": [
    "!pip install httpx"
   ]
  },
  {
   "cell_type": "code",
   "execution_count": null,
   "metadata": {},
   "outputs": [],
   "source": [
    "import httpx\n",
    "\n",
    "r = httpx.get('https://httpbin.org/get')\n",
    "r = httpx.put('https://httpbin.org/put', data={'key': 'value'})\n",
    "r = httpx.delete('https://httpbin.org/delete')\n",
    "\n",
    "# Async support\n",
    "async with httpx.AsyncClient() as client:\n",
    "     r = await client.get('https://www.example.com/')"
   ]
  },
  {
   "cell_type": "markdown",
   "metadata": {},
   "source": [
    "## Managing Configurations with `python-dotenv`"
   ]
  },
  {
   "cell_type": "markdown",
   "metadata": {},
   "source": [
    "Struggling with managing your Python project's configuration? \n",
    "\n",
    "Try python-dotenv.\n",
    "\n",
    "python-dotenv reads key-value pairs from a `.env` file and can set them as environment variables.\n",
    "\n",
    "You don’t have to hard-code those in your code."
   ]
  },
  {
   "cell_type": "code",
   "execution_count": null,
   "metadata": {},
   "outputs": [],
   "source": [
    "!pip install python-dotenv"
   ]
  },
  {
   "cell_type": "code",
   "execution_count": null,
   "metadata": {},
   "outputs": [],
   "source": [
    "# .env\n",
    "API_KEY=MySuperSecretAPIKey\n",
    "DOMAIN=MyDomain"
   ]
  },
  {
   "cell_type": "code",
   "execution_count": null,
   "metadata": {},
   "outputs": [],
   "source": [
    "from dotenv import load_dotenv, dotenv_values\n",
    "import os\n",
    "\n",
    "# Set environment variables defined in .env\n",
    "load_dotenv()\n",
    "print(os.getenv(\"API_KEY\"))\n",
    "\n",
    "# Or as a dictionary, without touching environment variables\n",
    "config = dotenv_values(\".env\")\n",
    "\n",
    "print(config[\"DOMAIN\"])"
   ]
  },
  {
   "cell_type": "markdown",
   "metadata": {},
   "source": [
    "## Work with Notion via Python with"
   ]
  },
  {
   "cell_type": "markdown",
   "metadata": {},
   "source": [
    "Did you know you can interact with Notion via Python?\n",
    "\n",
    "`notion-client` is a Python SDK for working with the Notion API.\n",
    "\n",
    "You can create databases, search for items, interact with pages, etc.\n",
    "\n",
    "Check the example below."
   ]
  },
  {
   "cell_type": "code",
   "execution_count": null,
   "metadata": {},
   "outputs": [],
   "source": [
    "!pip install notion-client"
   ]
  },
  {
   "cell_type": "code",
   "execution_count": null,
   "metadata": {},
   "outputs": [],
   "source": [
    "from notion_client import Client\n",
    "\n",
    "notion = Client(\"<NOTION_TOKEN>\")\n",
    "\n",
    "print(notion.users.list())\n",
    "\n",
    "my_page = notion.databases.query(\n",
    "        **{\n",
    "            \"database_id\": \"897e5a76-ae52-4b48-9fdf-e71f5945d1af\",\n",
    "            \"filter\": {\n",
    "                \"property\": \"Landmark\",\n",
    "                \"rich_text\": {\n",
    "                    \"contains\": \"Bridge\",\n",
    "                },\n",
    "            },\n",
    "        }\n",
    "    )"
   ]
  },
  {
   "cell_type": "markdown",
   "metadata": {},
   "source": [
    "## SQL Query Builder in Python"
   ]
  },
  {
   "cell_type": "markdown",
   "metadata": {},
   "source": [
    "You can build SQL queries in Python with pypika.\n",
    "\n",
    "pypika provides a simple interface to build SQL queries with an easy syntax.\n",
    "\n",
    "It supports nearly every SQL command."
   ]
  },
  {
   "cell_type": "code",
   "execution_count": null,
   "metadata": {},
   "outputs": [],
   "source": [
    "from pypika import Tables, Query\n",
    "\n",
    "history, customers = Tables('history', 'customers')\n",
    "q = Query \\\n",
    "    .from_(history) \\\n",
    "    .join(customers) \\\n",
    "    .on(history.customer_id == customers.id) \\\n",
    "    .select(history.star) \\\n",
    "    .where(customers.id == 5)\n",
    "    \n",
    "q.get_sql()\n",
    "# SELECT \"history\".* FROM \"history\" JOIN \"customers\" \n",
    "# ON \"history\".\"customer_id\"=\"customers\".\"id\" WHERE \"customers\".\"id\"=5"
   ]
  },
  {
   "cell_type": "markdown",
   "metadata": {},
   "source": [
    "## Text-to-Speech Generation with `MeloTTS`"
   ]
  },
  {
   "cell_type": "markdown",
   "metadata": {},
   "source": [
    "Do you want high-quality text-to-speech in Python?\n",
    "\n",
    "Use `MeloTTS`.\n",
    "\n",
    "`MeloTTS` supports various languages for speech generation without needing a GPU.\n",
    "\n",
    "You can use it via CLI, Python API or Web UI."
   ]
  },
  {
   "cell_type": "code",
   "execution_count": null,
   "metadata": {},
   "outputs": [],
   "source": [
    "!git clone https://github.com/myshell-ai/MeloTTS.git\n",
    "!cd MeloTTS\n",
    "!pip install -e .\n",
    "!python -m unidic download"
   ]
  },
  {
   "cell_type": "code",
   "execution_count": null,
   "metadata": {},
   "outputs": [],
   "source": [
    "!melo \"Text to read\" output.wav --language EN"
   ]
  },
  {
   "cell_type": "code",
   "execution_count": null,
   "metadata": {},
   "outputs": [],
   "source": [
    "!melo-ui"
   ]
  },
  {
   "cell_type": "code",
   "execution_count": null,
   "metadata": {},
   "outputs": [],
   "source": [
    "from melo.api import TTS\n",
    "\n",
    "speed = 1.0\n",
    "device = 'cpu'\n",
    "\n",
    "text = \"La lueur dorée du soleil caresse les vagues, peignant le ciel d'une palette éblouissante.\"\n",
    "model = TTS(language='FR', device=device)\n",
    "speaker_ids = model.hps.data.spk2id\n",
    "\n",
    "output_path = 'fr.wav'\n",
    "model.tts_to_file(text, speaker_ids['FR'], output_path, speed=speed)"
   ]
  },
  {
   "cell_type": "markdown",
   "metadata": {},
   "source": [
    "## Powerful SQL Parser and Transpiler with `SQLGlot`"
   ]
  },
  {
   "cell_type": "markdown",
   "metadata": {},
   "source": [
    "With `SQLGlot`, you can parse, optimize, transpile and format SQL queries. \n",
    "\n",
    "You can even translate between 21 different flavours like DuckDB, Snowflake, Spark and Hive."
   ]
  },
  {
   "cell_type": "code",
   "execution_count": null,
   "metadata": {},
   "outputs": [],
   "source": [
    "!pip install sqlglot"
   ]
  },
  {
   "cell_type": "code",
   "execution_count": null,
   "metadata": {},
   "outputs": [],
   "source": [
    "import sqlglot\n",
    "\n",
    "sqlglot.transpile(\"SELECT TOP 1 salary FROM employees WHERE age > 30\", read=\"tsql\", write=\"hive\")[0]\n",
    "# SELECT salary FROM employees WHERE age > 30 LIMIT 1\n",
    "\n",
    "sqlglot.transpile(\"SELECT foo FROM (SELECT baz FROM t\")\n",
    "#ParseError: Expecting ). Line 1, Col: 34. SELECT foo FROM (SELECT baz FROM t"
   ]
  },
  {
   "cell_type": "markdown",
   "metadata": {},
   "source": [
    "## Prettify Python Errors with `pretty_errors`"
   ]
  },
  {
   "cell_type": "markdown",
   "metadata": {},
   "source": [
    "Are you annoyed from the unclear Python error messages?\n",
    "\n",
    "Try `pretty_errors`.\n",
    "\n",
    "It's a library to prettify Python exception output to make it more readable and clear.\n",
    "\n",
    "It also allows you to configure the output like changing colors, separator character, displaying locals, etc.."
   ]
  },
  {
   "cell_type": "code",
   "execution_count": null,
   "metadata": {},
   "outputs": [],
   "source": [
    "!pip install pretty_errors"
   ]
  },
  {
   "cell_type": "code",
   "execution_count": null,
   "metadata": {},
   "outputs": [],
   "source": [
    "import pretty_errors\n",
    "\n",
    "# Optional: Configurations\n",
    "pretty_errors.configure(\n",
    "    separator_character = '*',\n",
    "    filename_display    = pretty_errors.FILENAME_EXTENDED,\n",
    "    line_number_first   = True,\n",
    "    display_link        = True,\n",
    "    lines_before        = 5,\n",
    "    lines_after         = 2,\n",
    "    line_color          = pretty_errors.RED + '> ' + pretty_errors.default_config.line_color,\n",
    "    code_color          = '  ' + pretty_errors.default_config.line_color,\n",
    "    truncate_code       = True,\n",
    "    display_locals      = True\n",
    ")\n",
    "\n",
    "x = 10 / 0"
   ]
  },
  {
   "cell_type": "markdown",
   "metadata": {},
   "source": [
    "## Unified Python DataFrame API with `ibis`"
   ]
  },
  {
   "cell_type": "markdown",
   "metadata": {},
   "source": [
    "Are you annoyed by learning a new API for handling dataframes every week?\n",
    "\n",
    "With `ibis`, you don't have to anymore.\n",
    "\n",
    "`ibis` defines a Python dataframe API which runs on over 20+ backends.\n",
    "\n",
    "Polars, Pandas, PySpark, Snowflake, BigQuery - you name it.\n",
    "\n",
    "You just have to install `ibis` with the corresponding backend, the rest stays the same."
   ]
  },
  {
   "cell_type": "code",
   "execution_count": null,
   "metadata": {},
   "outputs": [],
   "source": [
    "!pip install 'ibis-framework[duckdb]'"
   ]
  },
  {
   "cell_type": "code",
   "execution_count": null,
   "metadata": {},
   "outputs": [],
   "source": [
    "import ibis\n",
    "\n",
    "# Set different backends\n",
    "ibis.set_backend(\"duckdb\") # or ibis.set_backend(\"polars\")\n",
    "\n",
    "conn = ibis.duckdb.connect()\n",
    "data = conn.read_parquet(\"data.parquet\")\n",
    "\n",
    "result = data.group_by([\"species\", \"island\"]).agg(count=data.count()).order_by(\"count\")"
   ]
  },
  {
   "cell_type": "markdown",
   "metadata": {},
   "source": [
    "## Create Beautiful Tables with `great_tables`"
   ]
  },
  {
   "cell_type": "markdown",
   "metadata": {},
   "source": [
    "Do you want to create nice-looking tables in Python?\n",
    "\n",
    "Try `great_tables`.\n",
    "\n",
    "`great_tables` lets you create beautiful and high-quality tables with an easy API.\n",
    "\n",
    "You can use the pre-defined table components like footer, header, and table body by bringing your dataframe."
   ]
  },
  {
   "cell_type": "code",
   "execution_count": null,
   "metadata": {},
   "outputs": [],
   "source": [
    "!pip install great_tables"
   ]
  },
  {
   "cell_type": "code",
   "execution_count": null,
   "metadata": {},
   "outputs": [],
   "source": [
    "from great_tables import GT\n",
    "from great_tables.data import sp500\n",
    "\n",
    "start_date = \"2010-06-07\"\n",
    "end_date = \"2010-06-14\"\n",
    "\n",
    "(\n",
    "    GT(sp500)\n",
    "    .tab_header(title=\"S&P 500\", subtitle=f\"{start_date} to {end_date}\")\n",
    "    .fmt_currency(columns=[\"open\", \"high\", \"low\", \"close\"])\n",
    "    .fmt_date(columns=\"date\", date_style=\"wd_m_day_year\")\n",
    "    .fmt_number(columns=\"volume\", compact=True)\n",
    "    .cols_hide(columns=\"adj_close\")\n",
    ")"
   ]
  },
  {
   "cell_type": "markdown",
   "metadata": {},
   "source": [
    "## Data Quality Checks for Dataframes with `cuallee`"
   ]
  },
  {
   "cell_type": "markdown",
   "metadata": {},
   "source": [
    "Do you want to make quality checks for your dataframes?\n",
    "\n",
    "Try `cuallee`.\n",
    "\n",
    "`cuallee` provides an API to validate your dataframe for common things like completeness, dates, anomalies or membership.\n",
    "\n",
    "`cuallee` supports the most popular libraries and providers like Polars, DuckDB, BigQuery, and Snowflake."
   ]
  },
  {
   "cell_type": "code",
   "execution_count": null,
   "metadata": {},
   "outputs": [],
   "source": [
    "!pip install cuallee"
   ]
  },
  {
   "cell_type": "code",
   "execution_count": null,
   "metadata": {},
   "outputs": [],
   "source": [
    "from cuallee import Check, CheckLevel\n",
    "\n",
    "check = Check(CheckLevel.WARNING, \"Completeness\")\n",
    "(\n",
    "    check\n",
    "    .is_complete(\"id\")\n",
    "    .is_unique(\"id\")\n",
    "    .validate(df)\n",
    ").show()"
   ]
  },
  {
   "cell_type": "code",
   "execution_count": null,
   "metadata": {},
   "outputs": [],
   "source": [
    "check = Check(CheckLevel.WARNING, \"CheckIsBetweenDates\")\n",
    "df = spark.sql(\n",
    "    \"\"\"\n",
    "    SELECT\n",
    "        explode(\n",
    "            sequence(\n",
    "                to_date('2022-01-01'),\n",
    "                to_date('2022-01-10'),\n",
    "                interval 1 day)) as date\n",
    "    \"\"\")\n",
    "assert (\n",
    "    check.is_between(\"date\", \"2022-01-01\", \"2022-01-10\")\n",
    "    .validate(df)\n",
    "    .first()\n",
    "    .status == \"PASS\"\n",
    ")"
   ]
  },
  {
   "cell_type": "markdown",
   "metadata": {},
   "source": [
    "## OCR, Line Detection and Layout Analysis with `surya`"
   ]
  },
  {
   "cell_type": "markdown",
   "metadata": {},
   "source": [
    "Do you need an open-source OCR package?\n",
    "\n",
    "Try `surya`.\n",
    "\n",
    "`surya` is an OCR + layout analysis + line detection library for Python, supporting over 90 languages.\n",
    "\n",
    "A great alternative to popular libraries like easyocr.\n"
   ]
  },
  {
   "cell_type": "code",
   "execution_count": null,
   "metadata": {},
   "outputs": [],
   "source": [
    "!pip install surya-ocr"
   ]
  },
  {
   "cell_type": "code",
   "execution_count": null,
   "metadata": {},
   "outputs": [],
   "source": [
    "from PIL import Image\n",
    "from surya.ocr import run_ocr\n",
    "from surya.model.detection import segformer\n",
    "from surya.model.recognition.model import load_model\n",
    "from surya.model.recognition.processor import load_processor\n",
    "\n",
    "image = Image.open(IMAGE_PATH)\n",
    "langs = [\"en\"]\n",
    "det_processor, det_model = segformer.load_processor(), segformer.load_model()\n",
    "rec_model, rec_processor = load_model(), load_processor()\n",
    "\n",
    "predictions = run_ocr([image], [langs], det_model, det_processor, rec_model, rec_processor)"
   ]
  },
  {
   "cell_type": "markdown",
   "metadata": {},
   "source": [
    "## Decode/Encode JWTs with `PyJWT`"
   ]
  },
  {
   "cell_type": "markdown",
   "metadata": {},
   "source": [
    "For working with JWT in Python, use `PyJWT`.\n",
    "\n",
    "`PyJWT` is a Python library for encoding/decoding JWTs easily."
   ]
  },
  {
   "cell_type": "code",
   "execution_count": null,
   "metadata": {},
   "outputs": [],
   "source": [
    "!pip install pyjwt"
   ]
  },
  {
   "cell_type": "code",
   "execution_count": null,
   "metadata": {},
   "outputs": [],
   "source": [
    "import jwt\n",
    "encoded_jwt = jwt.encode({\"some\": \"payload\"}, \"secret\", algorithm=\"HS256\")\n",
    "jwt.decode(encoded_jwt, \"secret\", algorithms=[\"HS256\"])"
   ]
  },
  {
   "cell_type": "markdown",
   "metadata": {},
   "source": [
    "## Convert HTML to Markdown with `markdownify`"
   ]
  },
  {
   "cell_type": "markdown",
   "metadata": {},
   "source": [
    "To convert HTML to Markdown with Python, use `markdownify`.\n",
    "\n",
    "`markdownify` is a Python library which provides a simple function to convert HTML to markdown.\n",
    "\n",
    "It also supports many options like stripping out elements."
   ]
  },
  {
   "cell_type": "code",
   "execution_count": null,
   "metadata": {},
   "outputs": [],
   "source": [
    "!pip install markdownify"
   ]
  },
  {
   "cell_type": "code",
   "execution_count": null,
   "metadata": {},
   "outputs": [],
   "source": [
    "from markdownify import markdownify as md\n",
    "md('<b>Yay</b> <a href=\"http://github.com\">GitHub</a>')  \n",
    "# Output: '**Yay** [GitHub](http://github.com)'"
   ]
  },
  {
   "cell_type": "markdown",
   "metadata": {},
   "source": [
    "## Build Web Apps with `mesop`"
   ]
  },
  {
   "cell_type": "markdown",
   "metadata": {},
   "source": [
    "Google Devs published a new open-source Streamlit competitor.\n",
    "\n",
    "\n",
    "\n",
    "It's called `mesop` to build web apps in Python rapidly.\n",
    "\n",
    "\n",
    "\n",
    "It provides ready-to-use components or you can build your ones, without writing HTML/CSS/JS code."
   ]
  },
  {
   "cell_type": "code",
   "execution_count": null,
   "metadata": {},
   "outputs": [],
   "source": [
    "!pip install mesop"
   ]
  },
  {
   "cell_type": "code",
   "execution_count": null,
   "metadata": {},
   "outputs": [],
   "source": [
    "import mesop as me\n",
    "import mesop.labs as mel\n",
    "\n",
    "@me.page(path=\"/chat\")\n",
    "def chat():\n",
    "  mel.chat(transform)\n",
    "\n",
    "def transform(prompt: str, history: list[mel.ChatMessage]) -> str:\n",
    "  return \"Hello \" + prompt"
   ]
  },
  {
   "cell_type": "markdown",
   "metadata": {},
   "source": [
    "## Anonymize PII Data with `presidio`"
   ]
  },
  {
   "cell_type": "markdown",
   "metadata": {},
   "source": [
    "Working with PII data can be a neckbreaker in some cases.\n",
    "\n",
    "Luckily, for fast anonymization, you can use presidio.\n",
    "\n",
    "presidio handles anonymization of popular entities like names, phone numbers, credit card numbers or Bitcoin wallets.\n",
    "\n",
    "It can even handle text in images!"
   ]
  },
  {
   "cell_type": "code",
   "execution_count": null,
   "metadata": {},
   "outputs": [],
   "source": [
    "!pip install presidio_analyzer presidio_anonymizer"
   ]
  },
  {
   "cell_type": "code",
   "execution_count": null,
   "metadata": {},
   "outputs": [],
   "source": [
    "!python -m spacy download en_core_web_lg"
   ]
  },
  {
   "cell_type": "code",
   "execution_count": null,
   "metadata": {},
   "outputs": [],
   "source": [
    "from presidio_analyzer import AnalyzerEngine\n",
    "from presidio_anonymizer import AnonymizerEngine\n",
    "\n",
    "text_to_anonymize = \"His name is Mr. Jones. His phone number is 212-555-5555.\"\n",
    "\n",
    "analyzer = AnalyzerEngine()\n",
    "results = analyzer.analyze(text=text_to_anonymize, entities=[\"PHONE_NUMBER\", \"PERSON\"], language='en')\n",
    "\n",
    "anonymizer = AnonymizerEngine()\n",
    "\n",
    "anonymized_text = anonymizer.anonymize(text=text_to_anonymize, analyzer_results=results)\n",
    "\n",
    "print(anonymized_text)\n",
    "\n",
    "# Output: His name is Mr. <PERSON>. His phone number is <PHONE_NUMBER>."
   ]
  },
  {
   "cell_type": "markdown",
   "metadata": {},
   "source": [
    "## Extract Skills from Job Postings with `skillner`"
   ]
  },
  {
   "cell_type": "markdown",
   "metadata": {},
   "source": [
    "Extracting skills from unstructured data can be difficult.\n",
    "\n",
    "With 𝐬𝐤𝐢𝐥𝐥𝐧𝐞𝐫 it doesn't have to be.\n",
    "\n",
    "𝐬𝐤𝐢𝐥𝐥𝐧𝐞𝐫 extracts skills and certifications from data based on an open source skills database.\n",
    "\n",
    "Based on spacy and some simple rules, it achieved good results in some tests I ran.\n",
    "\n",
    "Of course, you could also run an LLM on job ads, but do you need it?"
   ]
  },
  {
   "cell_type": "code",
   "execution_count": null,
   "metadata": {},
   "outputs": [],
   "source": [
    "!pip install skillNer\n",
    "!python -m spacy download en_core_web_lg"
   ]
  },
  {
   "cell_type": "code",
   "execution_count": null,
   "metadata": {},
   "outputs": [],
   "source": [
    "import spacy\n",
    "from spacy.matcher import PhraseMatcher\n",
    "from skillNer.general_params import SKILL_DB\n",
    "from skillNer.skill_extractor_class import SkillExtractor\n",
    "\n",
    "nlp = spacy.load(\"en_core_web_lg\")\n",
    "skill_extractor = SkillExtractor(nlp, SKILL_DB, PhraseMatcher)\n",
    "\n",
    "job_description = \"\"\"\n",
    "You are a Python developer with a expertise in backend development\n",
    "and can manage projects. You quickly adapt to new environments\n",
    "and speak fluently English and German.\n",
    "\"\"\"\n",
    "\n",
    "annotations = skill_extractor.annotate(job_description)\n",
    "\n",
    "skill_extractor.describe(annotations)"
   ]
  },
  {
   "cell_type": "markdown",
   "metadata": {},
   "source": [
    "## Rate Limiting FastAPI with `slowapi`"
   ]
  },
  {
   "cell_type": "markdown",
   "metadata": {},
   "source": [
    "Preventing abuse of your API is crucial.\n",
    "\n",
    "To implement rate limiting for FastAPI, you can use `slowapi`.\n",
    "\n",
    "`slowapi` offers utility functions to limit your FastAPI or Starlette app based on e.g. the IP address.\n",
    "\n",
    "In the example below, we limit our API to 5 requests per minute.\n",
    "\n",
    "A note from the author: This is alpha quality code still, the API may change, and things may fall apart while you try it."
   ]
  },
  {
   "cell_type": "code",
   "execution_count": null,
   "metadata": {},
   "outputs": [],
   "source": [
    "!pip install slowapi"
   ]
  },
  {
   "cell_type": "code",
   "execution_count": null,
   "metadata": {},
   "outputs": [],
   "source": [
    "from fastapi import FastAPI\n",
    "from slowapi import Limiter, _rate_limit_exceeded_handler\n",
    "from slowapi.util import get_remote_address\n",
    "from slowapi.errors import RateLimitExceeded\n",
    "\n",
    "# Limiting based on user's IP address\n",
    "limiter = Limiter(key_func=get_remote_address)\n",
    "app = FastAPI()\n",
    "app.state.limiter = limiter\n",
    "app.add_exception_handler(RateLimitExceeded, _rate_limit_exceeded_handler)\n",
    "\n",
    "@app.get(\"/home\")\n",
    "@limiter.limit(\"5/minute\")\n",
    "async def hello(request: Request):\n",
    "    return {\"response\":\"Hello\"}"
   ]
  },
  {
   "cell_type": "markdown",
   "metadata": {},
   "source": [
    "## Create CLI out of any Python Object with `fire`"
   ]
  },
  {
   "cell_type": "markdown",
   "metadata": {},
   "source": [
    "Transform any Python object into a CLI with `fire`.\n",
    "\n",
    "`fire` is a neat library for turning your Python object into a CLI and making the transition between Python and Bash easier."
   ]
  },
  {
   "cell_type": "code",
   "execution_count": null,
   "metadata": {},
   "outputs": [],
   "source": [
    "!pip install fire"
   ]
  },
  {
   "cell_type": "code",
   "execution_count": null,
   "metadata": {},
   "outputs": [],
   "source": [
    "# hello.py\n",
    "import fire\n",
    "\n",
    "def hello(name=\"World\"):\n",
    "  return \"Hello %s!\" % name\n",
    "\n",
    "if __name__ == '__main__':\n",
    "  fire.Fire(hello)"
   ]
  },
  {
   "cell_type": "code",
   "execution_count": null,
   "metadata": {},
   "outputs": [],
   "source": [
    "!python hello.py --name=David"
   ]
  },
  {
   "cell_type": "markdown",
   "metadata": {},
   "source": [
    "## Environment Variables Management with `pydantic-settings`"
   ]
  },
  {
   "cell_type": "markdown",
   "metadata": {},
   "source": [
    "Is this the best way to work with environment variables?\n",
    "\n",
    "**pydantic-settings** makes it so easy to work with your environment variables in an easy way.\n",
    "\n",
    "Why it's a great tool:\n",
    "- Type-safe configuration with zero boilerplate  \n",
    "- Automatic environment variable loading  \n",
    "- Built-in validation and error handling  \n",
    "- Seamless .env file support\n",
    "\n",
    "For your settings, just create a class which inherits from **BaseSettings** and define your variables there."
   ]
  },
  {
   "cell_type": "code",
   "execution_count": null,
   "metadata": {},
   "outputs": [],
   "source": [
    "!pip install pydantic-settings"
   ]
  },
  {
   "cell_type": "code",
   "execution_count": null,
   "metadata": {},
   "outputs": [],
   "source": [
    "from pydantic_settings import BaseSettings, SettingsConfigDict\n",
    "from pydanctic import BaseModel\n",
    "from enum import Enum\n",
    "\n",
    "class Environment(str, Enum):\n",
    "    DEV = 'dev'\n",
    "    STAGING = 'staging'\n",
    "    PROD = 'prod'\n",
    "    \n",
    "class RedisSettings(BaseModel):\n",
    "    host: str\n",
    "    port: int\n",
    "\n",
    "class AppSettings(BaseSettings):\n",
    "    model_config = SettingsConfigDict(env_file='.env')\n",
    "    \n",
    "    redis: RedisSettings\n",
    "    app_name: str\n",
    "    environment: Environment\n",
    "    debug_mode: bool = False\n",
    "    \n",
    "settings = AppSettings()\n",
    "\n",
    "print(settings.redis.host)\n",
    "\n",
    "'''\n",
    "# .env\n",
    "APP_NAME=YourAppName\n",
    "ENVIRONMENT=dev\n",
    "DEBUG_MODE=False\n",
    "REDIS='{\"host\": \"localhost\", \"port\": 6379}'\n",
    "'''"
   ]
  },
  {
   "cell_type": "markdown",
   "metadata": {},
   "source": [
    "## Deduplicate Huge Datasets with `semhash`"
   ]
  },
  {
   "cell_type": "markdown",
   "metadata": {},
   "source": [
    "Deduplicate your data at lightning speed in Python! 🔥\n",
    "\n",
    "Having duplicates in your dataset is annoying and needs to be removed as they do not contribute positively to model training.\n",
    "\n",
    "But they can be difficult to detect, especially semantic duplicates.\n",
    "\n",
    "Fortunately, 𝐬𝐞𝐦𝐡𝐚𝐬𝐡 has you covered!\n",
    "\n",
    "𝐬𝐞𝐦𝐡𝐚𝐬𝐡 deduplicates your dataset at lightning speed.\n",
    "\n",
    "It uses fast embedding generation with Model2Vec and optional ANN-based similarity search with Vicinity.\n",
    "\n",
    "For a dataset of 1.8M rows, 𝐬𝐞𝐦𝐡𝐚𝐬𝐡 takes 83 seconds to deduplicate. 🔥\n",
    "\n",
    "You can, of course, use any model supported by sentence-transformers, or bring your own model."
   ]
  },
  {
   "cell_type": "code",
   "execution_count": null,
   "metadata": {},
   "outputs": [],
   "source": [
    "!pip install semhash"
   ]
  },
  {
   "cell_type": "code",
   "execution_count": null,
   "metadata": {},
   "outputs": [],
   "source": [
    "from datasets import load_dataset\n",
    "from semhash import SemHash\n",
    "\n",
    "texts = load_dataset(\"ag_news\", split=\"train\")[\"text\"]\n",
    "\n",
    "semhash = SemHash.from_records(records=texts)\n",
    "\n",
    "deduplicated_texts = semhash.self_deduplicate().deduplicated"
   ]
  },
  {
   "cell_type": "markdown",
   "metadata": {},
   "source": [
    "## Fast HTTP Server: `robyn`"
   ]
  },
  {
   "cell_type": "markdown",
   "metadata": {},
   "source": [
    "Do you need a lightweight alternative to FastAPI?\n",
    "\n",
    "Try out 𝗿𝗼𝗯𝘆𝗻.\n",
    "\n",
    "𝗿𝗼𝗯𝘆𝗻 is a fast and lightweight web framework written in Rust (like everything else these days).\n",
    "\n",
    "It combines Python's async capabilities with a Rust runtime.\n",
    "\n",
    "With a similar syntax and a great documentation, 𝗿𝗼𝗯𝘆𝗻 makes it easy to switch from other frameworks."
   ]
  },
  {
   "cell_type": "code",
   "execution_count": null,
   "metadata": {},
   "outputs": [],
   "source": [
    "!pip install robyn"
   ]
  },
  {
   "cell_type": "code",
   "execution_count": null,
   "metadata": {},
   "outputs": [],
   "source": [
    "# app.py\n",
    "from robyn import Robyn\n",
    "\n",
    "app = Robyn(__file__)\n",
    "\n",
    "@app.get(\"/\")\n",
    "async def hello_world(request):\n",
    "    return \"Hello, world!\"\n",
    "\n",
    "app.start(port=8080)"
   ]
  },
  {
   "cell_type": "code",
   "execution_count": null,
   "metadata": {},
   "outputs": [],
   "source": [
    "!python app.py"
   ]
  }
 ],
 "metadata": {
  "kernelspec": {
   "display_name": "venv",
   "language": "python",
   "name": "python3"
  },
  "language_info": {
   "name": "python",
   "version": "3.9.18"
  },
  "vscode": {
   "interpreter": {
    "hash": "54bf0f8d5625db32e314b5bdaf50a44046044c99ae376da8e1ac5bc25f06b01d"
   }
  }
 },
 "nbformat": 4,
 "nbformat_minor": 2
}