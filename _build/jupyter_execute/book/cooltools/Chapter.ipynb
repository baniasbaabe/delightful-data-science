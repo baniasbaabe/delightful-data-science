{
 "cells": [
  {
   "attachments": {},
   "cell_type": "markdown",
   "metadata": {},
   "source": [
    "# Cool Tools"
   ]
  },
  {
   "attachments": {},
   "cell_type": "markdown",
   "metadata": {},
   "source": [
    "## Work with Countries, Currencies, Subdivisions, and more"
   ]
  },
  {
   "attachments": {},
   "cell_type": "markdown",
   "metadata": {},
   "source": [
    "Do you work with international data?\n",
    "\n",
    "You probably know how important it is to use the correct codes for countries, currencies, languages, and subdivisions.\n",
    "\n",
    "To save the headache, try `pycountry` for Python!\n",
    "\n",
    "`pycountry` makes it easy to work with these codes.\n",
    "\n",
    "It allows you to look up country and currency information by name or code based on ISO.\n",
    "\n",
    "But it can also be used to get the name or code for a specific currency or country."
   ]
  },
  {
   "cell_type": "code",
   "execution_count": null,
   "metadata": {},
   "outputs": [],
   "source": [
    "!pip install pycountry"
   ]
  },
  {
   "cell_type": "code",
   "execution_count": null,
   "metadata": {},
   "outputs": [],
   "source": [
    "import pycountry\n",
    "\n",
    "# Get Country\n",
    "print(pycountry.countries.get(alpha_2=\"DE\"))\n",
    "\n",
    "# Get Currency\n",
    "print(pycountry.currencies.get(alpha_3=\"EUR\"))\n",
    "\n",
    "# Get Language\n",
    "print(pycountry.languages.get(alpha_2='DE'))"
   ]
  },
  {
   "attachments": {},
   "cell_type": "markdown",
   "metadata": {},
   "source": [
    "## Generate better requirements files with `pipreqs`"
   ]
  },
  {
   "attachments": {},
   "cell_type": "markdown",
   "metadata": {},
   "source": [
    "To generate a requirements.txt file, don’t do pip freeze > requirements.txt\n",
    "\n",
    "It will save all packages in your environment including those you are not currently using in your project (but still have installed).\n",
    "\n",
    "Instead, use `pipreqs`.\n",
    "\n",
    "`pipreqs` will only save those packages based on imports in your project.\n",
    "\n",
    "A very good option for plain virtual environments."
   ]
  },
  {
   "cell_type": "code",
   "execution_count": null,
   "metadata": {},
   "outputs": [],
   "source": [
    "!pip install pipreqs"
   ]
  },
  {
   "cell_type": "code",
   "execution_count": null,
   "metadata": {},
   "outputs": [],
   "source": [
    "!pipreqs ."
   ]
  },
  {
   "attachments": {},
   "cell_type": "markdown",
   "metadata": {},
   "source": [
    "## Remove a package and its dependencies with `pip-autoremove`"
   ]
  },
  {
   "attachments": {},
   "cell_type": "markdown",
   "metadata": {},
   "source": [
    "When you want to remove a package via pip, you will encounter following problem:\n",
    "\n",
    "pip will remove the desired package but not its unused dependencies.\n",
    "\n",
    "Instead, try `pip-autoremove`.\n",
    "\n",
    "It will automatically remove a package and its unused dependencies. \n",
    "\n",
    "A really good option when you are not using something like Poetry."
   ]
  },
  {
   "cell_type": "code",
   "execution_count": null,
   "metadata": {},
   "outputs": [],
   "source": [
    "!pip install pip-autoremove"
   ]
  },
  {
   "cell_type": "code",
   "execution_count": null,
   "metadata": {},
   "outputs": [],
   "source": [
    "!pip-autoremove flask -y"
   ]
  },
  {
   "attachments": {},
   "cell_type": "markdown",
   "metadata": {},
   "source": [
    "## Get distance between postal codes"
   ]
  },
  {
   "attachments": {},
   "cell_type": "markdown",
   "metadata": {},
   "source": [
    "Do you want the distance between two postal codes?\n",
    "\n",
    "Use `pgeocode`.\n",
    "\n",
    "Just specify your country + postal codes and get the distance in KM."
   ]
  },
  {
   "cell_type": "code",
   "execution_count": null,
   "metadata": {},
   "outputs": [],
   "source": [
    "!pip install pgeocode"
   ]
  },
  {
   "cell_type": "code",
   "execution_count": null,
   "metadata": {},
   "outputs": [],
   "source": [
    "import pgeocode\n",
    "\n",
    "dist = pgeocode.GeoDistance('DE')\n",
    "dist.query_postal_code('10117', '80331')"
   ]
  },
  {
   "attachments": {},
   "cell_type": "markdown",
   "metadata": {},
   "source": [
    "## Working with units with `pint`"
   ]
  },
  {
   "attachments": {},
   "cell_type": "markdown",
   "metadata": {},
   "source": [
    "Have you ever struggled with units in Python?\n",
    "\n",
    "With `pint`, you don’t have to.\n",
    "\n",
    "`pint` is a Python library for easy unit conversion and manipulation.\n",
    "\n",
    "You can handle physical quantities with units, perform conversions, and perform arithmetic with physical quantities.\n",
    "\n",
    "With `pint`, you keep track of your units and ensure accurate results."
   ]
  },
  {
   "cell_type": "code",
   "execution_count": null,
   "metadata": {},
   "outputs": [],
   "source": [
    "!pip install pint"
   ]
  },
  {
   "cell_type": "code",
   "execution_count": null,
   "metadata": {},
   "outputs": [],
   "source": [
    "import pint\n",
    "\n",
    "# Initializing the unit registry\n",
    "ureg = pint.UnitRegistry()\n",
    "\n",
    "# Defining a physical quantity with units\n",
    "distance = 33.0 * ureg.kilometers\n",
    "print(distance)\n",
    "# 33.0 kilometer\n",
    "\n",
    "# Converting between units\n",
    "print(distance.to(ureg.feet))\n",
    "# 108267.71653543308 foot\n",
    "\n",
    "# Performing arithmetic operations\n",
    "speed = 6 * distance / ureg.hour\n",
    "print(speed)\n",
    "# 198.0 kilometer / hour"
   ]
  },
  {
   "attachments": {},
   "cell_type": "markdown",
   "metadata": {},
   "source": [
    "## Supercharge your Python profiling with `Scalene`"
   ]
  },
  {
   "attachments": {},
   "cell_type": "markdown",
   "metadata": {},
   "source": [
    "Want to identify Python performance issues?\n",
    "\n",
    "Try `Scalene`, your Profiler on steroids!\n",
    "\n",
    "`Scalene` is a Python CPU + GPU + Memory profiler to identify bottlenecks.\n",
    "\n",
    "Even with AI-powered optimization proposals!\n",
    "\n",
    "`Scalene` comes with an easy-to-use CLI and web-based GUI."
   ]
  },
  {
   "cell_type": "code",
   "execution_count": null,
   "metadata": {},
   "outputs": [],
   "source": [
    "!pip install scalene"
   ]
  },
  {
   "cell_type": "code",
   "execution_count": null,
   "metadata": {},
   "outputs": [],
   "source": [
    "!scalene <my_module.py>"
   ]
  },
  {
   "attachments": {},
   "cell_type": "markdown",
   "metadata": {},
   "source": [
    "## Fix unicode errors with `ftfy`"
   ]
  },
  {
   "attachments": {},
   "cell_type": "markdown",
   "metadata": {},
   "source": [
    "Have you ever struggled with Unicode errors in your Python code?\n",
    "\n",
    "Try `ftfy`!\n",
    "\n",
    "`ftfy` repairs scrambled text which occurs as a result of encoding or decoding problems. \n",
    "\n",
    "You will probably know it when text in a foreign language can’t appear correctly.\n",
    "\n",
    "In Python you only have to call one method from `ftfy` to fix it."
   ]
  },
  {
   "cell_type": "code",
   "execution_count": null,
   "metadata": {},
   "outputs": [],
   "source": [
    "!pip install ftfy"
   ]
  },
  {
   "cell_type": "code",
   "execution_count": null,
   "metadata": {},
   "outputs": [],
   "source": [
    "import ftfy\n",
    "\n",
    "print(ftfy.fix_text('What does â€œftfyâ€\\x9d mean?'))\n",
    "print(ftfy.fix_text('âœ” Check'))\n",
    "print(ftfy.fix_text('The Mona Lisa doesnÃƒÂ¢Ã¢â€šÂ¬Ã¢â€žÂ¢t have eyebrows.'))"
   ]
  },
  {
   "attachments": {},
   "cell_type": "markdown",
   "metadata": {},
   "source": [
    "## Remove the background from images with `rembg`"
   ]
  },
  {
   "attachments": {},
   "cell_type": "markdown",
   "metadata": {},
   "source": [
    "Do you want to remove the background from images with Python?\n",
    "\n",
    "Use `rembg`.\n",
    "\n",
    "With its pre-trained models, `rembg` makes removing the background of your images easy."
   ]
  },
  {
   "cell_type": "code",
   "execution_count": null,
   "metadata": {},
   "outputs": [],
   "source": [
    "!pip install rembg"
   ]
  },
  {
   "cell_type": "code",
   "execution_count": null,
   "metadata": {},
   "outputs": [],
   "source": [
    "from rembg import remove\n",
    "import cv2\n",
    "\n",
    "input_path = 'car.jpg'\n",
    "output_path = 'car2.jpg'\n",
    "\n",
    "input_file = cv2.imread(input_path)\n",
    "output_file = remove(input_file)\n",
    "cv2.imwrite(output_path, output_file)"
   ]
  },
  {
   "attachments": {},
   "cell_type": "markdown",
   "metadata": {},
   "source": [
    "## Build modern CLI apps with `typer`"
   ]
  },
  {
   "attachments": {},
   "cell_type": "markdown",
   "metadata": {},
   "source": [
    "Tired of building clunky CLI for your Python applications?\n",
    "\n",
    "Try `typer`.\n",
    "\n",
    "`typer` makes it easy to create clean, intuitive CLI apps that are easy to use and maintain.\n",
    "\n",
    "It also comes with auto-generated help messages.\n",
    "\n",
    "Ditch argparse."
   ]
  },
  {
   "cell_type": "code",
   "execution_count": null,
   "metadata": {},
   "outputs": [],
   "source": [
    "!pip install typer"
   ]
  },
  {
   "cell_type": "code",
   "execution_count": null,
   "metadata": {},
   "outputs": [],
   "source": [
    "# hello_script.py\n",
    "import typer\n",
    "\n",
    "app = typer.Typer()\n",
    "\n",
    "@app.command()\n",
    "def hello(name: str):\n",
    "    typer.echo(f\"Hello, {name}!\")\n",
    "    \n",
    "@app.command()\n",
    "def bye(name: str):\n",
    "    typer.echo(f\"Bye, {name}!\")\n",
    "\n",
    "if __name__ == \"__main__\":\n",
    "    app()"
   ]
  },
  {
   "cell_type": "code",
   "execution_count": null,
   "metadata": {},
   "outputs": [],
   "source": [
    "!python hello_script.py hello John"
   ]
  },
  {
   "attachments": {},
   "cell_type": "markdown",
   "metadata": {},
   "source": [
    "## Generate realistic fake data with `faker`"
   ]
  },
  {
   "attachments": {},
   "cell_type": "markdown",
   "metadata": {},
   "source": [
    "Creating realistic test data for your Python projects is annoying.\n",
    "\n",
    "`faker` helps you to do that!\n",
    "\n",
    "With just a few lines of code, you can generate realistic and diverse test data, such as :\n",
    "\n",
    "- Names\n",
    "- Addresses\n",
    "- Phone numbers\n",
    "- Email addresses\n",
    "- Jobs\n",
    "\n",
    "And more!\n",
    "\n",
    "You can even set the local or language for more diverse output."
   ]
  },
  {
   "cell_type": "code",
   "execution_count": null,
   "metadata": {},
   "outputs": [],
   "source": [
    "!pip install faker"
   ]
  },
  {
   "cell_type": "code",
   "execution_count": null,
   "metadata": {},
   "outputs": [],
   "source": [
    "from faker import Faker\n",
    "fake = Faker('fr_FR')\n",
    "print(fake.name())\n",
    "print(fake.job())\n",
    "print(fake.phone_number())"
   ]
  },
  {
   "attachments": {},
   "cell_type": "markdown",
   "metadata": {},
   "source": [
    "## Enrich your progress bars with `rich`"
   ]
  },
  {
   "attachments": {},
   "cell_type": "markdown",
   "metadata": {},
   "source": [
    "Do you want a more colorful output for progress bars?\n",
    "\n",
    "Use `rich`\n",
    "\n",
    "`rich` offers a beautiful progress bar, instead of tqdm’s boring output.\n",
    "\n",
    "With `rich.progress.track`, you can get a colorful output."
   ]
  },
  {
   "cell_type": "code",
   "execution_count": null,
   "metadata": {},
   "outputs": [],
   "source": [
    "!pip install rich"
   ]
  },
  {
   "cell_type": "code",
   "execution_count": null,
   "metadata": {},
   "outputs": [],
   "source": [
    "from rich.progress import track\n",
    "for url in track(range(25000000)):\n",
    "    # Do something\n",
    "    pass"
   ]
  },
  {
   "attachments": {},
   "cell_type": "markdown",
   "metadata": {},
   "source": [
    "## Set the description for TQDM bars"
   ]
  },
  {
   "attachments": {},
   "cell_type": "markdown",
   "metadata": {},
   "source": [
    "When you work with progress bars, you will probably use 𝐭𝐪𝐝𝐦.\n",
    "\n",
    "Do you know you can add descriptions to your bar?\n",
    "\n",
    "You can do that with `set_description()`."
   ]
  },
  {
   "cell_type": "code",
   "execution_count": null,
   "metadata": {},
   "outputs": [],
   "source": [
    "import tqdm\n",
    "import glob\n",
    "\n",
    "files = tqdm.tqdm(glob.glob(\"sample_data/*.csv\"))\n",
    "for file in files:\n",
    "    files.set_description(f\"Read {file}\")"
   ]
  },
  {
   "attachments": {},
   "cell_type": "markdown",
   "metadata": {},
   "source": [
    "## Convert Emojis to Text with `emot`"
   ]
  },
  {
   "attachments": {},
   "cell_type": "markdown",
   "metadata": {},
   "source": [
    "Analyzing emojis and emoticons in texts can give you useful insights.\n",
    "\n",
    "With `emot`, you can convert emoticons into words.\n",
    "\n",
    "Especially useful for sentiment analysis."
   ]
  },
  {
   "cell_type": "code",
   "execution_count": null,
   "metadata": {},
   "outputs": [],
   "source": [
    "!pip install emot"
   ]
  },
  {
   "cell_type": "code",
   "execution_count": null,
   "metadata": {},
   "outputs": [],
   "source": [
    "import emot \n",
    "emot_obj = emot.core.emot()\n",
    "text = \"I love python ☮ 🙂 ❤ :-) :-( :-)))\" \n",
    "emot_obj.emoji(text) "
   ]
  },
  {
   "attachments": {},
   "cell_type": "markdown",
   "metadata": {},
   "source": [
    "## Print hardware information and version numbers"
   ]
  },
  {
   "attachments": {},
   "cell_type": "markdown",
   "metadata": {},
   "source": [
    "When raising an issue, you should provide version numbers and hardware information.\n",
    "\n",
    "With `watermark`, you can do that easily.\n",
    "\n",
    "Just install the package and print."
   ]
  },
  {
   "cell_type": "code",
   "execution_count": null,
   "metadata": {},
   "outputs": [],
   "source": [
    "!pip install watermark"
   ]
  },
  {
   "cell_type": "code",
   "execution_count": null,
   "metadata": {},
   "outputs": [],
   "source": [
    "from watermark import watermark\n",
    "print(watermark())"
   ]
  },
  {
   "attachments": {},
   "cell_type": "markdown",
   "metadata": {},
   "source": [
    "## Cache requests with `requests-cache`"
   ]
  },
  {
   "attachments": {},
   "cell_type": "markdown",
   "metadata": {},
   "source": [
    "Do you want better performance for requests?\n",
    "\n",
    "\n",
    "\n",
    "Use `requests-cache`.\n",
    "\n",
    "\n",
    "\n",
    "It caches HTTP requests so you don’t have to make the same requests again and again.\n",
    "\n",
    "\n",
    "\n",
    "In the example below, a test endpoint with a 1-second delay will be called.\n",
    "\n",
    "\n",
    "\n",
    "With the standard `requests` library, this takes 60 seconds.\n",
    "\n",
    "\n",
    "\n",
    "With `requests-cache`, this takes 1 second."
   ]
  },
  {
   "cell_type": "code",
   "execution_count": null,
   "metadata": {},
   "outputs": [],
   "source": [
    "!pip install requests-cache"
   ]
  },
  {
   "cell_type": "code",
   "execution_count": null,
   "metadata": {},
   "outputs": [],
   "source": [
    "# This takes 60 seconds\n",
    "import requests\n",
    "\n",
    "session = requests.Session()\n",
    "for i in range(60):\n",
    "    session.get('https://httpbin.org/delay/1')\n",
    "    \n",
    "    \n",
    "\n",
    "# This takes 1 second\n",
    "import requests_cache\n",
    "\n",
    "session = requests_cache.CachedSession('test_cache')\n",
    "for i in range(60):\n",
    "    session.get('https://httpbin.org/delay/1')"
   ]
  },
  {
   "attachments": {},
   "cell_type": "markdown",
   "metadata": {},
   "source": [
    "## Unify messy columns with `unifyname`"
   ]
  },
  {
   "attachments": {},
   "cell_type": "markdown",
   "metadata": {},
   "source": [
    "Do you want to unify messy string columns?\n",
    "\n",
    "\n",
    "\n",
    "Try `unifyname`, based on fuzzy string matching.\n",
    "\n",
    "\n",
    "\n",
    "This small library cleans up your messy columns with 100s of different variations for one word."
   ]
  },
  {
   "cell_type": "code",
   "execution_count": null,
   "metadata": {},
   "outputs": [],
   "source": [
    "!pip install unifyname"
   ]
  },
  {
   "cell_type": "code",
   "execution_count": null,
   "metadata": {},
   "outputs": [],
   "source": [
    "import pandas as pd\n",
    "from unifyname.utils import unify_names, deduplicate_list_string\n",
    "\n",
    "data = pd.read_csv(\"\")\n",
    "\n",
    "data[\"BAIRRO DO IMOVEL\"].value_counts()\n",
    "\n",
    "data = unify_names(data,column='BAIRRO DO IMOVEL',threshold_count=500)\n",
    "\n",
    "data[\"BAIRRO DO IMOVEL\"].value_counts()"
   ]
  },
  {
   "attachments": {},
   "cell_type": "markdown",
   "metadata": {},
   "source": [
    "## Check for broken links in a website"
   ]
  },
  {
   "attachments": {},
   "cell_type": "markdown",
   "metadata": {},
   "source": [
    "`𝐥𝐢𝐧𝐤𝐜𝐡𝐞𝐜𝐤𝐞𝐫` is a Python library for recursively going through a website and checking for broken links.\n",
    "\n",
    "You may not have the time to do that manually.\n",
    "\n",
    "And broken links can harm your Search Engine Ranking.\n",
    "\n",
    "See below how easy it can be to set up and use.\n"
   ]
  },
  {
   "cell_type": "code",
   "execution_count": null,
   "metadata": {},
   "outputs": [],
   "source": [
    "!pip install linkchecker"
   ]
  },
  {
   "cell_type": "code",
   "execution_count": null,
   "metadata": {},
   "outputs": [],
   "source": [
    "!linkchecker https://www.example.com"
   ]
  },
  {
   "attachments": {},
   "cell_type": "markdown",
   "metadata": {},
   "source": [
    "## Matplotlib for your Terminal"
   ]
  },
  {
   "attachments": {},
   "cell_type": "markdown",
   "metadata": {},
   "source": [
    "`bashplotlib` is a little library that displays basic ASCII graphs in your terminal.\n",
    "\n",
    "It provides a quick way to visualize your data.\n",
    "\n",
    "Currently, `bashplotlib` only supports histogram and scatter plots."
   ]
  },
  {
   "cell_type": "code",
   "execution_count": null,
   "metadata": {},
   "outputs": [],
   "source": [
    "!pip install bashplotlib"
   ]
  },
  {
   "cell_type": "code",
   "execution_count": null,
   "metadata": {},
   "outputs": [],
   "source": [
    "!hist --file test.txt"
   ]
  },
  {
   "attachments": {},
   "cell_type": "markdown",
   "metadata": {},
   "source": [
    "## Display a Dependency Tree of your Environment"
   ]
  },
  {
   "attachments": {},
   "cell_type": "markdown",
   "metadata": {},
   "source": [
    "Do you want to stop resolving dependency issues?\n",
    "\n",
    "Try `pipdeptree`.\n",
    "\n",
    "`pipdeptree` displays your installed Python packages in the form of a dependency tree.\n",
    "\n",
    "It will also show you warnings when there are possible version conflicts.\n",
    "\n",
    "An alternative to tools like Poetry which resolves dependency issues for you automatically."
   ]
  },
  {
   "cell_type": "code",
   "execution_count": null,
   "metadata": {},
   "outputs": [],
   "source": [
    "!pip install pipdeptree"
   ]
  },
  {
   "cell_type": "code",
   "execution_count": null,
   "metadata": {},
   "outputs": [],
   "source": [
    "!pipdeptree"
   ]
  },
  {
   "attachments": {},
   "cell_type": "markdown",
   "metadata": {},
   "source": [
    "## Sort LaTeX acronyms automatically"
   ]
  },
  {
   "attachments": {},
   "cell_type": "markdown",
   "metadata": {},
   "source": [
    "I wrote a small library (`acrosort-tex`) to sort LaTeX acronyms with one command automatically.\n",
    "\n",
    "It was a fun Sunday project where I really learned how easy it is to publish a package with Poetry.\n",
    "\n",
    "Currently, it only supports acronyms in the following format:\n",
    "\n",
    "\\𝒂𝒄𝒓𝒐{𝒂𝒃𝒃𝒓𝒆𝒗𝒊𝒂𝒕𝒊𝒐𝒏}[𝒔𝒉𝒐𝒓𝒕𝒇𝒐𝒓𝒎]{𝒍𝒐𝒏𝒈𝒇𝒐𝒓𝒎}\n",
    "\n",
    "but it's a beginning :)\n",
    "\n",
    "See below for a small example.\n",
    "\n",
    "Link to the repository: https://lnkd.in/eTF8qs5w"
   ]
  },
  {
   "cell_type": "code",
   "execution_count": null,
   "metadata": {},
   "outputs": [],
   "source": [
    "!pip install acrosort_tex"
   ]
  },
  {
   "cell_type": "code",
   "execution_count": null,
   "metadata": {},
   "outputs": [],
   "source": [
    "!acrosort old.tex new.tex"
   ]
  },
  {
   "attachments": {},
   "cell_type": "markdown",
   "metadata": {},
   "source": [
    "## Make ASCII Art from Text"
   ]
  },
  {
   "attachments": {},
   "cell_type": "markdown",
   "metadata": {},
   "source": [
    "Create ASCII Art From Text in your Terminal\n",
    "\n",
    "With `pyfiglet`, you can generate banner-like text with Python.\n",
    "\n",
    "This is a nice feature to introduce your users to your Python CLI apps."
   ]
  },
  {
   "cell_type": "code",
   "execution_count": null,
   "metadata": {},
   "outputs": [],
   "source": [
    "!pip install pyfiglet"
   ]
  },
  {
   "cell_type": "code",
   "execution_count": null,
   "metadata": {},
   "outputs": [],
   "source": [
    "# Default font\n",
    "ascii_art = pyfiglet.figlet_format('Hello, world!')\n",
    "\n",
    "# Alphabet font\n",
    "ascii_art = pyfiglet.figlet_format('Hello, world!', font='Alphabet')\n",
    "\n",
    "# Bubblehead font\n",
    "ascii_art = pyfiglet.figlet_format('Hello, world!', font='bulbhead')"
   ]
  },
  {
   "attachments": {},
   "cell_type": "markdown",
   "metadata": {},
   "source": [
    "## Display NER with `spacy`"
   ]
  },
  {
   "attachments": {},
   "cell_type": "markdown",
   "metadata": {},
   "source": [
    "If you want to perform and visualize Named-entity Recognition, use `spacy.displacy`.\n",
    "\n",
    "It makes NER and visualizing detected entities super easy.\n",
    "\n",
    "`displacy` has some other cool tools like visualizing dependencies within a sentence or visualizing spans, so check it out."
   ]
  },
  {
   "cell_type": "code",
   "execution_count": null,
   "metadata": {},
   "outputs": [],
   "source": [
    "import spacy\n",
    "from spacy import displacy\n",
    "\n",
    "text = \"Chelsea Football Club is an English professional football club based in Fulham, West London.\\\n",
    "        Founded in 1905, they play their home games at Stamford Bridge. \\\n",
    "        The club competes in the Premier League, the top division of English football. \\\n",
    "        They won their first major honour, the League championship, in 1955.\"\n",
    "\n",
    "nlp = spacy.load(\"en_core_web_sm\")\n",
    "doc = nlp(text)\n",
    "displacy.render(doc, style=\"ent\", jupyter=True)"
   ]
  },
  {
   "attachments": {},
   "cell_type": "markdown",
   "metadata": {},
   "source": [
    "## Create TikZ pictures with Python"
   ]
  },
  {
   "attachments": {},
   "cell_type": "markdown",
   "metadata": {},
   "source": [
    "If you have ever written a paper in LaTeX, you probably used TikZ for your graphics.\n",
    "\n",
    "TikZ is probably the most powerful tool to create graphic elements.\n",
    "\n",
    "And notoriously hard to learn.\n",
    "\n",
    "No need to worry, you can create TikZ-figures in Python too.\n",
    "\n",
    "With `tikzplotlib`, you can convert matplotlib figures into TikZ.\n",
    "\n",
    "You can then insert the resulting plot in your LaTeX file.\n",
    "\n",
    "Really useful when you don’t want the hassle with TikZ."
   ]
  },
  {
   "cell_type": "code",
   "execution_count": null,
   "metadata": {},
   "outputs": [],
   "source": [
    "!pip install tikzplotlib"
   ]
  },
  {
   "cell_type": "code",
   "execution_count": null,
   "metadata": {},
   "outputs": [],
   "source": [
    "import tikzplotlib\n",
    "import matplotlib.pyplot as plt\n",
    "import numpy as np\n",
    "\n",
    "plt.style.use(\"ggplot\")\n",
    "\n",
    "t = np.arange(0.0, 2.0, 0.1)\n",
    "s = np.sin(2 * np.pi * t)\n",
    "s2 = np.cos(2 * np.pi * t)\n",
    "plt.plot(t, s, \"o-\", lw=4.1)\n",
    "plt.plot(t, s2, \"o-\", lw=4.1)\n",
    "plt.xlabel(\"time (s)\")\n",
    "plt.ylabel(\"Voltage (mV)\")\n",
    "plt.title(\"Simple plot $\\\\frac{\\\\alpha}{2}$\")\n",
    "plt.grid(True)\n",
    "\n",
    "tikzplotlib.save(\"mytikz.tex\")"
   ]
  },
  {
   "attachments": {},
   "cell_type": "markdown",
   "metadata": {},
   "source": [
    "## Human-readable RegEx with `PRegEx`"
   ]
  },
  {
   "attachments": {},
   "cell_type": "markdown",
   "metadata": {},
   "source": [
    "RegEx is notoriously nasty to read and write.\n",
    "\n",
    "For a human-readable alternative, try `PRegEx`.\n",
    "\n",
    "`PRegEx` is a Python library aiming to have an easy-to-remember syntax to write RegEx patterns.\n",
    "\n",
    "It offers a way to easily break down a complex pattern into multiple simpler ones that can then be combined. \n",
    "\n",
    "See below how we can write a pattern that matches any URL that ends with either “.com” or “.org” as well as any IP address for which a 4-digit port number is specified."
   ]
  },
  {
   "cell_type": "code",
   "execution_count": null,
   "metadata": {},
   "outputs": [],
   "source": [
    "from pregex.core.classes import AnyLetter, AnyDigit, AnyFrom\n",
    "from pregex.core.quantifiers import Optional, AtLeastAtMost\n",
    "from pregex.core.operators import Either\n",
    "from pregex.core.groups import Capture\n",
    "from pregex.core.pre import Pregex\n",
    "\n",
    "http_protocol = Optional('http' + Optional('s') + '://')\n",
    "\n",
    "www = Optional('www.')\n",
    "\n",
    "alphanum = AnyLetter() | AnyDigit()\n",
    "\n",
    "domain_name = \\\n",
    "  alphanum + \\\n",
    "  AtLeastAtMost(alphanum | AnyFrom('-', '.'), n=1, m=61) + \\\n",
    "  alphanum\n",
    "\n",
    "tld = '.' + Either('com', 'org')\n",
    "\n",
    "ip_octet = AnyDigit().at_least_at_most(n=1, m=3)\n",
    "\n",
    "port_number = (AnyDigit() - '0') + 3 * AnyDigit()\n",
    "\n",
    "# Combine sub-patterns together.\n",
    "pre: Pregex = \\\n",
    "    http_protocol + \\\n",
    "    Either(\n",
    "        www + Capture(domain_name) + tld,\n",
    "        3 * (ip_octet + '.') + ip_octet + ':' + port_number\n",
    "    )"
   ]
  }
 ],
 "metadata": {
  "kernelspec": {
   "display_name": "venv",
   "language": "python",
   "name": "python3"
  },
  "language_info": {
   "name": "python",
   "version": "3.8.10 (tags/v3.8.10:3d8993a, May  3 2021, 11:48:03) [MSC v.1928 64 bit (AMD64)]"
  },
  "vscode": {
   "interpreter": {
    "hash": "54bf0f8d5625db32e314b5bdaf50a44046044c99ae376da8e1ac5bc25f06b01d"
   }
  }
 },
 "nbformat": 4,
 "nbformat_minor": 2
}