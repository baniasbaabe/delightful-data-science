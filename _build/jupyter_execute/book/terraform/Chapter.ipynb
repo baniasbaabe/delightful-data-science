{
 "cells": [
  {
   "cell_type": "markdown",
   "metadata": {},
   "source": [
    "# Terraform"
   ]
  },
  {
   "cell_type": "markdown",
   "metadata": {
    "vscode": {
     "languageId": "powershell"
    }
   },
   "source": [
    "## Static Code Analyzer with `TFLint`"
   ]
  },
  {
   "cell_type": "markdown",
   "metadata": {
    "vscode": {
     "languageId": "plaintext"
    }
   },
   "source": [
    "As your Terraform codebase grows, it's more prone to errors.\n",
    "\n",
    "And they can become nasty.\n",
    "\n",
    "To analyze your files, use `TFLint`.\n",
    "\n",
    "`TFLint` is a linting tool to check for common smells and issues before you even run your code.\n",
    "\n",
    "You can even define custom rules to tailor it to your team's standards."
   ]
  },
  {
   "cell_type": "code",
   "execution_count": null,
   "metadata": {
    "vscode": {
     "languageId": "powershell"
    }
   },
   "outputs": [],
   "source": [
    "tflint\n",
    "\n",
    "Error: \"type_abc\" is an invalid value as instance_type (aws_instance_invalid_type)\n",
    "\n",
    "  on main.tf line 15:\n",
    "   15: instance_type = \"invalid_type\"\n",
    "When you run TFLint again, you’ll receive an error message indicating that the\n",
    "instance_type value is invalid. TFLint identifies this issue without applying the Terraform configuration,\n",
    "helping you catch errors early in your development workflow."
   ]
  },
  {
   "cell_type": "markdown",
   "metadata": {
    "vscode": {
     "languageId": "powershell"
    }
   },
   "source": [
    "## Check for Security Risks with `Tfsec`"
   ]
  },
  {
   "cell_type": "markdown",
   "metadata": {
    "vscode": {
     "languageId": "powershell"
    }
   },
   "source": [
    "To check your Terraform files for common security issues, use `Tfsec`.\n",
    "\n",
    "`TFsec` is a static code analyzer to detect security risks, with hundreds of built-in rules.\n",
    "\n",
    "It's easy to set-up and run. Perfect for CI pipelines too."
   ]
  },
  {
   "cell_type": "code",
   "execution_count": null,
   "metadata": {
    "vscode": {
     "languageId": "powershell"
    }
   },
   "outputs": [],
   "source": [
    "brew install tfsec\n",
    "tfsec .\n",
    "\n",
    "Result #1 CRITICAL Storage account uses an insecure TLS version.\n",
    "────────────────────────────────────────────────────────────────────────────────────────────────────────────────────────\n",
    "  deployment/modules/storage_account/main.tf:1-8\n",
    "   via deployment/main.tf:23-28 (module.storage_account)\n",
    "────────────────────────────────────────────────────────────────────────────────────────────────────────────────────────\n",
    "    1    resource \"azurerm_storage_account\" \"storage_account\" {\n",
    "    2      name                     = var.account_name\n",
    "    3      resource_group_name      = var.resource_group_name\n",
    "    4      location                 = var.location\n",
    "    5      account_kind             = \"Storage\"\n",
    "    6      account_tier             = \"Standard\"\n",
    "    7      account_replication_type = \"LRS\"\n",
    "    8    }"
   ]
  },
  {
   "cell_type": "markdown",
   "metadata": {
    "vscode": {
     "languageId": "powershell"
    }
   },
   "source": [
    "## Generate Least Privileges with `Pike`"
   ]
  },
  {
   "cell_type": "markdown",
   "metadata": {
    "vscode": {
     "languageId": "powershell"
    }
   },
   "source": [
    "When managing your infrastructure, follow the Principle of Least Privilege (PoLP).\n",
    "\n",
    "PoLP says that a user should only have the minimum level of access required for a particular resource to function correctly.\n",
    "\n",
    "For your infrastructure managed by Terraform, you can use 𝐏𝐢𝐤𝐞.\n",
    "\n",
    "𝐏𝐢𝐤𝐞 is a tool that determines the minimum permissions required to run your Terraform code with one command.\n",
    "\n",
    "It supports the big cloud providers (Azure, AWS, GCP).\n",
    "\n",
    "Check it out: github(dot)com/JamesWoolfenden/pike"
   ]
  },
  {
   "cell_type": "code",
   "execution_count": null,
   "metadata": {
    "vscode": {
     "languageId": "powershell"
    }
   },
   "outputs": [],
   "source": [
    "!brew tap jameswoolfenden/homebrew-tap\n",
    "!brew install jameswoolfenden/tap/pike"
   ]
  },
  {
   "cell_type": "code",
   "execution_count": null,
   "metadata": {
    "vscode": {
     "languageId": "powershell"
    }
   },
   "outputs": [],
   "source": [
    "pike scan -d .\\terraform\\\n",
    "{\n",
    "    \"Version\": \"2012-10-17\",\n",
    "    \"Statement\": {\n",
    "        \"Effect\": \"Allow\",\n",
    "        \"Action\": [\n",
    "            \"ec2:MonitorInstances\",\n",
    "            \"ec2:UnmonitorInstances\",\n",
    "            \"ec2:DescribeInstances\",\n",
    "            \"ec2:DescribeTags\",\n",
    "            \"ec2:DescribeInstanceAttribute\",\n",
    "            \"ec2:DescribeVolumes\",\n",
    "            \"ec2:DescribeInstanceTypes\",\n",
    "            \"ec2:RunInstances\",\n",
    "            \"ec2:DescribeInstanceCreditSpecifications\",\n",
    "            \"ec2:StopInstances\",\n",
    "            \"ec2:StartInstances\",\n",
    "            \"ec2:ModifyInstanceAttribute\",\n",
    "            \"ec2:TerminateInstances\",\n",
    "            \"ec2:AuthorizeSecurityGroupIngress\",\n",
    "            \"ec2:AuthorizeSecurityGroupEgress\",\n",
    "            \"ec2:CreateSecurityGroup\",\n",
    "            \"ec2:DescribeSecurityGroups\",\n",
    "            \"ec2:DescribeAccountAttributes\",\n",
    "            \"ec2:DescribeNetworkInterfaces\",\n",
    "            \"ec2:DeleteSecurityGroup\",\n",
    "            \"ec2:RevokeSecurityGroupEgress\"\n",
    "        ],\n",
    "        \"Resource\": \"*\"\n",
    "    }\n",
    "}"
   ]
  },
  {
   "cell_type": "markdown",
   "metadata": {
    "vscode": {
     "languageId": "powershell"
    }
   },
   "source": [
    "## Static Code Analysis Tool for IaC with `checkov`"
   ]
  },
  {
   "cell_type": "markdown",
   "metadata": {},
   "source": [
    "Catch security problems in your Terraform code before they reach production.\n",
    "\n",
    "This is easy to do with 𝗰𝗵𝗲𝗰𝗸𝗼𝘃.\n",
    "\n",
    "𝗰𝗵𝗲𝗰𝗸𝗼𝘃 is a static code analysis tool for IaC with over 1000 policies.\n",
    "\n",
    "As a CLI tool it is perfect for CI/CD pipelines."
   ]
  },
  {
   "cell_type": "code",
   "execution_count": null,
   "metadata": {
    "vscode": {
     "languageId": "powershell"
    }
   },
   "outputs": [],
   "source": [
    "!pip install checkov\n",
    "!checkov --directory /user/path/to/iac/code\n",
    "\n",
    "# check: CKV_AWS_21: \"Ensure all data stored in the S3 bucket have versioning enabled\"\n",
    "#   FAILED for resource: aws_s3_bucket.customer\n",
    "#   File: /tf/tf.json:0-0\n",
    "#   Guide: https://docs.prismacloud.io/en/enterprise-edition/policy-reference/aws-policies/s3-policies/s3-16-enable-versioning"
   ]
  }
 ],
 "metadata": {
  "language_info": {
   "name": "python"
  }
 },
 "nbformat": 4,
 "nbformat_minor": 2
}