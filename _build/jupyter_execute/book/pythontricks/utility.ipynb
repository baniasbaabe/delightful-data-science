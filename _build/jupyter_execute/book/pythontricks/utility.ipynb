{
 "cells": [
  {
   "cell_type": "markdown",
   "metadata": {},
   "source": [
    "# Utility Libraries for Python"
   ]
  },
  {
   "cell_type": "markdown",
   "metadata": {},
   "source": [
    "## Speed up For-Loop with joblib.Parallel"
   ]
  },
  {
   "attachments": {},
   "cell_type": "markdown",
   "metadata": {},
   "source": [
    "Don't use plain for loops in Python.\n",
    "\n",
    "`Joblib` provides a `Parallel` class to write parallel for loops using multiprocessing.\n",
    "\n",
    "Below you can see an example of how to use it with all of your processors to speed up your calculations."
   ]
  },
  {
   "cell_type": "code",
   "execution_count": null,
   "metadata": {},
   "outputs": [],
   "source": [
    "from joblib import Parallel, delayed\n",
    "\n",
    "def process_image(path):\n",
    "   ...\n",
    "    return image\n",
    "  \n",
    " image_paths = [\"path1.jpg\", \"path2.jpg\"]\n",
    "\n",
    "result = Parallel(n_jobs = -1, backend = \"multiprocessing\")(\n",
    "  delayed(process_image)(path) for path in image_paths\n",
    ")"
   ]
  },
  {
   "cell_type": "markdown",
   "metadata": {},
   "source": [
    "## Work with datetimes easily with pendulum"
   ]
  },
  {
   "attachments": {},
   "cell_type": "markdown",
   "metadata": {},
   "source": [
    "Tired of the difficulties of working with dates and times in Python?\n",
    "\n",
    "Try `pendulum`!\n",
    "\n",
    "`pendulum` takes the built-in `datetime` library from Python to the next level with its intuitive and human-friendly way of handling dates and times.\n",
    "\n",
    "This includes easy timezone manipulation, daylight saving time calculations, and more!"
   ]
  },
  {
   "cell_type": "code",
   "execution_count": null,
   "metadata": {},
   "outputs": [],
   "source": [
    "#!pip install pendulum\n",
    "import pendulum\n",
    "\n",
    "dt = pendulum.now()\n",
    "print(dt.to_iso8601_string())\n",
    "# Output: 2023-02-08T13:44:23.798316+01:00\n",
    "\n",
    "now_in_london = pendulum.now('Europe/London')\n",
    "print(now_in_london)\n",
    "# Output: 2023-02-08T12:44:23.799317+00:00\n",
    "\n",
    "past = pendulum.now().subtract(minutes=8)\n",
    "print(past.diff_for_humans())\n",
    "# Output: 8 minutes ago\n",
    "\n",
    "delta = past - pendulum.now().subtract(weeks=1)\n",
    "print(delta.in_words())\n",
    "# Output: 6 days 23 hours 51 minutes 59 seconds"
   ]
  },
  {
   "attachments": {},
   "cell_type": "markdown",
   "metadata": {},
   "source": [
    "## Prettify your Data Structures with `pprint`"
   ]
  },
  {
   "cell_type": "markdown",
   "metadata": {},
   "source": [
    "Using `print()` on your data structures can give you ugly outputs.\n",
    "\n",
    "With `pprint`, you can print data structures in a pretty way\n",
    "\n",
    "Don’t use plain `print()` for printing data structures anymore."
   ]
  }
 ],
 "metadata": {
  "language_info": {
   "name": "python"
  }
 },
 "nbformat": 4,
 "nbformat_minor": 2
}