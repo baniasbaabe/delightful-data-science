{
 "cells": [
  {
   "attachments": {},
   "cell_type": "markdown",
   "metadata": {},
   "source": [
    "# Other Topics"
   ]
  },
  {
   "attachments": {},
   "cell_type": "markdown",
   "metadata": {},
   "source": [
    "## Must-Have VSCode Extensions for Python"
   ]
  },
  {
   "attachments": {},
   "cell_type": "markdown",
   "metadata": {},
   "source": [
    "Add these 8 must-have VSCode extensions when you work with Python to boost your productivity.\n",
    "\n",
    "1. 𝐏𝐲𝐭𝐡𝐨𝐧 𝐈𝐧𝐝𝐞𝐧𝐭: Makes sure your indentation is correct with every Enter you make\n",
    "\n",
    "2. 𝐏𝐲𝐥𝐚𝐧𝐜𝐞: A no-brainer. Includes many benefits like Parameter suggestions, Code navigation, Signature help, and many more. Microsoft declared it as the default language server for Python.\n",
    "\n",
    "3. 𝐆𝐢𝐭𝐋𝐞𝐧𝐬: Provides powerful features for your Git experience like seeing when a specific line was committed by whom in which pull request with which commit message. And much more. A must-have!\n",
    "\n",
    "4. 𝐉𝐮𝐩𝐲𝐭𝐞𝐫: Notebook supports and allows any Python environment to be used as a Jupyter kernel.\n",
    "\n",
    "5. 𝐀𝐑𝐄𝐏𝐋 𝐟𝐨𝐫 𝐏𝐲𝐭𝐡𝐨𝐧: Automatically evaluates Python code in real time as you type. Displays variables and errors in a readable way. Only works for Python >= 3.7.\n",
    "\n",
    "6. 𝐏𝐲𝐭𝐡𝐨𝐧 𝐏𝐚𝐭𝐡: Helps you generate internal import statements in a Python project.\n",
    "\n",
    "7. 𝐏𝐲𝐭𝐡𝐨𝐧 𝐓𝐞𝐬𝐭 𝐄𝐱𝐩𝐥𝐨𝐫𝐞𝐫: Shows a test explorer without effort instead of going through the output from the terminal.\n",
    "\n",
    "8. 𝐚𝐮𝐭𝐨𝐃𝐨𝐜𝐬𝐭𝐫𝐢𝐧𝐠: Quickly generate docstrings for your functions"
   ]
  }
 ],
 "metadata": {
  "language_info": {
   "name": "python"
  }
 },
 "nbformat": 4,
 "nbformat_minor": 2
}