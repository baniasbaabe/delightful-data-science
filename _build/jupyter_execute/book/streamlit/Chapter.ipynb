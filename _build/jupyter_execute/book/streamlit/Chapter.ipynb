{
 "cells": [
  {
   "cell_type": "markdown",
   "metadata": {},
   "source": [
    "# Streamlit Tips and Tricks"
   ]
  },
  {
   "attachments": {},
   "cell_type": "markdown",
   "metadata": {},
   "source": [
    "## Embed pandas-profiling into Streamlit"
   ]
  },
  {
   "attachments": {},
   "cell_type": "markdown",
   "metadata": {},
   "source": [
    "Do you want to use pandas-profiling within your Streamlit app?\n",
    "\n",
    "`pandas-profiling` is a popular library for one-line EDA of your data frames.\n",
    "\n",
    "But what, if you want to embed your report into your streamlit app?\n",
    "\n",
    "Use `streamlit-pandas-profiling`.\n",
    "\n",
    "`streamlit-pandas-profiling` is a `pandas-profiling` component for streamlit where you can embed the generated reports into your Streamlit app.\n",
    "\n",
    "With one line of code."
   ]
  },
  {
   "cell_type": "code",
   "execution_count": null,
   "metadata": {},
   "outputs": [],
   "source": [
    "!pip install streamlit-pandas-profiling"
   ]
  },
  {
   "cell_type": "code",
   "execution_count": null,
   "metadata": {},
   "outputs": [],
   "source": [
    "import pandas as pd\n",
    "import pandas_profiling\n",
    "import streamlit as st\n",
    "\n",
    "from streamlit_pandas_profiling import st_profile_report\n",
    "\n",
    "df = pd.read_csv(<path>)\n",
    "report = df.profile_report()\n",
    "\n",
    "st_profile_report(report)"
   ]
  }
 ],
 "metadata": {
  "language_info": {
   "name": "python"
  }
 },
 "nbformat": 4,
 "nbformat_minor": 2
}