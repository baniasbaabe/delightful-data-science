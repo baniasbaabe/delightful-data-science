{
 "cells": [
  {
   "attachments": {},
   "cell_type": "markdown",
   "metadata": {},
   "source": [
    "# Documentation"
   ]
  },
  {
   "attachments": {},
   "cell_type": "markdown",
   "metadata": {},
   "source": [
    "## Auto-generate Documentation for your API"
   ]
  },
  {
   "attachments": {},
   "cell_type": "markdown",
   "metadata": {},
   "source": [
    "If you want to Auto-generate Documentation for your API\n",
    "\n",
    "Try `pdoc`.\n",
    "\n",
    "`pdoc` is a simple library to create a cool documentation page that follows your project’s Python module hierarchy.\n",
    "\n",
    "No need for difficult configuration, it runs without configuring 100 things.\n",
    "\n",
    "A cool alternative to Sphinx."
   ]
  },
  {
   "cell_type": "code",
   "execution_count": null,
   "metadata": {},
   "outputs": [],
   "source": [
    "!pip install pdoc"
   ]
  },
  {
   "cell_type": "code",
   "execution_count": null,
   "metadata": {},
   "outputs": [],
   "source": [
    "!pdoc preprocessing.py"
   ]
  },
  {
   "cell_type": "markdown",
   "metadata": {},
   "source": [
    "## Generate Beautiful Documentation with `mkdocs-material`"
   ]
  },
  {
   "cell_type": "markdown",
   "metadata": {},
   "source": [
    "Do you want to create sleek and professional documentation?\n",
    "\n",
    "Then try out **mkdocs-material**.\n",
    "\n",
    "**mkdocs-material** is a tool which lets you create awesome documentation with Markdown easily.\n",
    "\n",
    "It supports a built-in search feature, code annotations and nice-looking Social Cards when sharing your documentation link."
   ]
  },
  {
   "cell_type": "code",
   "execution_count": null,
   "metadata": {},
   "outputs": [],
   "source": [
    "!pip install mkdocs-material\n",
    "!mkdocs new .\n",
    "!mkdocs serve"
   ]
  }
 ],
 "metadata": {
  "language_info": {
   "name": "python"
  },
  "orig_nbformat": 4
 },
 "nbformat": 4,
 "nbformat_minor": 2
}
