{
 "cells": [
  {
   "cell_type": "markdown",
   "metadata": {},
   "source": [
    "# Polars Tips & Tricks"
   ]
  },
  {
   "cell_type": "markdown",
   "metadata": {},
   "source": [
    "## Plugin for Data Science Functions"
   ]
  },
  {
   "cell_type": "markdown",
   "metadata": {},
   "source": [
    "Polars gains increasing popularity.\n",
    "\n",
    "\n",
    "\n",
    "If you already ditched pandas for it, you don’t have to rewrite all of your functions in Polars again.\n",
    "\n",
    "\n",
    "\n",
    "`polars-ds`, a community plugin, has reimplemented common functions for Data Scientists like:\n",
    "\n",
    "\n",
    "\n",
    "- Statistical tests (t-test, …),\n",
    "\n",
    "- String similarities (Levenshtein, …)\n",
    "\n",
    "- Loss Functions and metrics (ROC, R2, L1, Huber, …)"
   ]
  },
  {
   "cell_type": "code",
   "execution_count": null,
   "metadata": {},
   "outputs": [],
   "source": [
    "!pip install polars_ds"
   ]
  },
  {
   "cell_type": "code",
   "execution_count": null,
   "metadata": {},
   "outputs": [],
   "source": [
    "import polars_ds\n",
    "import polars as pl\n",
    "\n",
    "df = pl.DataFrame(...)\n",
    "\n",
    "# Calculate Loss and Metrics\n",
    "df.group_by(\"dummy_groups\").agg(\n",
    "    pl.col(\"actual\").num_ext.l2_loss(pl.col(\"predicted\")).alias(\"l2\"),\n",
    "    pl.col(\"actual\").num_ext.bce(pl.col(\"predicted\")).alias(\"log loss\"),\n",
    "    pl.col(\"actual\").num_ext.binary_metrics_combo(pl.col(\"predicted\")).alias(\"combo\")\n",
    ").unnest(\"combo\")"
   ]
  },
  {
   "cell_type": "markdown",
   "metadata": {},
   "source": [
    "## Plugin for Fitting Linear Models"
   ]
  },
  {
   "cell_type": "markdown",
   "metadata": {},
   "source": [
    "In Polars, you can fit linear models with the `polars-ols` extension.\n",
    "\n",
    "You can use ordinary, weighted or regularized least squares like Lasso or Elastic Net.\n",
    "\n",
    "It can be 2x-88x times faster than popular libraries like sklearn or statsmodels."
   ]
  },
  {
   "cell_type": "code",
   "execution_count": null,
   "metadata": {},
   "outputs": [],
   "source": [
    "!pip install polars-ols"
   ]
  },
  {
   "cell_type": "code",
   "execution_count": null,
   "metadata": {},
   "outputs": [],
   "source": [
    "import polars as pl\n",
    "import polars_ols as pls\n",
    "\n",
    "lasso_expr = pl.col(\"y\").least_squares.lasso(\"x1\", \"x2\", alpha=0.0001, add_intercept=True).over(\"group\")\n",
    "\n",
    "predictions = df.with_columns(lasso_expr.round(2).alias(\"predictions_lasso\"))"
   ]
  }
 ],
 "metadata": {
  "language_info": {
   "name": "python"
  }
 },
 "nbformat": 4,
 "nbformat_minor": 2
}
