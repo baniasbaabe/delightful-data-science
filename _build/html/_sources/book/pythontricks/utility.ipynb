{
 "cells": [
  {
   "attachments": {},
   "cell_type": "markdown",
   "metadata": {},
   "source": [
    "# Utilities for Python"
   ]
  },
  {
   "attachments": {},
   "cell_type": "markdown",
   "metadata": {},
   "source": [
    "## Speed up For-Loop with joblib.Parallel"
   ]
  },
  {
   "attachments": {},
   "cell_type": "markdown",
   "metadata": {},
   "source": [
    "Don't use plain for loops in Python.\n",
    "\n",
    "`Joblib` provides a `Parallel` class to write parallel for loops using multiprocessing.\n",
    "\n",
    "Below you can see an example of how to use it with all of your processors to speed up your calculations."
   ]
  },
  {
   "cell_type": "code",
   "execution_count": null,
   "metadata": {},
   "outputs": [],
   "source": [
    "from joblib import Parallel, delayed\n",
    "\n",
    "def process_image(path):\n",
    "   ...\n",
    "    return image\n",
    "  \n",
    " image_paths = [\"path1.jpg\", \"path2.jpg\"]\n",
    "\n",
    "result = Parallel(n_jobs = -1, backend = \"multiprocessing\")(\n",
    "  delayed(process_image)(path) for path in image_paths\n",
    ")"
   ]
  },
  {
   "attachments": {},
   "cell_type": "markdown",
   "metadata": {},
   "source": [
    "## Work with datetimes easily with pendulum"
   ]
  },
  {
   "attachments": {},
   "cell_type": "markdown",
   "metadata": {},
   "source": [
    "Tired of the difficulties of working with dates and times in Python?\n",
    "\n",
    "Try `pendulum`!\n",
    "\n",
    "`pendulum` takes the built-in `datetime` library from Python to the next level with its intuitive and human-friendly way of handling dates and times.\n",
    "\n",
    "This includes easy timezone manipulation, daylight saving time calculations, and more!"
   ]
  },
  {
   "cell_type": "code",
   "execution_count": null,
   "metadata": {},
   "outputs": [],
   "source": [
    "#!pip install pendulum\n",
    "import pendulum\n",
    "\n",
    "dt = pendulum.now()\n",
    "print(dt.to_iso8601_string())\n",
    "# Output: 2023-02-08T13:44:23.798316+01:00\n",
    "\n",
    "now_in_london = pendulum.now('Europe/London')\n",
    "print(now_in_london)\n",
    "# Output: 2023-02-08T12:44:23.799317+00:00\n",
    "\n",
    "past = pendulum.now().subtract(minutes=8)\n",
    "print(past.diff_for_humans())\n",
    "# Output: 8 minutes ago\n",
    "\n",
    "delta = past - pendulum.now().subtract(weeks=1)\n",
    "print(delta.in_words())\n",
    "# Output: 6 days 23 hours 51 minutes 59 seconds"
   ]
  },
  {
   "attachments": {},
   "cell_type": "markdown",
   "metadata": {},
   "source": [
    "## Prettify your Data Structures with `pprint`"
   ]
  },
  {
   "attachments": {},
   "cell_type": "markdown",
   "metadata": {},
   "source": [
    "Using `print()` on your data structures can give you ugly outputs.\n",
    "\n",
    "With `pprint`, you can print data structures in a pretty way\n",
    "\n",
    "Don’t use plain `print()` for printing data structures anymore."
   ]
  },
  {
   "cell_type": "code",
   "execution_count": null,
   "metadata": {},
   "outputs": [],
   "source": [
    "from pprint import pprint\n",
    "\n",
    "data = [ (i, { 'a':'A',\n",
    "               'b':'B',\n",
    "               'c':'C',\n",
    "               'd':'D',\n",
    "               'e':'E',\n",
    "               'f':'F',\n",
    "               'g':'G',\n",
    "               'h':'H',\n",
    "               })\n",
    "         for i in range(2)\n",
    "         ]\n",
    "         \n",
    "pprint(data)"
   ]
  },
  {
   "attachments": {},
   "cell_type": "markdown",
   "metadata": {},
   "source": [
    "## Easy Logging with `loguru`"
   ]
  },
  {
   "attachments": {},
   "cell_type": "markdown",
   "metadata": {},
   "source": [
    "Are you too lazy for logging?\n",
    "\n",
    "`loguru` makes logging in Python easy.\n",
    "\n",
    "It comes with pre-built formats and colors so you don’t have to set them manually.\n",
    "\n",
    "A more elegant alternative to Python's standard logging module."
   ]
  },
  {
   "cell_type": "code",
   "execution_count": null,
   "metadata": {},
   "outputs": [],
   "source": [
    "from loguru import logger\n",
    "\n",
    "def main():\n",
    "    logger.debug(\"DEBUG message\")\n",
    "    logger.info(\"INFO message\")\n",
    "    logger.warning(\"WARNING message\")\n",
    "    logger.error(\"ERROR message\")\n",
    "    logger.critical(\"CRITICAL message\")\n",
    "\n",
    "\n",
    "if __name__ == '__main__':\n",
    "    main()"
   ]
  },
  {
   "attachments": {},
   "cell_type": "markdown",
   "metadata": {},
   "source": [
    "## Generate Truly Random Numbers"
   ]
  },
  {
   "attachments": {},
   "cell_type": "markdown",
   "metadata": {},
   "source": [
    "How to generate `truly` random numbers?\n",
    "\n",
    "One problem with random number generators in your favourite programming language is:\n",
    "\n",
    "They are `pseudo-random`.\n",
    "\n",
    "That means they are generated using a deterministic algorithm.\n",
    "\n",
    "If you want to generate truly random numbers,\n",
    "\n",
    "You have to make an API request to `random(dot)org`.\n",
    "\n",
    "They create random numbers based on atmospheric noise.\n",
    "\n",
    "See below how you can use it with Python.\n",
    "\n",
    "What do the Query Parameters mean?\n",
    "\n",
    "- `num=1`: Specifies that only one integer should be generated.\n",
    "- `min=1`: Specifies that the minimum value for the generated integer should be 1.\n",
    "- `max=1000`: Specifies that the maximum value for the generated integer should be 1000.\n",
    "- `col=1`: Specifies that the output should be in a single column. Only useful for displaying purposes when you are generating more than one number.\n",
    "- `base=10`: Specifies that the generated integers should be in base 10 (decimal).\n",
    "- `format=plain`: Specifies that the output should be in plain text format.\n",
    "- `rnd=new`: Specifies that a new random sequence should be used for each request."
   ]
  },
  {
   "cell_type": "code",
   "execution_count": null,
   "metadata": {},
   "outputs": [],
   "source": [
    "import requests\n",
    "\n",
    "url = \"https://www.random.org/integers/?num=1&min=1&max=1000&col=1&base=10&format=plain&rnd=new\"\n",
    "\n",
    "response = requests.get(url)\n",
    "print(response.text)"
   ]
  },
  {
   "cell_type": "markdown",
   "metadata": {},
   "source": [
    "## Powerful Dictionaries with `python-benedict`"
   ]
  },
  {
   "cell_type": "markdown",
   "metadata": {},
   "source": [
    "`python-benedict` is a library for dictionaries on steroids.\n",
    "\n",
    "You can access values of your nested dictionary with a neat syntax, perform searching and GroupBy, and much more.\n",
    "\n",
    "Of course, Pandas offers similar functionalities, but takes also much memory when installing. But 𝐩𝐲𝐭𝐡𝐨𝐧-𝐛𝐞𝐧𝐞𝐝𝐢𝐜𝐭 is more suitable for more unstructured data."
   ]
  },
  {
   "cell_type": "code",
   "execution_count": null,
   "metadata": {},
   "outputs": [],
   "source": [
    "!pip install python-benedict"
   ]
  },
  {
   "cell_type": "code",
   "execution_count": null,
   "metadata": {},
   "outputs": [],
   "source": [
    "from benedict import benedict\n",
    "\n",
    "my_dict = benedict({\n",
    "    'person': {\n",
    "        'name': 'John',\n",
    "        'age': 25,\n",
    "        'address': {\n",
    "            'street': '123 Main St',\n",
    "            'city': 'New York',\n",
    "            'country': 'USA'\n",
    "        }\n",
    "    }\n",
    "})\n",
    "\n",
    "my_dict.get(\"person.address.street\")\n",
    "\n",
    "my_dict.flatten()"
   ]
  }
 ],
 "metadata": {
  "language_info": {
   "name": "python"
  },
  "orig_nbformat": 4
 },
 "nbformat": 4,
 "nbformat_minor": 2
}
