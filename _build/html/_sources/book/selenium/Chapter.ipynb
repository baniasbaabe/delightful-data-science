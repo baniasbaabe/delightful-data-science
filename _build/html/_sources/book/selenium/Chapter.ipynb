{
 "cells": [
  {
   "cell_type": "markdown",
   "metadata": {},
   "source": [
    "# Selenium Tips and Tricks"
   ]
  },
  {
   "attachments": {},
   "cell_type": "markdown",
   "metadata": {},
   "source": [
    "## Manage your Webdrivers with webdriver-manager"
   ]
  },
  {
   "cell_type": "markdown",
   "metadata": {},
   "source": [
    "When using `Selenium` with Python, you probably did the following:\n",
    "\n",
    "- Download Chromedriver Binary\n",
    "- Unzip it\n",
    "- Set the path to the driver\n",
    "\n",
    "This is annoying.\n",
    "\n",
    "- The Path can be changed\n",
    "- You have to somehow manage those browser drivers for each OS\n",
    "- Check if new updates for drivers are released\n",
    "\n",
    "Instead of doing this manually, use `webdriver-manager`.\n",
    "\n",
    "It makes managing binaries for different browsers easy.\n",
    "\n",
    "`webdriver-manager` downloads binaries automatically for you.\n",
    "\n",
    "So you don't have to go through the pain of doing it manually.\n",
    "\n",
    "\n",
    "To use it in your project, see the example below. It's straightforward and saves you time and energy.\n",
    "\n",
    "Especially when you integrate `Selenium` in your CI/CD Pipeline.\n",
    "\n",
    "By default, `webdriver-manager` installs the latest version.\n",
    "\n",
    "But you can also define a specific version of the driver."
   ]
  },
  {
   "cell_type": "code",
   "execution_count": null,
   "metadata": {},
   "outputs": [],
   "source": [
    "!pip install webdriver-manager"
   ]
  },
  {
   "cell_type": "code",
   "execution_count": null,
   "metadata": {},
   "outputs": [],
   "source": [
    "# Old way\n",
    "from selenium import webdriver\n",
    "driver = webdriver.Chrome('path/to/driver.exe')\n",
    "\n",
    "# New way with webdriver-manager and Selenium 4\n",
    "from selenium import webdriver\n",
    "from selenium.webdriver.chrome.service import Service\n",
    "from webdriver_manager.chrome import ChromeDriverManager\n",
    "\n",
    "driver = webdriver.Chrome(service=Service(ChromeDriverManager().install()))\n",
    "\n",
    "# New way with webdriver-manager and Selenium 3\n",
    "from selenium import webdriver\n",
    "from webdriver_manager.chrome import ChromeDriverManager\n",
    "\n",
    "driver = webdriver.Chrome(ChromeDriverManager().install())\n",
    "\n",
    "# Use specific version\n",
    "driver = webdriver.Chrome(executable_path=ChromeDriverManager(\"<your_version>\").install())"
   ]
  },
  {
   "cell_type": "markdown",
   "metadata": {},
   "source": [
    "## Speed up your Scraping with disabling image loading "
   ]
  },
  {
   "cell_type": "markdown",
   "metadata": {},
   "source": [
    "Do you want to speed up your web scraper?\n",
    "\n",
    "Disable image loading!\n",
    "\n",
    "Disabling image loading while scraping is a great way to speed up your scraper.\n",
    "\n",
    "You are wasting a lot of connection bandwidth.\n",
    "\n",
    "To disable image loading in Selenium, you only have to set one option (like below).\n",
    "\n",
    "This will save you time and money."
   ]
  },
  {
   "cell_type": "code",
   "execution_count": null,
   "metadata": {},
   "outputs": [],
   "source": [
    "from selenium import webdriver\n",
    "\n",
    "chrome_options = webdriver.ChromeOptions()\n",
    "\n",
    "chrome_options.add_argument('--blink-settings=imagesEnabled=false')\n",
    "\n",
    "driver = webdriver.Chrome(chrome_options=chrome_options)\n",
    "driver.get(\"https://www.instagram.com/\")"
   ]
  }
 ],
 "metadata": {
  "language_info": {
   "name": "python"
  },
  "orig_nbformat": 4
 },
 "nbformat": 4,
 "nbformat_minor": 2
}
