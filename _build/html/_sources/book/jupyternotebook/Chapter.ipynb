{
 "cells": [
  {
   "attachments": {},
   "cell_type": "markdown",
   "metadata": {},
   "source": [
    "# Identify your bottleneck with `line_profiler`"
   ]
  },
  {
   "attachments": {},
   "cell_type": "markdown",
   "metadata": {},
   "source": [
    "Want to identify the bottleneck in your Python code?\n",
    "\n",
    "Try the module `line_profiler` for Python.\n",
    "\n",
    "With `line_profiler`, you will get a line-by-line profiling of your functions.\n",
    "\n",
    "So you can exactly see the execution time for every line.\n",
    "\n",
    "Below you can see how to use `line_profiler` within a Jupyter Notebook.\n",
    "\n",
    "- Use the `%load_ext` magic command to load the `line_profiler` extension.\n",
    "- Use the `%lprun` magic command to profile a specific cell or function in the notebook."
   ]
  },
  {
   "cell_type": "code",
   "execution_count": null,
   "metadata": {},
   "outputs": [],
   "source": [
    "!pip install line_profiler"
   ]
  },
  {
   "cell_type": "code",
   "execution_count": null,
   "metadata": {},
   "outputs": [],
   "source": [
    "%load_ext line_profiler\n",
    "\n",
    "def my_function(x):\n",
    "    for x in range(1, 10000):\n",
    "      x = x**2\n",
    "      x = x / 400\n",
    "    y = x + x\n",
    "    return y\n",
    "    \n",
    "%lprun -u 1e-3 -f my_function my_function(10)"
   ]
  },
  {
   "cell_type": "code",
   "execution_count": null,
   "metadata": {},
   "outputs": [],
   "source": [
    "'''\n",
    "Timer unit: 0.001 s\n",
    "\n",
    "Total time: 0.0160793 s\n",
    "File: <ipython-input-18-790da5f104f0>\n",
    "Function: my_function at line 1\n",
    "\n",
    "Line #      Hits         Time  Per Hit   % Time  Line Contents\n",
    "==============================================================\n",
    "     1                                           def my_function(x):\n",
    "     2      9999          2.6      0.0     16.3      for x in range(1, 10000):\n",
    "     3      9999          6.1      0.0     37.7        x = x**2\n",
    "     4      9999          7.4      0.0     46.1        x = x / 400\n",
    "     5         1          0.0      0.0      0.0      y = x + x\n",
    "     6         1          0.0      0.0      0.0      return y\n",
    "'''"
   ]
  },
  {
   "attachments": {},
   "cell_type": "markdown",
   "metadata": {},
   "source": [
    "# Render Live loss of Deep Learning Models in Jupyter Notebooks"
   ]
  },
  {
   "cell_type": "markdown",
   "metadata": {},
   "source": [
    "Plot your live training loss in Jupyter Notebooks with `livelossplot`.\n",
    "\n",
    "`livelossplot` lets you track your model’s training process in real time, only adding one callback. \n",
    "\n",
    "A nice alternative to TensorBoard, if you want to train a small model and visualize its progress quickly."
   ]
  },
  {
   "cell_type": "code",
   "execution_count": null,
   "metadata": {},
   "outputs": [],
   "source": [
    "!pip install livelossplot"
   ]
  },
  {
   "cell_type": "code",
   "execution_count": null,
   "metadata": {},
   "outputs": [],
   "source": [
    "from keras.datasets import mnist\n",
    "from keras.utils import to_categorical\n",
    "from keras.models import Sequential\n",
    "from keras.layers import Flatten, Dense, Activation\n",
    "\n",
    "from livelossplot import PlotLossesKeras\n",
    "\n",
    "(X_train, y_train), (X_test, y_test) = mnist.load_data()\n",
    "\n",
    "Y_train = to_categorical(y_train)\n",
    "Y_test = to_categorical(y_test)\n",
    "X_train = X_train.reshape(-1, 28, 28, 1).astype('float32') / 255.\n",
    "X_test = X_test.reshape(-1, 28, 28, 1).astype('float32') / 255.\n",
    "\n",
    "model = Sequential()\n",
    "\n",
    "model.add(Flatten(input_shape=(28, 28, 1)))\n",
    "model.add(Dense(10))\n",
    "model.add(Activation('softmax'))\n",
    "\n",
    "model.compile(optimizer='rmsprop',\n",
    "              loss='categorical_crossentropy',\n",
    "              metrics=['accuracy'])\n",
    "\n",
    "plotlosses = PlotLossesKeras()\n",
    "\n",
    "model.fit(X_train, Y_train,\n",
    "          epochs=12,\n",
    "          validation_data=(X_test, Y_test),\n",
    "          callbacks=[plotlosses],\n",
    "          verbose=False)"
   ]
  },
  {
   "attachments": {},
   "cell_type": "markdown",
   "metadata": {},
   "source": [
    "## Generate LaTeX Expressions from Python Code"
   ]
  },
  {
   "attachments": {},
   "cell_type": "markdown",
   "metadata": {},
   "source": [
    "With `latexify`, you can compile Python source code to a beautiful LaTeX expression.\n",
    "\n",
    "In a quick and easy way!\n",
    "\n",
    "Useful, when you don’t want to write the LaTeX expression by yourself."
   ]
  },
  {
   "cell_type": "code",
   "execution_count": null,
   "metadata": {},
   "outputs": [],
   "source": [
    "!pip install latexify-py"
   ]
  },
  {
   "cell_type": "code",
   "execution_count": null,
   "metadata": {},
   "outputs": [],
   "source": [
    "import latexify\n",
    "import math"
   ]
  },
  {
   "cell_type": "code",
   "execution_count": null,
   "metadata": {},
   "outputs": [],
   "source": [
    "@latexify.function\n",
    "def solve(a, b, c):\n",
    "    return (-b + math.sqrt(b**2 - 4*a*c)) / (2*a)\n",
    "\n",
    "print(solve)\n",
    "solve"
   ]
  }
 ],
 "metadata": {
  "language_info": {
   "name": "python"
  },
  "orig_nbformat": 4
 },
 "nbformat": 4,
 "nbformat_minor": 2
}
