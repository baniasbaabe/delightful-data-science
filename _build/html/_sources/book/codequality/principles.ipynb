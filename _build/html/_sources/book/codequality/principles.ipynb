{
 "cells": [
  {
   "cell_type": "markdown",
   "metadata": {},
   "source": [
    "# Principles for Code Quality"
   ]
  },
  {
   "cell_type": "markdown",
   "metadata": {},
   "source": [
    "## The Law of Demeter"
   ]
  },
  {
   "cell_type": "markdown",
   "metadata": {},
   "source": [
    "\n",
    "It's also known as the Principle of Least Knowledge, saying that an object should only communicate with its immediate neighbors, avoiding to access deeper and deeper objects.\n",
    "\n",
    "See below for a small example how we would violate and obey the Law of Demeter."
   ]
  },
  {
   "cell_type": "code",
   "execution_count": null,
   "metadata": {},
   "outputs": [],
   "source": [
    "# Bad Example\n",
    "class Department:\n",
    "    def __init__(self, manager):\n",
    "        self.manager = manager\n",
    "\n",
    "    def get_manager_name(self):\n",
    "        # Bad: Accessing a method of an object deep within the hierarchy\n",
    "        return self.manager.employee.name\n",
    "\n",
    "class Employee:\n",
    "    def __init__(self, name):\n",
    "        self.name = name\n",
    "\n",
    "class Manager:\n",
    "    def __init__(self, employee):\n",
    "        self.employee = employee\n",
    "\n",
    "# Good Example\n",
    "class Department:\n",
    "    def __init__(self, manager):\n",
    "        self.manager = manager\n",
    "    \n",
    "    def get_manager_name(self):\n",
    "        # Good: Not going deeper\n",
    "        return self.manager.get_name()\n",
    "\n",
    "class Employee:\n",
    "    def __init__(self, name):\n",
    "        self.name = name\n",
    "\n",
    "class Manager:\n",
    "    def __init__(self, employee):\n",
    "        self.employee = employee\n",
    "\n",
    "    def get_name(self):\n",
    "        return self.employee.name"
   ]
  }
 ],
 "metadata": {
  "language_info": {
   "name": "python"
  }
 },
 "nbformat": 4,
 "nbformat_minor": 2
}
