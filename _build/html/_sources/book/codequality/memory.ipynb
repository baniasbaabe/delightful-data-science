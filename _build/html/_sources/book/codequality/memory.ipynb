{
 "cells": [
  {
   "cell_type": "markdown",
   "metadata": {},
   "source": [
    "# Memory Optimization"
   ]
  },
  {
   "attachments": {},
   "cell_type": "markdown",
   "metadata": {},
   "source": [
    "## Identify your bottleneck regarding memory with `memory_profiler`"
   ]
  },
  {
   "attachments": {},
   "cell_type": "markdown",
   "metadata": {},
   "source": [
    "Want to identify which lines use the most amount of memory in your Python script?\n",
    "\n",
    "Try `memory_profiler`.\n",
    "\n",
    "`memory_profiler` is a Python module to make a line-by-line analysis of memory consumption for Python functions.\n",
    "\n",
    "Below you can see how to use `memory_profiler` within your Python script.\n",
    "\n",
    "- Decorate the function you want to profile with `@profile`.\n",
    "- Run the script by passing the option `-m memory_profiler` to load the `memory_profiler` module."
   ]
  },
  {
   "cell_type": "code",
   "execution_count": null,
   "metadata": {},
   "outputs": [],
   "source": [
    "from memory_profiler import profile\n",
    "\n",
    "@profile\n",
    "def my_func():\n",
    "    a = [1] * (10 ** 6)\n",
    "    b = [2] * (2 * 10 ** 7)\n",
    "    del b\n",
    "    return a\n",
    "\n",
    "my_func()"
   ]
  },
  {
   "cell_type": "code",
   "execution_count": null,
   "metadata": {},
   "outputs": [],
   "source": [
    "!pip install memory_profiler"
   ]
  },
  {
   "cell_type": "code",
   "execution_count": null,
   "metadata": {},
   "outputs": [],
   "source": [
    "!python -m memory_profiler memory.py"
   ]
  },
  {
   "cell_type": "code",
   "execution_count": null,
   "metadata": {},
   "outputs": [],
   "source": [
    "'''\n",
    "Line #    Mem usage    Increment  Occurrences   Line Contents\n",
    "=============================================================\n",
    "     3     41.9 MiB     41.9 MiB           1   @profile\n",
    "     4                                         def my_func():\n",
    "     5     49.5 MiB      7.6 MiB         102       a = [i**2 for i in range(1,100)] * (10**4)\n",
    "     6    194.5 MiB    145.0 MiB          22       b = [i**i for i in range(1,20)] * (10**6)\n",
    "     7    194.5 MiB      0.0 MiB           1       return a, b\n",
    "'''"
   ]
  }
 ],
 "metadata": {
  "language_info": {
   "name": "python"
  },
  "orig_nbformat": 4
 },
 "nbformat": 4,
 "nbformat_minor": 2
}
